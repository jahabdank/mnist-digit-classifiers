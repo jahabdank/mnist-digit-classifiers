{
  "nbformat": 4,
  "nbformat_minor": 0,
  "metadata": {
    "colab": {
      "name": "keras-mnist-digit-recognition.ipynb",
      "version": "0.3.2",
      "provenance": [],
      "collapsed_sections": [],
      "toc_visible": true
    },
    "kernelspec": {
      "name": "python3",
      "display_name": "Python 3"
    },
    "accelerator": "GPU"
  },
  "cells": [
    {
      "metadata": {
        "id": "wVgAbm8kAfSk",
        "colab_type": "text"
      },
      "cell_type": "markdown",
      "source": [
        "# Keras Mnist digit recognition\n",
        "\n",
        "Original inspirational Keras code example can be found [here](https://colab.research.google.com/drive/1iTGGKIfxRRrhWpQQUqHdfVMrfqkdE0un)\n",
        "\n",
        "The code uses built in keras.datasets.mnist functionality which automatically preloads all the necessary data for neural net training. Otherwise one needs to download the files and convert into numpy arrays self.\n",
        "\n",
        "#### Before running\n",
        "If running on Google Colab, remember to go to Runtime -> Change Runtime Type -> Select 'Python 3' and 'GPU'"
      ]
    },
    {
      "metadata": {
        "id": "TPcE-cf03x1G",
        "colab_type": "code",
        "outputId": "c5316ebd-1c12-4aec-e950-4c3076704ef5",
        "colab": {
          "base_uri": "https://localhost:8080/",
          "height": 34
        }
      },
      "cell_type": "code",
      "source": [
        "from __future__ import print_function\n",
        "import keras\n",
        "from keras.datasets import mnist\n",
        "from keras.models import Sequential\n",
        "from keras.layers import Dense, Dropout, Flatten, Activation\n",
        "from keras.layers import Conv2D, MaxPooling2D\n",
        "from keras import backend as K"
      ],
      "execution_count": 1,
      "outputs": [
        {
          "output_type": "stream",
          "text": [
            "Using TensorFlow backend.\n"
          ],
          "name": "stderr"
        }
      ]
    },
    {
      "metadata": {
        "id": "0r7T4rq3M3HJ",
        "colab_type": "code",
        "colab": {
          "base_uri": "https://localhost:8080/",
          "height": 34
        },
        "outputId": "a6d91df8-2532-491a-acc6-2816ad838aae"
      },
      "cell_type": "code",
      "source": [
        "import psutil\n",
        "print(f\"VM has {psutil.cpu_count()} cores, and {psutil.virtual_memory().free/1000000:.2f}MB free RAM (out of {psutil.virtual_memory().total/1000000:.2f} MB total), and {psutil.disk_usage('/').free/1000000:.2f}MB free Disk Space (out of {psutil.disk_usage('/').total/1000000:.2f} MB total)\")"
      ],
      "execution_count": 2,
      "outputs": [
        {
          "output_type": "stream",
          "text": [
            "VM has 2 cores, and 10721.63MB free RAM (out of 13655.32 MB total), and 346247.79MB free Disk Space (out of 384691.15 MB total)\n"
          ],
          "name": "stdout"
        }
      ]
    },
    {
      "metadata": {
        "id": "77gMpbC9QHsc",
        "colab_type": "code",
        "colab": {
          "base_uri": "https://localhost:8080/",
          "height": 34
        },
        "outputId": "380121ec-36a8-46b6-d7dd-750fae6bc9e1"
      },
      "cell_type": "code",
      "source": [
        "import tensorflow as tf\n",
        "device_name = tf.test.gpu_device_name()\n",
        "if device_name != '/device:GPU:0':\n",
        "  print(f'GPU device not found {device_name}')\n",
        "else:\n",
        "  print(f'Found GPU at: {device_name}')\n",
        "  \n",
        "# alternatively\n",
        "# from tensorflow.python.client import device_lib\n",
        "# device_lib.list_local_devices()"
      ],
      "execution_count": 3,
      "outputs": [
        {
          "output_type": "stream",
          "text": [
            "Found GPU at: /device:GPU:0\n"
          ],
          "name": "stdout"
        }
      ]
    },
    {
      "metadata": {
        "id": "SQ4lbw9NDmgP",
        "colab_type": "text"
      },
      "cell_type": "markdown",
      "source": [
        "## Data loading and visualisation\n",
        "\n",
        "Load data and understand the structure of it, as well as display some examples as images."
      ]
    },
    {
      "metadata": {
        "id": "vk-aKTUq37Mp",
        "colab_type": "code",
        "colab": {}
      },
      "cell_type": "code",
      "source": [
        "# This call downloads the data from https://s3.amazonaws.com/img-datasets/mnist.npz\n",
        "# and reads it as a numpy ndarray. It should be fairly easy to write such code, and thus use a different dataset.\n",
        "# Note: .npz file extensinon is a numpy matrix file created by np.savez. If one would use any other type of dataset\n",
        "# one would have to obviously download the file and load it manually into numpy arrays.\n",
        "(x_train, y_train), (x_test, y_test) = mnist.load_data()"
      ],
      "execution_count": 0,
      "outputs": []
    },
    {
      "metadata": {
        "id": "qt-tGlhYB4M5",
        "colab_type": "code",
        "colab": {
          "base_uri": "https://localhost:8080/",
          "height": 85
        },
        "outputId": "9f64bcae-cfc4-4834-afb2-7e00c7b9d10f"
      },
      "cell_type": "code",
      "source": [
        "# look at the shape and type of the data\n",
        "describeNumpyArray = lambda name, ar: print(f\"{name}: {type(ar)} of {type(ar.flatten()[0])}, with shape {ar.shape}\")\n",
        "\n",
        "describeNumpyArray('x_train', x_train)\n",
        "describeNumpyArray('y_train', y_train)\n",
        "describeNumpyArray('x_test', x_test)\n",
        "describeNumpyArray('y_test', y_test)"
      ],
      "execution_count": 5,
      "outputs": [
        {
          "output_type": "stream",
          "text": [
            "x_train: <class 'numpy.ndarray'> of <class 'numpy.uint8'>, with shape (60000, 28, 28)\n",
            "y_train: <class 'numpy.ndarray'> of <class 'numpy.uint8'>, with shape (60000,)\n",
            "x_test: <class 'numpy.ndarray'> of <class 'numpy.uint8'>, with shape (10000, 28, 28)\n",
            "y_test: <class 'numpy.ndarray'> of <class 'numpy.uint8'>, with shape (10000,)\n"
          ],
          "name": "stdout"
        }
      ]
    },
    {
      "metadata": {
        "id": "2uqiOnvOD0AJ",
        "colab_type": "code",
        "colab": {}
      },
      "cell_type": "code",
      "source": [
        " %matplotlib inline\n",
        "import matplotlib.pyplot as plt\n",
        "import numpy as np\n",
        "import pandas as pd\n",
        "\n",
        "# example of single plot\n",
        "# plt.figure(figsize=(4,4))\n",
        "# plt.grid(False)\n",
        "# plt.axis('off')\n",
        "# plt.imshow(x_train[0], cmap='gray')\n",
        "# plt.title(f\"Image of digit {y_train[0]}\")"
      ],
      "execution_count": 0,
      "outputs": []
    },
    {
      "metadata": {
        "id": "KGi_zT0grjqu",
        "colab_type": "code",
        "colab": {}
      },
      "cell_type": "code",
      "source": [
        "def plotImagesByIndex(indexes, x_set, y_set, y_pred = None):\n",
        "  image_columns = 8\n",
        "  image_rows = int(np.ceil(len(indexes)/image_columns))\n",
        "\n",
        "  fig, m_axs = plt.subplots(image_rows, image_columns, figsize = (image_columns*3, image_rows*3))\n",
        "  for i in range(0, len(indexes)):\n",
        "    current_row = int(np.floor(i/image_columns))\n",
        "    current_column = i%image_columns\n",
        "    # print((current_row, current_column))\n",
        "    m = m_axs[current_row][current_column]\n",
        "    m.imshow(x_set[indexes[i]], cmap='gray')\n",
        "    m.grid(False)\n",
        "    m.axis('off')\n",
        "    if y_pred is None:\n",
        "      m.set_title(f\"Label: {y_set[indexes[i]]}\")\n",
        "    else:\n",
        "      m.set_title(f\"Label: {y_set[indexes[i]]}, pred: {y_pred[indexes[i]]}\")"
      ],
      "execution_count": 0,
      "outputs": []
    },
    {
      "metadata": {
        "id": "9jmgpLD_S9iy",
        "colab_type": "code",
        "colab": {
          "base_uri": "https://localhost:8080/",
          "height": 715
        },
        "outputId": "1f1da396-8e27-43ec-f403-83e8f9ee2ff5"
      },
      "cell_type": "code",
      "source": [
        "# Plot the digits\n",
        "sample_size = 32\n",
        "sample_indexes = np.random.choice(len(x_train), size=sample_size, replace=False)\n",
        "\n",
        "plotImagesByIndex(sample_indexes, x_train, y_train)"
      ],
      "execution_count": 8,
      "outputs": [
        {
          "output_type": "display_data",
          "data": {
            "image/png": "[encoded data removed]",
            "text/plain": [
              "<Figure size 1728x864 with 32 Axes>"
            ]
          },
          "metadata": {
            "tags": []
          }
        }
      ]
    },
    {
      "metadata": {
        "id": "H4LmfX-Aaa9g",
        "colab_type": "text"
      },
      "cell_type": "markdown",
      "source": [
        "## Data preprocessing"
      ]
    },
    {
      "metadata": {
        "id": "1Q22VwhX38Uo",
        "colab_type": "code",
        "colab": {}
      },
      "cell_type": "code",
      "source": [
        "batch_size = 128\n",
        "num_classes = 10\n",
        "epochs = 10 # it already gets very good results after 10 epohs (> 99% accuracy on the train set), but normally one has more then 10. Originallt the value was 120"
      ],
      "execution_count": 0,
      "outputs": []
    },
    {
      "metadata": {
        "id": "3pmTy4WP39hn",
        "colab_type": "code",
        "colab": {}
      },
      "cell_type": "code",
      "source": [
        "img_rows, img_cols = 28, 28"
      ],
      "execution_count": 0,
      "outputs": []
    },
    {
      "metadata": {
        "id": "o8gBkOMke2fl",
        "colab_type": "text"
      },
      "cell_type": "markdown",
      "source": [
        "### reshaping the data with accordance on the Keras's needs\n",
        "\n",
        "As Keras takes images with n channels, and these are greyscale images (no channel array), one has to add array with channels which in this case will be of length 1 (single channel per pixel)"
      ]
    },
    {
      "metadata": {
        "id": "vKyX4Tya3-Zv",
        "colab_type": "code",
        "colab": {
          "base_uri": "https://localhost:8080/",
          "height": 34
        },
        "outputId": "be7b6a44-7f5c-41fe-e259-7beda2800997"
      },
      "cell_type": "code",
      "source": [
        "print(f\"K.image_data_format() = {K.image_data_format()}\")\n",
        "if K.image_data_format() == 'channels_first':\n",
        "    x_train_k = x_train.reshape(x_train.shape[0], 1, img_rows, img_cols)\n",
        "    x_test_k = x_test.reshape(x_test.shape[0], 1, img_rows, img_cols)\n",
        "    input_shape = (1, img_rows, img_cols)\n",
        "else:\n",
        "    x_train_k = x_train.reshape(x_train.shape[0], img_rows, img_cols, 1)\n",
        "    x_test_k = x_test.reshape(x_test.shape[0], img_rows, img_cols, 1)\n",
        "input_shape = (img_rows, img_cols, 1)\n",
        "\n",
        "# convert to float32\n",
        "x_train_k = x_train_k.astype('float32') \n",
        "x_test_k = x_test_k.astype('float32')\n",
        "\n",
        "# normalize to one\n",
        "x_train_k /= 255\n",
        "x_test_k /= 255"
      ],
      "execution_count": 11,
      "outputs": [
        {
          "output_type": "stream",
          "text": [
            "K.image_data_format() = channels_last\n"
          ],
          "name": "stdout"
        }
      ]
    },
    {
      "metadata": {
        "id": "nS6f4_3pZU9_",
        "colab_type": "code",
        "colab": {
          "base_uri": "https://localhost:8080/",
          "height": 51
        },
        "outputId": "ad0d9387-1236-465e-f365-cc9268688abe"
      },
      "cell_type": "code",
      "source": [
        "describeNumpyArray('x_train_k', x_train_k)\n",
        "describeNumpyArray('x_test_k', x_test_k)"
      ],
      "execution_count": 12,
      "outputs": [
        {
          "output_type": "stream",
          "text": [
            "x_train_k: <class 'numpy.ndarray'> of <class 'numpy.float32'>, with shape (60000, 28, 28, 1)\n",
            "x_test_k: <class 'numpy.ndarray'> of <class 'numpy.float32'>, with shape (10000, 28, 28, 1)\n"
          ],
          "name": "stdout"
        }
      ]
    },
    {
      "metadata": {
        "id": "hQMRbujdxoS1",
        "colab_type": "text"
      },
      "cell_type": "markdown",
      "source": [
        "### applying One Hot encoding to the output labels\n",
        "[Wiki One-Hot Encoder](https://en.wikipedia.org/wiki/One-hot)\n",
        "\n",
        "Converts a single labelled column into a vector of true/false columns saying true/false for each of the possibilities.\n",
        "\n",
        "Example of encoding\n",
        "* A color column with values: 'red', 'green', 'yellow'\n",
        "* example: ['green', 'red', 'green', 'yellow']\n",
        "\n",
        "Is encoded into:\n",
        "* [[0 ,1, 0], [1 ,0, 0], [0 ,1, 0], [0, 0, 1]]\n",
        "\n",
        "#### Note:\n",
        "Some One-hot encoders could encode it into:\n",
        "* [[0 ,1], [1 ,0], [0 ,1], [0, 0]]\n",
        "with 'yellow' is encoded into [0,0], but not this one."
      ]
    },
    {
      "metadata": {
        "id": "tczq1zJJ4Bd0",
        "colab_type": "code",
        "colab": {}
      },
      "cell_type": "code",
      "source": [
        "# One hot encoding\n",
        "y_train_k = keras.utils.to_categorical(y_train, num_classes)\n",
        "y_test_k = keras.utils.to_categorical(y_test, num_classes)"
      ],
      "execution_count": 0,
      "outputs": []
    },
    {
      "metadata": {
        "id": "hDtsYch8btN6",
        "colab_type": "code",
        "colab": {
          "base_uri": "https://localhost:8080/",
          "height": 51
        },
        "outputId": "2084a698-d3a6-492b-e67d-53cd9c2ff70b"
      },
      "cell_type": "code",
      "source": [
        "describeNumpyArray('y_train_k', y_train_k)\n",
        "describeNumpyArray('y_test_k', y_test_k)"
      ],
      "execution_count": 14,
      "outputs": [
        {
          "output_type": "stream",
          "text": [
            "y_train_k: <class 'numpy.ndarray'> of <class 'numpy.float32'>, with shape (60000, 10)\n",
            "y_test_k: <class 'numpy.ndarray'> of <class 'numpy.float32'>, with shape (10000, 10)\n"
          ],
          "name": "stdout"
        }
      ]
    },
    {
      "metadata": {
        "id": "Kd-HjrJjb5jH",
        "colab_type": "code",
        "colab": {
          "base_uri": "https://localhost:8080/",
          "height": 297
        },
        "outputId": "9c67b6da-bb4e-49d7-9c55-a8646fbe08c0"
      },
      "cell_type": "code",
      "source": [
        "# just to visualize the output vectors after one hot encoding\n",
        "y_train_k_df = pd.DataFrame(y_train_k[0:8])\n",
        "y_train_k_df[\"OriginalLabel\"] = y_train[y_train_k_df.index]\n",
        "y_train_k_df"
      ],
      "execution_count": 15,
      "outputs": [
        {
          "output_type": "execute_result",
          "data": {
            "text/html": [
              "<div>\n",
              "<style scoped>\n",
              "    .dataframe tbody tr th:only-of-type {\n",
              "        vertical-align: middle;\n",
              "    }\n",
              "\n",
              "    .dataframe tbody tr th {\n",
              "        vertical-align: top;\n",
              "    }\n",
              "\n",
              "    .dataframe thead th {\n",
              "        text-align: right;\n",
              "    }\n",
              "</style>\n",
              "<table border=\"1\" class=\"dataframe\">\n",
              "  <thead>\n",
              "    <tr style=\"text-align: right;\">\n",
              "      <th></th>\n",
              "      <th>0</th>\n",
              "      <th>1</th>\n",
              "      <th>2</th>\n",
              "      <th>3</th>\n",
              "      <th>4</th>\n",
              "      <th>5</th>\n",
              "      <th>6</th>\n",
              "      <th>7</th>\n",
              "      <th>8</th>\n",
              "      <th>9</th>\n",
              "      <th>OriginalLabel</th>\n",
              "    </tr>\n",
              "  </thead>\n",
              "  <tbody>\n",
              "    <tr>\n",
              "      <th>0</th>\n",
              "      <td>0.0</td>\n",
              "      <td>0.0</td>\n",
              "      <td>0.0</td>\n",
              "      <td>0.0</td>\n",
              "      <td>0.0</td>\n",
              "      <td>1.0</td>\n",
              "      <td>0.0</td>\n",
              "      <td>0.0</td>\n",
              "      <td>0.0</td>\n",
              "      <td>0.0</td>\n",
              "      <td>5</td>\n",
              "    </tr>\n",
              "    <tr>\n",
              "      <th>1</th>\n",
              "      <td>1.0</td>\n",
              "      <td>0.0</td>\n",
              "      <td>0.0</td>\n",
              "      <td>0.0</td>\n",
              "      <td>0.0</td>\n",
              "      <td>0.0</td>\n",
              "      <td>0.0</td>\n",
              "      <td>0.0</td>\n",
              "      <td>0.0</td>\n",
              "      <td>0.0</td>\n",
              "      <td>0</td>\n",
              "    </tr>\n",
              "    <tr>\n",
              "      <th>2</th>\n",
              "      <td>0.0</td>\n",
              "      <td>0.0</td>\n",
              "      <td>0.0</td>\n",
              "      <td>0.0</td>\n",
              "      <td>1.0</td>\n",
              "      <td>0.0</td>\n",
              "      <td>0.0</td>\n",
              "      <td>0.0</td>\n",
              "      <td>0.0</td>\n",
              "      <td>0.0</td>\n",
              "      <td>4</td>\n",
              "    </tr>\n",
              "    <tr>\n",
              "      <th>3</th>\n",
              "      <td>0.0</td>\n",
              "      <td>1.0</td>\n",
              "      <td>0.0</td>\n",
              "      <td>0.0</td>\n",
              "      <td>0.0</td>\n",
              "      <td>0.0</td>\n",
              "      <td>0.0</td>\n",
              "      <td>0.0</td>\n",
              "      <td>0.0</td>\n",
              "      <td>0.0</td>\n",
              "      <td>1</td>\n",
              "    </tr>\n",
              "    <tr>\n",
              "      <th>4</th>\n",
              "      <td>0.0</td>\n",
              "      <td>0.0</td>\n",
              "      <td>0.0</td>\n",
              "      <td>0.0</td>\n",
              "      <td>0.0</td>\n",
              "      <td>0.0</td>\n",
              "      <td>0.0</td>\n",
              "      <td>0.0</td>\n",
              "      <td>0.0</td>\n",
              "      <td>1.0</td>\n",
              "      <td>9</td>\n",
              "    </tr>\n",
              "    <tr>\n",
              "      <th>5</th>\n",
              "      <td>0.0</td>\n",
              "      <td>0.0</td>\n",
              "      <td>1.0</td>\n",
              "      <td>0.0</td>\n",
              "      <td>0.0</td>\n",
              "      <td>0.0</td>\n",
              "      <td>0.0</td>\n",
              "      <td>0.0</td>\n",
              "      <td>0.0</td>\n",
              "      <td>0.0</td>\n",
              "      <td>2</td>\n",
              "    </tr>\n",
              "    <tr>\n",
              "      <th>6</th>\n",
              "      <td>0.0</td>\n",
              "      <td>1.0</td>\n",
              "      <td>0.0</td>\n",
              "      <td>0.0</td>\n",
              "      <td>0.0</td>\n",
              "      <td>0.0</td>\n",
              "      <td>0.0</td>\n",
              "      <td>0.0</td>\n",
              "      <td>0.0</td>\n",
              "      <td>0.0</td>\n",
              "      <td>1</td>\n",
              "    </tr>\n",
              "    <tr>\n",
              "      <th>7</th>\n",
              "      <td>0.0</td>\n",
              "      <td>0.0</td>\n",
              "      <td>0.0</td>\n",
              "      <td>1.0</td>\n",
              "      <td>0.0</td>\n",
              "      <td>0.0</td>\n",
              "      <td>0.0</td>\n",
              "      <td>0.0</td>\n",
              "      <td>0.0</td>\n",
              "      <td>0.0</td>\n",
              "      <td>3</td>\n",
              "    </tr>\n",
              "  </tbody>\n",
              "</table>\n",
              "</div>"
            ],
            "text/plain": [
              "     0    1    2    3    4    5    6    7    8    9  OriginalLabel\n",
              "0  0.0  0.0  0.0  0.0  0.0  1.0  0.0  0.0  0.0  0.0              5\n",
              "1  1.0  0.0  0.0  0.0  0.0  0.0  0.0  0.0  0.0  0.0              0\n",
              "2  0.0  0.0  0.0  0.0  1.0  0.0  0.0  0.0  0.0  0.0              4\n",
              "3  0.0  1.0  0.0  0.0  0.0  0.0  0.0  0.0  0.0  0.0              1\n",
              "4  0.0  0.0  0.0  0.0  0.0  0.0  0.0  0.0  0.0  1.0              9\n",
              "5  0.0  0.0  1.0  0.0  0.0  0.0  0.0  0.0  0.0  0.0              2\n",
              "6  0.0  1.0  0.0  0.0  0.0  0.0  0.0  0.0  0.0  0.0              1\n",
              "7  0.0  0.0  0.0  1.0  0.0  0.0  0.0  0.0  0.0  0.0              3"
            ]
          },
          "metadata": {
            "tags": []
          },
          "execution_count": 15
        }
      ]
    },
    {
      "metadata": {
        "id": "fytNaqPMy0uf",
        "colab_type": "text"
      },
      "cell_type": "markdown",
      "source": [
        "## Creating the CNN"
      ]
    },
    {
      "metadata": {
        "id": "uUShWbV24C4R",
        "colab_type": "code",
        "colab": {}
      },
      "cell_type": "code",
      "source": [
        "model = Sequential()"
      ],
      "execution_count": 0,
      "outputs": []
    },
    {
      "metadata": {
        "id": "bEzSoYEB4EOl",
        "colab_type": "code",
        "colab": {}
      },
      "cell_type": "code",
      "source": [
        "import tensorflow as tf "
      ],
      "execution_count": 0,
      "outputs": []
    },
    {
      "metadata": {
        "id": "eR3qIzvRy4jy",
        "colab_type": "text"
      },
      "cell_type": "markdown",
      "source": [
        "### adding layers to the CNN\n",
        "\n",
        "Read more:\n",
        "* [CNN Wiki](https://en.wikipedia.org/wiki/Convolutional_neural_network)\n",
        "* [Relu Activation Function - Wiki](https://en.wikipedia.org/wiki/Rectifier_(neural_networks)"
      ]
    },
    {
      "metadata": {
        "id": "p5P1W5284GnQ",
        "colab_type": "code",
        "outputId": "b114ffde-1744-4def-e485-cf3f27e15d4d",
        "colab": {
          "base_uri": "https://localhost:8080/",
          "height": 71
        }
      },
      "cell_type": "code",
      "source": [
        "model.add(Conv2D(32, kernel_size=(3, 3), activation='relu', input_shape=input_shape))\n",
        "model.add(Conv2D(64, (3, 3), activation='relu'))\n",
        "model.add(Conv2D(128, (3, 3), activation='relu'))\n",
        "model.add(MaxPooling2D(pool_size=(2, 2)))\n",
        "model.add(Dropout(0.25))\n",
        "model.add(Flatten())\n",
        "model.add(Dense(128, activation='relu'))\n",
        "model.add(Dropout(0.5))\n",
        "model.add(Dense(num_classes, activation=Activation(tf.nn.softmax)))"
      ],
      "execution_count": 18,
      "outputs": [
        {
          "output_type": "stream",
          "text": [
            "/usr/local/lib/python3.6/dist-packages/keras/activations.py:211: UserWarning: Do not pass a layer instance (such as Activation) as the activation argument of another layer. Instead, advanced activation layers should be used just like any other layer in a model.\n",
            "  identifier=identifier.__class__.__name__))\n"
          ],
          "name": "stderr"
        }
      ]
    },
    {
      "metadata": {
        "id": "uJxeGY6wy9SY",
        "colab_type": "text"
      },
      "cell_type": "markdown",
      "source": [
        "### compiling the model"
      ]
    },
    {
      "metadata": {
        "id": "xf9mmKWK4QMh",
        "colab_type": "code",
        "colab": {}
      },
      "cell_type": "code",
      "source": [
        "model.compile(loss=keras.losses.categorical_crossentropy, optimizer=keras.optimizers.Adadelta(),\n",
        "metrics=['accuracy'])"
      ],
      "execution_count": 0,
      "outputs": []
    },
    {
      "metadata": {
        "id": "W1o7VFdvzCcY",
        "colab_type": "text"
      },
      "cell_type": "markdown",
      "source": [
        "### training the model"
      ]
    },
    {
      "metadata": {
        "id": "hRMGGn5g4RdW",
        "colab_type": "code",
        "outputId": "148af37f-4586-43d3-f106-c5304145c41a",
        "colab": {
          "base_uri": "https://localhost:8080/",
          "height": 391
        }
      },
      "cell_type": "code",
      "source": [
        "model.fit(x_train_k, y_train_k,\n",
        "          batch_size=batch_size,\n",
        "          epochs=epochs,\n",
        "          verbose=1,\n",
        "          validation_data=(x_test_k, y_test_k))"
      ],
      "execution_count": 20,
      "outputs": [
        {
          "output_type": "stream",
          "text": [
            "Train on 60000 samples, validate on 10000 samples\n",
            "Epoch 1/10\n",
            "60000/60000 [==============================] - 19s 309us/step - loss: 0.2536 - acc: 0.9227 - val_loss: 0.0625 - val_acc: 0.9795\n",
            "Epoch 2/10\n",
            "60000/60000 [==============================] - 17s 282us/step - loss: 0.0765 - acc: 0.9777 - val_loss: 0.0349 - val_acc: 0.9881\n",
            "Epoch 3/10\n",
            "60000/60000 [==============================] - 17s 282us/step - loss: 0.0584 - acc: 0.9830 - val_loss: 0.0332 - val_acc: 0.9877\n",
            "Epoch 4/10\n",
            "60000/60000 [==============================] - 17s 283us/step - loss: 0.0454 - acc: 0.9867 - val_loss: 0.0301 - val_acc: 0.9898\n",
            "Epoch 5/10\n",
            "60000/60000 [==============================] - 17s 282us/step - loss: 0.0397 - acc: 0.9884 - val_loss: 0.0268 - val_acc: 0.9905\n",
            "Epoch 6/10\n",
            "60000/60000 [==============================] - 17s 282us/step - loss: 0.0346 - acc: 0.9898 - val_loss: 0.0295 - val_acc: 0.9908\n",
            "Epoch 7/10\n",
            "60000/60000 [==============================] - 17s 283us/step - loss: 0.0302 - acc: 0.9908 - val_loss: 0.0274 - val_acc: 0.9912\n",
            "Epoch 8/10\n",
            "60000/60000 [==============================] - 17s 282us/step - loss: 0.0274 - acc: 0.9924 - val_loss: 0.0236 - val_acc: 0.9924\n",
            "Epoch 9/10\n",
            "60000/60000 [==============================] - 17s 283us/step - loss: 0.0247 - acc: 0.9925 - val_loss: 0.0259 - val_acc: 0.9913\n",
            "Epoch 10/10\n",
            "60000/60000 [==============================] - 17s 282us/step - loss: 0.0218 - acc: 0.9931 - val_loss: 0.0297 - val_acc: 0.9908\n"
          ],
          "name": "stdout"
        },
        {
          "output_type": "execute_result",
          "data": {
            "text/plain": [
              "<keras.callbacks.History at 0x7f563d2e84a8>"
            ]
          },
          "metadata": {
            "tags": []
          },
          "execution_count": 20
        }
      ]
    },
    {
      "metadata": {
        "id": "8-WslSWtwpCB",
        "colab_type": "text"
      },
      "cell_type": "markdown",
      "source": [
        "#### TODO: add saving and loading the model to google drive"
      ]
    },
    {
      "metadata": {
        "id": "bUFlA5EvzFDB",
        "colab_type": "text"
      },
      "cell_type": "markdown",
      "source": [
        "### evaulating and viewing the result"
      ]
    },
    {
      "metadata": {
        "id": "R6U6JC6Z4Scj",
        "colab_type": "code",
        "outputId": "06acfe17-c424-4693-a766-e9b725d05fa2",
        "colab": {
          "base_uri": "https://localhost:8080/",
          "height": 51
        }
      },
      "cell_type": "code",
      "source": [
        "score = model.evaluate(x_test_k, y_test_k, verbose=0)\n",
        "print('Test loss:', score[0])\n",
        "print('Test accuracy:', score[1])"
      ],
      "execution_count": 21,
      "outputs": [
        {
          "output_type": "stream",
          "text": [
            "Test loss: 0.029693707329071548\n",
            "Test accuracy: 0.9908\n"
          ],
          "name": "stdout"
        }
      ]
    },
    {
      "metadata": {
        "id": "kmOm_dDFojM3",
        "colab_type": "code",
        "colab": {}
      },
      "cell_type": "code",
      "source": [
        "pred = model.predict(x_test_k, verbose=0)\n",
        "# as predictions are probabilities from 0 to 1 (but rarely exactly these values) one must apply decision threshold\n",
        "# np.round applies a decision threshold at 0.5\n",
        "pred_classified = np.round(pred)\n",
        "\n",
        "# reverse One-Hot encoder. Note that it is not always that trivial :)\n",
        "# it only works this time because the index of the column is the same as the value before the encoding\n",
        "# in normal cases one has to train One-Hot encoder and the reverse it\n",
        "pred_label = np.argmax(pred_classified, axis=1)"
      ],
      "execution_count": 0,
      "outputs": []
    },
    {
      "metadata": {
        "id": "GtUwoxSdlZqu",
        "colab_type": "code",
        "colab": {
          "base_uri": "https://localhost:8080/",
          "height": 85
        },
        "outputId": "3f00aa59-5a09-4936-c813-5ba9397d74e3"
      },
      "cell_type": "code",
      "source": [
        "describeNumpyArray('x_test_k', y_test_k)\n",
        "describeNumpyArray('pred', pred)\n",
        "describeNumpyArray('pred_classified', pred_classified)\n",
        "describeNumpyArray('pred_label', pred_label)"
      ],
      "execution_count": 23,
      "outputs": [
        {
          "output_type": "stream",
          "text": [
            "x_test_k: <class 'numpy.ndarray'> of <class 'numpy.float32'>, with shape (10000, 10)\n",
            "pred: <class 'numpy.ndarray'> of <class 'numpy.float32'>, with shape (10000, 10)\n",
            "pred_classified: <class 'numpy.ndarray'> of <class 'numpy.float32'>, with shape (10000, 10)\n",
            "pred_label: <class 'numpy.ndarray'> of <class 'numpy.int64'>, with shape (10000,)\n"
          ],
          "name": "stdout"
        }
      ]
    },
    {
      "metadata": {
        "id": "I_feSdjCmgFA",
        "colab_type": "code",
        "colab": {}
      },
      "cell_type": "code",
      "source": [
        "# find all indexes where the classification does not match the actual label \n",
        "# read anout np.all and np.any\n",
        "misclasified_indexes = np.where((y_test_k != pred_classified).any(axis=1))[0]\n",
        "clasified_indexes = np.where((y_test_k == pred_classified).all(axis=1))[0]"
      ],
      "execution_count": 0,
      "outputs": []
    },
    {
      "metadata": {
        "id": "EzSgBRhSm0uO",
        "colab_type": "code",
        "colab": {
          "base_uri": "https://localhost:8080/",
          "height": 715
        },
        "outputId": "0384edd8-7180-46d1-ae5b-43f6256aa3b9"
      },
      "cell_type": "code",
      "source": [
        "# Plot correctly classified indexes\n",
        "plotImagesByIndex(clasified_indexes[np.random.choice(len(clasified_indexes), size=sample_size, replace=False)], x_test, y_test, pred_label)"
      ],
      "execution_count": 25,
      "outputs": [
        {
          "output_type": "display_data",
          "data": {
            "image/png": "[encoded data removed]",
            "text/plain": [
              "<Figure size 1728x864 with 32 Axes>"
            ]
          },
          "metadata": {
            "tags": []
          }
        }
      ]
    },
    {
      "metadata": {
        "id": "ibwL_z83oqOA",
        "colab_type": "code",
        "colab": {
          "base_uri": "https://localhost:8080/",
          "height": 715
        },
        "outputId": "5e08778e-8d19-40fc-9a64-4ccded041d25"
      },
      "cell_type": "code",
      "source": [
        "# Plot correctly classified indexes\n",
        "plotImagesByIndex(misclasified_indexes[np.random.choice(len(misclasified_indexes), size=sample_size, replace=False)], x_test, y_test, pred_label)"
      ],
      "execution_count": 26,
      "outputs": [
        {
          "output_type": "display_data",
          "data": {
            "image/png": "[encoded data removed]",
            "text/plain": [
              "<Figure size 1728x864 with 32 Axes>"
            ]
          },
          "metadata": {
            "tags": []
          }
        }
      ]
    },
    {
      "metadata": {
        "id": "X2FsHB3PwIcl",
        "colab_type": "code",
        "colab": {}
      },
      "cell_type": "code",
      "source": [
        ""
      ],
      "execution_count": 0,
      "outputs": []
    }
  ]
}