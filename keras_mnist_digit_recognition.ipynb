{
  "nbformat": 4,
  "nbformat_minor": 0,
  "metadata": {
    "colab": {
      "name": "keras-mnist-digit-recognition.ipynb",
      "version": "0.3.2",
      "provenance": [],
      "collapsed_sections": [],
      "toc_visible": true,
      "include_colab_link": true
    },
    "kernelspec": {
      "name": "python3",
      "display_name": "Python 3"
    },
    "accelerator": "GPU"
  },
  "cells": [
    {
      "cell_type": "markdown",
      "metadata": {
        "id": "view-in-github",
        "colab_type": "text"
      },
      "source": [
        "<a href=\"https://colab.research.google.com/github/jahabdank/mnist-digit-classifiers/blob/master/keras_mnist_digit_recognition.ipynb\" target=\"_parent\"><img src=\"https://colab.research.google.com/assets/colab-badge.svg\" alt=\"Open In Colab\"/></a>"
      ]
    },
    {
      "metadata": {
        "id": "wVgAbm8kAfSk",
        "colab_type": "text"
      },
      "cell_type": "markdown",
      "source": [
        "# Keras Mnist digit recognition\n",
        "\n",
        "Original inspirational Keras code example can be found [here](https://colab.research.google.com/github/csc-training/intro-to-dl/blob/master/day1/keras-mnist-cnn.ipynb#scrollTo=NkU7zrUm_307) and [here](https://colab.research.google.com/drive/1iTGGKIfxRRrhWpQQUqHdfVMrfqkdE0un)\n",
        "\n",
        "The code uses built in keras.datasets.mnist functionality which automatically preloads all the necessary data for neural net training. Otherwise one needs to download the files and convert into numpy arrays self.\n",
        "\n",
        "#### Before running\n",
        "If running on Google Colab, remember to go to Runtime -> Change Runtime Type -> Select 'Python 3' and 'GPU'"
      ]
    },
    {
      "metadata": {
        "id": "TPcE-cf03x1G",
        "colab_type": "code",
        "outputId": "a15c5cdd-fa01-4fdb-9c7e-e6e8e4eb6ba2",
        "colab": {
          "base_uri": "https://localhost:8080/",
          "height": 34
        }
      },
      "cell_type": "code",
      "source": [
        "from __future__ import print_function\n",
        "import keras\n",
        "from keras.datasets import mnist\n",
        "from keras.models import Sequential\n",
        "from keras.layers import Dense, Dropout, Flatten, Activation\n",
        "from keras.layers import Conv2D, MaxPooling2D\n",
        "from keras import backend as K"
      ],
      "execution_count": 1,
      "outputs": [
        {
          "output_type": "stream",
          "text": [
            "Using TensorFlow backend.\n"
          ],
          "name": "stderr"
        }
      ]
    },
    {
      "metadata": {
        "id": "0r7T4rq3M3HJ",
        "colab_type": "code",
        "colab": {
          "base_uri": "https://localhost:8080/",
          "height": 34
        },
        "outputId": "95d1d187-0f7b-4b08-9819-1bbe250a9a74"
      },
      "cell_type": "code",
      "source": [
        "import psutil\n",
        "print(f\"VM has {psutil.cpu_count()} cores, and {psutil.virtual_memory().free/1000000:.2f}MB free RAM (out of {psutil.virtual_memory().total/1000000:.2f} MB total), and {psutil.disk_usage('/').free/1000000:.2f}MB free Disk Space (out of {psutil.disk_usage('/').total/1000000:.2f} MB total)\")"
      ],
      "execution_count": 2,
      "outputs": [
        {
          "output_type": "stream",
          "text": [
            "VM has 2 cores, and 9534.07MB free RAM (out of 13655.32 MB total), and 346247.93MB free Disk Space (out of 384691.15 MB total)\n"
          ],
          "name": "stdout"
        }
      ]
    },
    {
      "metadata": {
        "id": "77gMpbC9QHsc",
        "colab_type": "code",
        "colab": {
          "base_uri": "https://localhost:8080/",
          "height": 34
        },
        "outputId": "bfb202cc-56a4-41bf-dffc-c84b28d724e3"
      },
      "cell_type": "code",
      "source": [
        "import tensorflow as tf\n",
        "device_name = tf.test.gpu_device_name()\n",
        "if device_name != '/device:GPU:0':\n",
        "  print(f'GPU device not found {device_name}')\n",
        "else:\n",
        "  print(f'Found GPU at: {device_name}')\n",
        "  \n",
        "# alternatively\n",
        "# from tensorflow.python.client import device_lib\n",
        "# device_lib.list_local_devices()"
      ],
      "execution_count": 3,
      "outputs": [
        {
          "output_type": "stream",
          "text": [
            "Found GPU at: /device:GPU:0\n"
          ],
          "name": "stdout"
        }
      ]
    },
    {
      "metadata": {
        "id": "SQ4lbw9NDmgP",
        "colab_type": "text"
      },
      "cell_type": "markdown",
      "source": [
        "## Data loading and visualisation\n",
        "\n",
        "Load data and understand the structure of it, as well as display some examples as images."
      ]
    },
    {
      "metadata": {
        "id": "vk-aKTUq37Mp",
        "colab_type": "code",
        "colab": {}
      },
      "cell_type": "code",
      "source": [
        "# This call downloads the data from https://s3.amazonaws.com/img-datasets/mnist.npz\n",
        "# and reads it as a numpy ndarray. It should be fairly easy to write such code, and thus use a different dataset.\n",
        "# Note: .npz file extensinon is a numpy matrix file created by np.savez. If one would use any other type of dataset\n",
        "# one would have to obviously download the file and load it manually into numpy arrays.\n",
        "(x_train, y_train), (x_test, y_test) = mnist.load_data()"
      ],
      "execution_count": 0,
      "outputs": []
    },
    {
      "metadata": {
        "id": "qt-tGlhYB4M5",
        "colab_type": "code",
        "colab": {
          "base_uri": "https://localhost:8080/",
          "height": 85
        },
        "outputId": "99bd4f67-5673-470e-edfe-ff753b0a73a7"
      },
      "cell_type": "code",
      "source": [
        "# look at the shape and type of the data\n",
        "describeNumpyArray = lambda name, ar: print(f\"{name}: {type(ar)} of {type(ar.flatten()[0])}, with shape {ar.shape}\")\n",
        "\n",
        "describeNumpyArray('x_train', x_train)\n",
        "describeNumpyArray('y_train', y_train)\n",
        "describeNumpyArray('x_test', x_test)\n",
        "describeNumpyArray('y_test', y_test)"
      ],
      "execution_count": 5,
      "outputs": [
        {
          "output_type": "stream",
          "text": [
            "x_train: <class 'numpy.ndarray'> of <class 'numpy.uint8'>, with shape (60000, 28, 28)\n",
            "y_train: <class 'numpy.ndarray'> of <class 'numpy.uint8'>, with shape (60000,)\n",
            "x_test: <class 'numpy.ndarray'> of <class 'numpy.uint8'>, with shape (10000, 28, 28)\n",
            "y_test: <class 'numpy.ndarray'> of <class 'numpy.uint8'>, with shape (10000,)\n"
          ],
          "name": "stdout"
        }
      ]
    },
    {
      "metadata": {
        "id": "2uqiOnvOD0AJ",
        "colab_type": "code",
        "colab": {}
      },
      "cell_type": "code",
      "source": [
        " %matplotlib inline\n",
        "import matplotlib.pyplot as plt\n",
        "import numpy as np\n",
        "import pandas as pd\n",
        "\n",
        "# example of single plot\n",
        "# plt.figure(figsize=(4,4))\n",
        "# plt.grid(False)\n",
        "# plt.axis('off')\n",
        "# plt.imshow(x_train[0], cmap='gray')\n",
        "# plt.title(f\"Image of digit {y_train[0]}\")"
      ],
      "execution_count": 0,
      "outputs": []
    },
    {
      "metadata": {
        "id": "KGi_zT0grjqu",
        "colab_type": "code",
        "colab": {}
      },
      "cell_type": "code",
      "source": [
        "def plotImagesByIndex(indexes, x_set, y_set, y_pred = None):\n",
        "  image_columns = 8\n",
        "  image_rows = int(np.ceil(len(indexes)/image_columns))\n",
        "\n",
        "  fig, m_axs = plt.subplots(image_rows, image_columns, figsize = (image_columns*3, image_rows*3))\n",
        "  for i in range(0, len(indexes)):\n",
        "    current_row = int(np.floor(i/image_columns))\n",
        "    current_column = i%image_columns\n",
        "    # print((current_row, current_column))\n",
        "    m = m_axs[current_row][current_column]\n",
        "    m.imshow(x_set[indexes[i]], cmap='gray')\n",
        "    m.grid(False)\n",
        "    m.axis('off')\n",
        "    if y_pred is None:\n",
        "      m.set_title(f\"Label: {y_set[indexes[i]]}\")\n",
        "    else:\n",
        "      m.set_title(f\"Label: {y_set[indexes[i]]}, pred: {y_pred[indexes[i]]}\")"
      ],
      "execution_count": 0,
      "outputs": []
    },
    {
      "metadata": {
        "id": "9jmgpLD_S9iy",
        "colab_type": "code",
        "colab": {
          "base_uri": "https://localhost:8080/",
          "height": 715
        },
        "outputId": "804168df-2e8d-406c-c7de-f235ea6f295a"
      },
      "cell_type": "code",
      "source": [
        "# Plot the digits\n",
        "sample_size = 32\n",
        "sample_indexes = np.random.choice(len(x_train), size=sample_size, replace=False)\n",
        "\n",
        "plotImagesByIndex(sample_indexes, x_train, y_train)"
      ],
      "execution_count": 8,
      "outputs": [
        {
          "output_type": "display_data",
          "data": {
            "image/png": "[encoded data removed]",
            "text/plain": [
              "<Figure size 1728x864 with 32 Axes>"
            ]
          },
          "metadata": {
            "tags": []
          }
        }
      ]
    },
    {
      "metadata": {
        "id": "H4LmfX-Aaa9g",
        "colab_type": "text"
      },
      "cell_type": "markdown",
      "source": [
        "## Data preprocessing"
      ]
    },
    {
      "metadata": {
        "id": "1Q22VwhX38Uo",
        "colab_type": "code",
        "colab": {}
      },
      "cell_type": "code",
      "source": [
        "batch_size = 128\n",
        "num_classes = 10\n",
        "epochs = 10 # it already gets very good results after 10 epohs (> 99% accuracy on the train set), but normally one has more then 10. Originallt the value was 120"
      ],
      "execution_count": 0,
      "outputs": []
    },
    {
      "metadata": {
        "id": "3pmTy4WP39hn",
        "colab_type": "code",
        "colab": {}
      },
      "cell_type": "code",
      "source": [
        "img_rows, img_cols = 28, 28"
      ],
      "execution_count": 0,
      "outputs": []
    },
    {
      "metadata": {
        "id": "o8gBkOMke2fl",
        "colab_type": "text"
      },
      "cell_type": "markdown",
      "source": [
        "### reshaping the data with accordance on the Keras's needs\n",
        "\n",
        "As Keras takes images with n channels, and these are greyscale images (no channel array), one has to add array with channels which in this case will be of length 1 (single channel per pixel)"
      ]
    },
    {
      "metadata": {
        "id": "vKyX4Tya3-Zv",
        "colab_type": "code",
        "colab": {
          "base_uri": "https://localhost:8080/",
          "height": 34
        },
        "outputId": "585d4a5f-cab8-48c6-f4c3-655332135f69"
      },
      "cell_type": "code",
      "source": [
        "print(f\"K.image_data_format() = {K.image_data_format()}\")\n",
        "if K.image_data_format() == 'channels_first':\n",
        "    x_train_k = x_train.reshape(x_train.shape[0], 1, img_rows, img_cols)\n",
        "    x_test_k = x_test.reshape(x_test.shape[0], 1, img_rows, img_cols)\n",
        "    input_shape = (1, img_rows, img_cols)\n",
        "else:\n",
        "    x_train_k = x_train.reshape(x_train.shape[0], img_rows, img_cols, 1)\n",
        "    x_test_k = x_test.reshape(x_test.shape[0], img_rows, img_cols, 1)\n",
        "input_shape = (img_rows, img_cols, 1)\n",
        "\n",
        "# convert to float32\n",
        "x_train_k = x_train_k.astype('float32') \n",
        "x_test_k = x_test_k.astype('float32')\n",
        "\n",
        "# normalize to one\n",
        "x_train_k /= 255\n",
        "x_test_k /= 255"
      ],
      "execution_count": 11,
      "outputs": [
        {
          "output_type": "stream",
          "text": [
            "K.image_data_format() = channels_last\n"
          ],
          "name": "stdout"
        }
      ]
    },
    {
      "metadata": {
        "id": "nS6f4_3pZU9_",
        "colab_type": "code",
        "colab": {
          "base_uri": "https://localhost:8080/",
          "height": 51
        },
        "outputId": "71f082a3-6c17-4ae5-8a3d-cff9cc8839a8"
      },
      "cell_type": "code",
      "source": [
        "describeNumpyArray('x_train_k', x_train_k)\n",
        "describeNumpyArray('x_test_k', x_test_k)"
      ],
      "execution_count": 12,
      "outputs": [
        {
          "output_type": "stream",
          "text": [
            "x_train_k: <class 'numpy.ndarray'> of <class 'numpy.float32'>, with shape (60000, 28, 28, 1)\n",
            "x_test_k: <class 'numpy.ndarray'> of <class 'numpy.float32'>, with shape (10000, 28, 28, 1)\n"
          ],
          "name": "stdout"
        }
      ]
    },
    {
      "metadata": {
        "id": "hQMRbujdxoS1",
        "colab_type": "text"
      },
      "cell_type": "markdown",
      "source": [
        "### applying One Hot encoding to the output labels\n",
        "[Wiki One-Hot Encoder](https://en.wikipedia.org/wiki/One-hot)\n",
        "\n",
        "Converts a single labelled column into a vector of true/false columns saying true/false for each of the possibilities.\n",
        "\n",
        "Example of encoding\n",
        "* A color column with values: 'red', 'green', 'yellow'\n",
        "* example: ['green', 'red', 'green', 'yellow']\n",
        "\n",
        "Is encoded into:\n",
        "* [[0 ,1, 0], [1 ,0, 0], [0 ,1, 0], [0, 0, 1]]\n",
        "\n",
        "#### Note:\n",
        "Some One-hot encoders could encode it into:\n",
        "* [[0 ,1], [1 ,0], [0 ,1], [0, 0]]\n",
        "with 'yellow' is encoded into [0,0], but not this one."
      ]
    },
    {
      "metadata": {
        "id": "tczq1zJJ4Bd0",
        "colab_type": "code",
        "colab": {}
      },
      "cell_type": "code",
      "source": [
        "# One hot encoding\n",
        "y_train_k = keras.utils.to_categorical(y_train, num_classes)\n",
        "y_test_k = keras.utils.to_categorical(y_test, num_classes)"
      ],
      "execution_count": 0,
      "outputs": []
    },
    {
      "metadata": {
        "id": "hDtsYch8btN6",
        "colab_type": "code",
        "colab": {
          "base_uri": "https://localhost:8080/",
          "height": 51
        },
        "outputId": "20399a10-b290-485e-931c-23fee18edbc9"
      },
      "cell_type": "code",
      "source": [
        "describeNumpyArray('y_train_k', y_train_k)\n",
        "describeNumpyArray('y_test_k', y_test_k)"
      ],
      "execution_count": 14,
      "outputs": [
        {
          "output_type": "stream",
          "text": [
            "y_train_k: <class 'numpy.ndarray'> of <class 'numpy.float32'>, with shape (60000, 10)\n",
            "y_test_k: <class 'numpy.ndarray'> of <class 'numpy.float32'>, with shape (10000, 10)\n"
          ],
          "name": "stdout"
        }
      ]
    },
    {
      "metadata": {
        "id": "Kd-HjrJjb5jH",
        "colab_type": "code",
        "colab": {
          "base_uri": "https://localhost:8080/",
          "height": 297
        },
        "outputId": "f8f5086c-50f8-4681-c624-130eababd2e4"
      },
      "cell_type": "code",
      "source": [
        "# just to visualize the output vectors after one hot encoding\n",
        "y_train_k_df = pd.DataFrame(y_train_k[0:8])\n",
        "y_train_k_df[\"OriginalLabel\"] = y_train[y_train_k_df.index]\n",
        "y_train_k_df"
      ],
      "execution_count": 15,
      "outputs": [
        {
          "output_type": "execute_result",
          "data": {
            "text/html": [
              "<div>\n",
              "<style scoped>\n",
              "    .dataframe tbody tr th:only-of-type {\n",
              "        vertical-align: middle;\n",
              "    }\n",
              "\n",
              "    .dataframe tbody tr th {\n",
              "        vertical-align: top;\n",
              "    }\n",
              "\n",
              "    .dataframe thead th {\n",
              "        text-align: right;\n",
              "    }\n",
              "</style>\n",
              "<table border=\"1\" class=\"dataframe\">\n",
              "  <thead>\n",
              "    <tr style=\"text-align: right;\">\n",
              "      <th></th>\n",
              "      <th>0</th>\n",
              "      <th>1</th>\n",
              "      <th>2</th>\n",
              "      <th>3</th>\n",
              "      <th>4</th>\n",
              "      <th>5</th>\n",
              "      <th>6</th>\n",
              "      <th>7</th>\n",
              "      <th>8</th>\n",
              "      <th>9</th>\n",
              "      <th>OriginalLabel</th>\n",
              "    </tr>\n",
              "  </thead>\n",
              "  <tbody>\n",
              "    <tr>\n",
              "      <th>0</th>\n",
              "      <td>0.0</td>\n",
              "      <td>0.0</td>\n",
              "      <td>0.0</td>\n",
              "      <td>0.0</td>\n",
              "      <td>0.0</td>\n",
              "      <td>1.0</td>\n",
              "      <td>0.0</td>\n",
              "      <td>0.0</td>\n",
              "      <td>0.0</td>\n",
              "      <td>0.0</td>\n",
              "      <td>5</td>\n",
              "    </tr>\n",
              "    <tr>\n",
              "      <th>1</th>\n",
              "      <td>1.0</td>\n",
              "      <td>0.0</td>\n",
              "      <td>0.0</td>\n",
              "      <td>0.0</td>\n",
              "      <td>0.0</td>\n",
              "      <td>0.0</td>\n",
              "      <td>0.0</td>\n",
              "      <td>0.0</td>\n",
              "      <td>0.0</td>\n",
              "      <td>0.0</td>\n",
              "      <td>0</td>\n",
              "    </tr>\n",
              "    <tr>\n",
              "      <th>2</th>\n",
              "      <td>0.0</td>\n",
              "      <td>0.0</td>\n",
              "      <td>0.0</td>\n",
              "      <td>0.0</td>\n",
              "      <td>1.0</td>\n",
              "      <td>0.0</td>\n",
              "      <td>0.0</td>\n",
              "      <td>0.0</td>\n",
              "      <td>0.0</td>\n",
              "      <td>0.0</td>\n",
              "      <td>4</td>\n",
              "    </tr>\n",
              "    <tr>\n",
              "      <th>3</th>\n",
              "      <td>0.0</td>\n",
              "      <td>1.0</td>\n",
              "      <td>0.0</td>\n",
              "      <td>0.0</td>\n",
              "      <td>0.0</td>\n",
              "      <td>0.0</td>\n",
              "      <td>0.0</td>\n",
              "      <td>0.0</td>\n",
              "      <td>0.0</td>\n",
              "      <td>0.0</td>\n",
              "      <td>1</td>\n",
              "    </tr>\n",
              "    <tr>\n",
              "      <th>4</th>\n",
              "      <td>0.0</td>\n",
              "      <td>0.0</td>\n",
              "      <td>0.0</td>\n",
              "      <td>0.0</td>\n",
              "      <td>0.0</td>\n",
              "      <td>0.0</td>\n",
              "      <td>0.0</td>\n",
              "      <td>0.0</td>\n",
              "      <td>0.0</td>\n",
              "      <td>1.0</td>\n",
              "      <td>9</td>\n",
              "    </tr>\n",
              "    <tr>\n",
              "      <th>5</th>\n",
              "      <td>0.0</td>\n",
              "      <td>0.0</td>\n",
              "      <td>1.0</td>\n",
              "      <td>0.0</td>\n",
              "      <td>0.0</td>\n",
              "      <td>0.0</td>\n",
              "      <td>0.0</td>\n",
              "      <td>0.0</td>\n",
              "      <td>0.0</td>\n",
              "      <td>0.0</td>\n",
              "      <td>2</td>\n",
              "    </tr>\n",
              "    <tr>\n",
              "      <th>6</th>\n",
              "      <td>0.0</td>\n",
              "      <td>1.0</td>\n",
              "      <td>0.0</td>\n",
              "      <td>0.0</td>\n",
              "      <td>0.0</td>\n",
              "      <td>0.0</td>\n",
              "      <td>0.0</td>\n",
              "      <td>0.0</td>\n",
              "      <td>0.0</td>\n",
              "      <td>0.0</td>\n",
              "      <td>1</td>\n",
              "    </tr>\n",
              "    <tr>\n",
              "      <th>7</th>\n",
              "      <td>0.0</td>\n",
              "      <td>0.0</td>\n",
              "      <td>0.0</td>\n",
              "      <td>1.0</td>\n",
              "      <td>0.0</td>\n",
              "      <td>0.0</td>\n",
              "      <td>0.0</td>\n",
              "      <td>0.0</td>\n",
              "      <td>0.0</td>\n",
              "      <td>0.0</td>\n",
              "      <td>3</td>\n",
              "    </tr>\n",
              "  </tbody>\n",
              "</table>\n",
              "</div>"
            ],
            "text/plain": [
              "     0    1    2    3    4    5    6    7    8    9  OriginalLabel\n",
              "0  0.0  0.0  0.0  0.0  0.0  1.0  0.0  0.0  0.0  0.0              5\n",
              "1  1.0  0.0  0.0  0.0  0.0  0.0  0.0  0.0  0.0  0.0              0\n",
              "2  0.0  0.0  0.0  0.0  1.0  0.0  0.0  0.0  0.0  0.0              4\n",
              "3  0.0  1.0  0.0  0.0  0.0  0.0  0.0  0.0  0.0  0.0              1\n",
              "4  0.0  0.0  0.0  0.0  0.0  0.0  0.0  0.0  0.0  1.0              9\n",
              "5  0.0  0.0  1.0  0.0  0.0  0.0  0.0  0.0  0.0  0.0              2\n",
              "6  0.0  1.0  0.0  0.0  0.0  0.0  0.0  0.0  0.0  0.0              1\n",
              "7  0.0  0.0  0.0  1.0  0.0  0.0  0.0  0.0  0.0  0.0              3"
            ]
          },
          "metadata": {
            "tags": []
          },
          "execution_count": 15
        }
      ]
    },
    {
      "metadata": {
        "id": "fytNaqPMy0uf",
        "colab_type": "text"
      },
      "cell_type": "markdown",
      "source": [
        "## Creating the CNN"
      ]
    },
    {
      "metadata": {
        "id": "uUShWbV24C4R",
        "colab_type": "code",
        "colab": {}
      },
      "cell_type": "code",
      "source": [
        "model = Sequential()"
      ],
      "execution_count": 0,
      "outputs": []
    },
    {
      "metadata": {
        "id": "bEzSoYEB4EOl",
        "colab_type": "code",
        "colab": {}
      },
      "cell_type": "code",
      "source": [
        "import tensorflow as tf "
      ],
      "execution_count": 0,
      "outputs": []
    },
    {
      "metadata": {
        "id": "eR3qIzvRy4jy",
        "colab_type": "text"
      },
      "cell_type": "markdown",
      "source": [
        "### adding layers to the CNN\n",
        "\n",
        "Layer types:\n",
        "\n",
        "* The Convolution2D layers operate on 2D matrices so we input the digit images directly to the model.\n",
        "* The MaxPooling2D layer reduces the spatial dimensions, that is, makes the image smaller.\n",
        "* The Flatten layer flattens the 2D matrices into vectors, so we can then switch to Dense layers as in the MLP model.\n",
        "\n",
        "Read more:\n",
        "* [CNN Wiki](https://en.wikipedia.org/wiki/Convolutional_neural_network)\n",
        "* [Relu Activation Function - Wiki](https://en.wikipedia.org/wiki/Rectifier_(neural_networks)\n",
        "* [CNN Keras](https://keras.io/layers/convolutional/)\n",
        "* [Pooling Keras](https://keras.io/layers/pooling/)"
      ]
    },
    {
      "metadata": {
        "id": "p5P1W5284GnQ",
        "colab_type": "code",
        "outputId": "d88dbd3f-d522-4fdc-c80c-d9a09f6e4793",
        "colab": {
          "base_uri": "https://localhost:8080/",
          "height": 71
        }
      },
      "cell_type": "code",
      "source": [
        "# Model V1\n",
        "model.add(Conv2D(32, kernel_size=(3, 3), activation='relu', input_shape=input_shape))\n",
        "model.add(Conv2D(64, (3, 3), activation='relu'))\n",
        "model.add(Conv2D(128, (3, 3), activation='relu'))\n",
        "model.add(MaxPooling2D(pool_size=(2, 2)))\n",
        "model.add(Dropout(0.25))\n",
        "model.add(Flatten())\n",
        "model.add(Dense(128, activation='relu'))\n",
        "model.add(Dropout(0.5))\n",
        "model.add(Dense(num_classes, activation=Activation(tf.nn.softmax)))\n",
        "\n",
        "# # Model V2\n",
        "# nb_classes = 10\n",
        "# model.add(Conv2D(nb_filters, kernel_size=(3,3), padding='valid', input_shape=input_shape))\n",
        "# model.add(Activation('relu'))\n",
        "# model.add(Conv2D(nb_filters, kernel_size))\n",
        "# model.add(Activation('relu'))\n",
        "# model.add(MaxPooling2D(pool_size=(2,2)))\n",
        "# model.add(Dropout(0.25))\n",
        "# model.add(Flatten())\n",
        "# model.add(Dense(units=128))\n",
        "# model.add(Activation('relu'))\n",
        "# model.add(Dropout(0.5))\n",
        "# model.add(Dense(units=nb_classes))\n",
        "# model.add(Activation('softmax'))"
      ],
      "execution_count": 18,
      "outputs": [
        {
          "output_type": "stream",
          "text": [
            "/usr/local/lib/python3.6/dist-packages/keras/activations.py:211: UserWarning: Do not pass a layer instance (such as Activation) as the activation argument of another layer. Instead, advanced activation layers should be used just like any other layer in a model.\n",
            "  identifier=identifier.__class__.__name__))\n"
          ],
          "name": "stderr"
        }
      ]
    },
    {
      "metadata": {
        "id": "uJxeGY6wy9SY",
        "colab_type": "text"
      },
      "cell_type": "markdown",
      "source": [
        "### compiling the model"
      ]
    },
    {
      "metadata": {
        "id": "xf9mmKWK4QMh",
        "colab_type": "code",
        "colab": {
          "base_uri": "https://localhost:8080/",
          "height": 459
        },
        "outputId": "e3fd29a9-1e71-420f-98f4-5ea528d4cc36"
      },
      "cell_type": "code",
      "source": [
        "model.compile(loss=keras.losses.categorical_crossentropy, optimizer=keras.optimizers.Adadelta(), metrics=['accuracy'])\n",
        "# model.compile(loss='categorical_crossentropy', optimizer='rmsprop', metrics=['accuracy'])\n",
        "\n",
        "print(model.summary())"
      ],
      "execution_count": 19,
      "outputs": [
        {
          "output_type": "stream",
          "text": [
            "_________________________________________________________________\n",
            "Layer (type)                 Output Shape              Param #   \n",
            "=================================================================\n",
            "conv2d_1 (Conv2D)            (None, 26, 26, 32)        320       \n",
            "_________________________________________________________________\n",
            "conv2d_2 (Conv2D)            (None, 24, 24, 64)        18496     \n",
            "_________________________________________________________________\n",
            "conv2d_3 (Conv2D)            (None, 22, 22, 128)       73856     \n",
            "_________________________________________________________________\n",
            "max_pooling2d_1 (MaxPooling2 (None, 11, 11, 128)       0         \n",
            "_________________________________________________________________\n",
            "dropout_1 (Dropout)          (None, 11, 11, 128)       0         \n",
            "_________________________________________________________________\n",
            "flatten_1 (Flatten)          (None, 15488)             0         \n",
            "_________________________________________________________________\n",
            "dense_1 (Dense)              (None, 128)               1982592   \n",
            "_________________________________________________________________\n",
            "dropout_2 (Dropout)          (None, 128)               0         \n",
            "_________________________________________________________________\n",
            "dense_2 (Dense)              (None, 10)                1290      \n",
            "=================================================================\n",
            "Total params: 2,076,554\n",
            "Trainable params: 2,076,554\n",
            "Non-trainable params: 0\n",
            "_________________________________________________________________\n",
            "None\n"
          ],
          "name": "stdout"
        }
      ]
    },
    {
      "metadata": {
        "id": "ctsEXRSS5mDL",
        "colab_type": "code",
        "colab": {
          "base_uri": "https://localhost:8080/",
          "height": 1077
        },
        "outputId": "e5370783-df86-4667-ed72-32d2b0e974b3"
      },
      "cell_type": "code",
      "source": [
        "from IPython.display import SVG\n",
        "from keras.utils.vis_utils import model_to_dot\n",
        "SVG(model_to_dot(model, show_shapes=True).create(prog='dot', format='svg'))"
      ],
      "execution_count": 20,
      "outputs": [
        {
          "output_type": "execute_result",
          "data": {
            "text/plain": [
              "<IPython.core.display.SVG object>"
            ],
            "image/svg+xml": "<svg height=\"792pt\" viewBox=\"0.00 0.00 419.00 792.00\" width=\"419pt\" xmlns=\"http://www.w3.org/2000/svg\" xmlns:xlink=\"http://www.w3.org/1999/xlink\">\n<g class=\"graph\" id=\"graph0\" transform=\"scale(1 1) rotate(0) translate(4 788)\">\n<title>G</title>\n<polygon fill=\"#ffffff\" points=\"-4,4 -4,-788 415,-788 415,4 -4,4\" stroke=\"transparent\"/>\n<!-- 140506681428120 -->\n<g class=\"node\" id=\"node1\">\n<title>140506681428120</title>\n<polygon fill=\"none\" points=\"47.5,-664.5 47.5,-710.5 363.5,-710.5 363.5,-664.5 47.5,-664.5\" stroke=\"#000000\"/>\n<text fill=\"#000000\" font-family=\"Times,serif\" font-size=\"14.00\" text-anchor=\"middle\" x=\"114\" y=\"-683.8\">conv2d_1: Conv2D</text>\n<polyline fill=\"none\" points=\"180.5,-664.5 180.5,-710.5 \" stroke=\"#000000\"/>\n<text fill=\"#000000\" font-family=\"Times,serif\" font-size=\"14.00\" text-anchor=\"middle\" x=\"209.5\" y=\"-695.3\">input:</text>\n<polyline fill=\"none\" points=\"180.5,-687.5 238.5,-687.5 \" stroke=\"#000000\"/>\n<text fill=\"#000000\" font-family=\"Times,serif\" font-size=\"14.00\" text-anchor=\"middle\" x=\"209.5\" y=\"-672.3\">output:</text>\n<polyline fill=\"none\" points=\"238.5,-664.5 238.5,-710.5 \" stroke=\"#000000\"/>\n<text fill=\"#000000\" font-family=\"Times,serif\" font-size=\"14.00\" text-anchor=\"middle\" x=\"301\" y=\"-695.3\">(None, 28, 28, 1)</text>\n<polyline fill=\"none\" points=\"238.5,-687.5 363.5,-687.5 \" stroke=\"#000000\"/>\n<text fill=\"#000000\" font-family=\"Times,serif\" font-size=\"14.00\" text-anchor=\"middle\" x=\"301\" y=\"-672.3\">(None, 26, 26, 32)</text>\n</g>\n<!-- 140506681428064 -->\n<g class=\"node\" id=\"node2\">\n<title>140506681428064</title>\n<polygon fill=\"none\" points=\"47.5,-581.5 47.5,-627.5 363.5,-627.5 363.5,-581.5 47.5,-581.5\" stroke=\"#000000\"/>\n<text fill=\"#000000\" font-family=\"Times,serif\" font-size=\"14.00\" text-anchor=\"middle\" x=\"114\" y=\"-600.8\">conv2d_2: Conv2D</text>\n<polyline fill=\"none\" points=\"180.5,-581.5 180.5,-627.5 \" stroke=\"#000000\"/>\n<text fill=\"#000000\" font-family=\"Times,serif\" font-size=\"14.00\" text-anchor=\"middle\" x=\"209.5\" y=\"-612.3\">input:</text>\n<polyline fill=\"none\" points=\"180.5,-604.5 238.5,-604.5 \" stroke=\"#000000\"/>\n<text fill=\"#000000\" font-family=\"Times,serif\" font-size=\"14.00\" text-anchor=\"middle\" x=\"209.5\" y=\"-589.3\">output:</text>\n<polyline fill=\"none\" points=\"238.5,-581.5 238.5,-627.5 \" stroke=\"#000000\"/>\n<text fill=\"#000000\" font-family=\"Times,serif\" font-size=\"14.00\" text-anchor=\"middle\" x=\"301\" y=\"-612.3\">(None, 26, 26, 32)</text>\n<polyline fill=\"none\" points=\"238.5,-604.5 363.5,-604.5 \" stroke=\"#000000\"/>\n<text fill=\"#000000\" font-family=\"Times,serif\" font-size=\"14.00\" text-anchor=\"middle\" x=\"301\" y=\"-589.3\">(None, 24, 24, 64)</text>\n</g>\n<!-- 140506681428120&#45;&gt;140506681428064 -->\n<g class=\"edge\" id=\"edge2\">\n<title>140506681428120-&gt;140506681428064</title>\n<path d=\"M205.5,-664.3799C205.5,-656.1745 205.5,-646.7679 205.5,-637.8786\" fill=\"none\" stroke=\"#000000\"/>\n<polygon fill=\"#000000\" points=\"209.0001,-637.784 205.5,-627.784 202.0001,-637.784 209.0001,-637.784\" stroke=\"#000000\"/>\n</g>\n<!-- 140506681428848 -->\n<g class=\"node\" id=\"node3\">\n<title>140506681428848</title>\n<polygon fill=\"none\" points=\"44,-498.5 44,-544.5 367,-544.5 367,-498.5 44,-498.5\" stroke=\"#000000\"/>\n<text fill=\"#000000\" font-family=\"Times,serif\" font-size=\"14.00\" text-anchor=\"middle\" x=\"110.5\" y=\"-517.8\">conv2d_3: Conv2D</text>\n<polyline fill=\"none\" points=\"177,-498.5 177,-544.5 \" stroke=\"#000000\"/>\n<text fill=\"#000000\" font-family=\"Times,serif\" font-size=\"14.00\" text-anchor=\"middle\" x=\"206\" y=\"-529.3\">input:</text>\n<polyline fill=\"none\" points=\"177,-521.5 235,-521.5 \" stroke=\"#000000\"/>\n<text fill=\"#000000\" font-family=\"Times,serif\" font-size=\"14.00\" text-anchor=\"middle\" x=\"206\" y=\"-506.3\">output:</text>\n<polyline fill=\"none\" points=\"235,-498.5 235,-544.5 \" stroke=\"#000000\"/>\n<text fill=\"#000000\" font-family=\"Times,serif\" font-size=\"14.00\" text-anchor=\"middle\" x=\"301\" y=\"-529.3\">(None, 24, 24, 64)</text>\n<polyline fill=\"none\" points=\"235,-521.5 367,-521.5 \" stroke=\"#000000\"/>\n<text fill=\"#000000\" font-family=\"Times,serif\" font-size=\"14.00\" text-anchor=\"middle\" x=\"301\" y=\"-506.3\">(None, 22, 22, 128)</text>\n</g>\n<!-- 140506681428064&#45;&gt;140506681428848 -->\n<g class=\"edge\" id=\"edge3\">\n<title>140506681428064-&gt;140506681428848</title>\n<path d=\"M205.5,-581.3799C205.5,-573.1745 205.5,-563.7679 205.5,-554.8786\" fill=\"none\" stroke=\"#000000\"/>\n<polygon fill=\"#000000\" points=\"209.0001,-554.784 205.5,-544.784 202.0001,-554.784 209.0001,-554.784\" stroke=\"#000000\"/>\n</g>\n<!-- 140506681163848 -->\n<g class=\"node\" id=\"node4\">\n<title>140506681163848</title>\n<polygon fill=\"none\" points=\"0,-415.5 0,-461.5 411,-461.5 411,-415.5 0,-415.5\" stroke=\"#000000\"/>\n<text fill=\"#000000\" font-family=\"Times,serif\" font-size=\"14.00\" text-anchor=\"middle\" x=\"110.5\" y=\"-434.8\">max_pooling2d_1: MaxPooling2D</text>\n<polyline fill=\"none\" points=\"221,-415.5 221,-461.5 \" stroke=\"#000000\"/>\n<text fill=\"#000000\" font-family=\"Times,serif\" font-size=\"14.00\" text-anchor=\"middle\" x=\"250\" y=\"-446.3\">input:</text>\n<polyline fill=\"none\" points=\"221,-438.5 279,-438.5 \" stroke=\"#000000\"/>\n<text fill=\"#000000\" font-family=\"Times,serif\" font-size=\"14.00\" text-anchor=\"middle\" x=\"250\" y=\"-423.3\">output:</text>\n<polyline fill=\"none\" points=\"279,-415.5 279,-461.5 \" stroke=\"#000000\"/>\n<text fill=\"#000000\" font-family=\"Times,serif\" font-size=\"14.00\" text-anchor=\"middle\" x=\"345\" y=\"-446.3\">(None, 22, 22, 128)</text>\n<polyline fill=\"none\" points=\"279,-438.5 411,-438.5 \" stroke=\"#000000\"/>\n<text fill=\"#000000\" font-family=\"Times,serif\" font-size=\"14.00\" text-anchor=\"middle\" x=\"345\" y=\"-423.3\">(None, 11, 11, 128)</text>\n</g>\n<!-- 140506681428848&#45;&gt;140506681163848 -->\n<g class=\"edge\" id=\"edge4\">\n<title>140506681428848-&gt;140506681163848</title>\n<path d=\"M205.5,-498.3799C205.5,-490.1745 205.5,-480.7679 205.5,-471.8786\" fill=\"none\" stroke=\"#000000\"/>\n<polygon fill=\"#000000\" points=\"209.0001,-471.784 205.5,-461.784 202.0001,-471.784 209.0001,-471.784\" stroke=\"#000000\"/>\n</g>\n<!-- 140506680962968 -->\n<g class=\"node\" id=\"node5\">\n<title>140506680962968</title>\n<polygon fill=\"none\" points=\"44,-332.5 44,-378.5 367,-378.5 367,-332.5 44,-332.5\" stroke=\"#000000\"/>\n<text fill=\"#000000\" font-family=\"Times,serif\" font-size=\"14.00\" text-anchor=\"middle\" x=\"111\" y=\"-351.8\">dropout_1: Dropout</text>\n<polyline fill=\"none\" points=\"178,-332.5 178,-378.5 \" stroke=\"#000000\"/>\n<text fill=\"#000000\" font-family=\"Times,serif\" font-size=\"14.00\" text-anchor=\"middle\" x=\"207\" y=\"-363.3\">input:</text>\n<polyline fill=\"none\" points=\"178,-355.5 236,-355.5 \" stroke=\"#000000\"/>\n<text fill=\"#000000\" font-family=\"Times,serif\" font-size=\"14.00\" text-anchor=\"middle\" x=\"207\" y=\"-340.3\">output:</text>\n<polyline fill=\"none\" points=\"236,-332.5 236,-378.5 \" stroke=\"#000000\"/>\n<text fill=\"#000000\" font-family=\"Times,serif\" font-size=\"14.00\" text-anchor=\"middle\" x=\"301.5\" y=\"-363.3\">(None, 11, 11, 128)</text>\n<polyline fill=\"none\" points=\"236,-355.5 367,-355.5 \" stroke=\"#000000\"/>\n<text fill=\"#000000\" font-family=\"Times,serif\" font-size=\"14.00\" text-anchor=\"middle\" x=\"301.5\" y=\"-340.3\">(None, 11, 11, 128)</text>\n</g>\n<!-- 140506681163848&#45;&gt;140506680962968 -->\n<g class=\"edge\" id=\"edge5\">\n<title>140506681163848-&gt;140506680962968</title>\n<path d=\"M205.5,-415.3799C205.5,-407.1745 205.5,-397.7679 205.5,-388.8786\" fill=\"none\" stroke=\"#000000\"/>\n<polygon fill=\"#000000\" points=\"209.0001,-388.784 205.5,-378.784 202.0001,-388.784 209.0001,-388.784\" stroke=\"#000000\"/>\n</g>\n<!-- 140506681164240 -->\n<g class=\"node\" id=\"node6\">\n<title>140506681164240</title>\n<polygon fill=\"none\" points=\"54.5,-249.5 54.5,-295.5 356.5,-295.5 356.5,-249.5 54.5,-249.5\" stroke=\"#000000\"/>\n<text fill=\"#000000\" font-family=\"Times,serif\" font-size=\"14.00\" text-anchor=\"middle\" x=\"111\" y=\"-268.8\">flatten_1: Flatten</text>\n<polyline fill=\"none\" points=\"167.5,-249.5 167.5,-295.5 \" stroke=\"#000000\"/>\n<text fill=\"#000000\" font-family=\"Times,serif\" font-size=\"14.00\" text-anchor=\"middle\" x=\"196.5\" y=\"-280.3\">input:</text>\n<polyline fill=\"none\" points=\"167.5,-272.5 225.5,-272.5 \" stroke=\"#000000\"/>\n<text fill=\"#000000\" font-family=\"Times,serif\" font-size=\"14.00\" text-anchor=\"middle\" x=\"196.5\" y=\"-257.3\">output:</text>\n<polyline fill=\"none\" points=\"225.5,-249.5 225.5,-295.5 \" stroke=\"#000000\"/>\n<text fill=\"#000000\" font-family=\"Times,serif\" font-size=\"14.00\" text-anchor=\"middle\" x=\"291\" y=\"-280.3\">(None, 11, 11, 128)</text>\n<polyline fill=\"none\" points=\"225.5,-272.5 356.5,-272.5 \" stroke=\"#000000\"/>\n<text fill=\"#000000\" font-family=\"Times,serif\" font-size=\"14.00\" text-anchor=\"middle\" x=\"291\" y=\"-257.3\">(None, 15488)</text>\n</g>\n<!-- 140506680962968&#45;&gt;140506681164240 -->\n<g class=\"edge\" id=\"edge6\">\n<title>140506680962968-&gt;140506681164240</title>\n<path d=\"M205.5,-332.3799C205.5,-324.1745 205.5,-314.7679 205.5,-305.8786\" fill=\"none\" stroke=\"#000000\"/>\n<polygon fill=\"#000000\" points=\"209.0001,-305.784 205.5,-295.784 202.0001,-305.784 209.0001,-305.784\" stroke=\"#000000\"/>\n</g>\n<!-- 140506681163960 -->\n<g class=\"node\" id=\"node7\">\n<title>140506681163960</title>\n<polygon fill=\"none\" points=\"72,-166.5 72,-212.5 339,-212.5 339,-166.5 72,-166.5\" stroke=\"#000000\"/>\n<text fill=\"#000000\" font-family=\"Times,serif\" font-size=\"14.00\" text-anchor=\"middle\" x=\"125.5\" y=\"-185.8\">dense_1: Dense</text>\n<polyline fill=\"none\" points=\"179,-166.5 179,-212.5 \" stroke=\"#000000\"/>\n<text fill=\"#000000\" font-family=\"Times,serif\" font-size=\"14.00\" text-anchor=\"middle\" x=\"208\" y=\"-197.3\">input:</text>\n<polyline fill=\"none\" points=\"179,-189.5 237,-189.5 \" stroke=\"#000000\"/>\n<text fill=\"#000000\" font-family=\"Times,serif\" font-size=\"14.00\" text-anchor=\"middle\" x=\"208\" y=\"-174.3\">output:</text>\n<polyline fill=\"none\" points=\"237,-166.5 237,-212.5 \" stroke=\"#000000\"/>\n<text fill=\"#000000\" font-family=\"Times,serif\" font-size=\"14.00\" text-anchor=\"middle\" x=\"288\" y=\"-197.3\">(None, 15488)</text>\n<polyline fill=\"none\" points=\"237,-189.5 339,-189.5 \" stroke=\"#000000\"/>\n<text fill=\"#000000\" font-family=\"Times,serif\" font-size=\"14.00\" text-anchor=\"middle\" x=\"288\" y=\"-174.3\">(None, 128)</text>\n</g>\n<!-- 140506681164240&#45;&gt;140506681163960 -->\n<g class=\"edge\" id=\"edge7\">\n<title>140506681164240-&gt;140506681163960</title>\n<path d=\"M205.5,-249.3799C205.5,-241.1745 205.5,-231.7679 205.5,-222.8786\" fill=\"none\" stroke=\"#000000\"/>\n<polygon fill=\"#000000\" points=\"209.0001,-222.784 205.5,-212.784 202.0001,-222.784 209.0001,-222.784\" stroke=\"#000000\"/>\n</g>\n<!-- 140506680739432 -->\n<g class=\"node\" id=\"node8\">\n<title>140506680739432</title>\n<polygon fill=\"none\" points=\"66,-83.5 66,-129.5 345,-129.5 345,-83.5 66,-83.5\" stroke=\"#000000\"/>\n<text fill=\"#000000\" font-family=\"Times,serif\" font-size=\"14.00\" text-anchor=\"middle\" x=\"133\" y=\"-102.8\">dropout_2: Dropout</text>\n<polyline fill=\"none\" points=\"200,-83.5 200,-129.5 \" stroke=\"#000000\"/>\n<text fill=\"#000000\" font-family=\"Times,serif\" font-size=\"14.00\" text-anchor=\"middle\" x=\"229\" y=\"-114.3\">input:</text>\n<polyline fill=\"none\" points=\"200,-106.5 258,-106.5 \" stroke=\"#000000\"/>\n<text fill=\"#000000\" font-family=\"Times,serif\" font-size=\"14.00\" text-anchor=\"middle\" x=\"229\" y=\"-91.3\">output:</text>\n<polyline fill=\"none\" points=\"258,-83.5 258,-129.5 \" stroke=\"#000000\"/>\n<text fill=\"#000000\" font-family=\"Times,serif\" font-size=\"14.00\" text-anchor=\"middle\" x=\"301.5\" y=\"-114.3\">(None, 128)</text>\n<polyline fill=\"none\" points=\"258,-106.5 345,-106.5 \" stroke=\"#000000\"/>\n<text fill=\"#000000\" font-family=\"Times,serif\" font-size=\"14.00\" text-anchor=\"middle\" x=\"301.5\" y=\"-91.3\">(None, 128)</text>\n</g>\n<!-- 140506681163960&#45;&gt;140506680739432 -->\n<g class=\"edge\" id=\"edge8\">\n<title>140506681163960-&gt;140506680739432</title>\n<path d=\"M205.5,-166.3799C205.5,-158.1745 205.5,-148.7679 205.5,-139.8786\" fill=\"none\" stroke=\"#000000\"/>\n<polygon fill=\"#000000\" points=\"209.0001,-139.784 205.5,-129.784 202.0001,-139.784 209.0001,-139.784\" stroke=\"#000000\"/>\n</g>\n<!-- 140506680418200 -->\n<g class=\"node\" id=\"node9\">\n<title>140506680418200</title>\n<polygon fill=\"none\" points=\"79.5,-.5 79.5,-46.5 331.5,-46.5 331.5,-.5 79.5,-.5\" stroke=\"#000000\"/>\n<text fill=\"#000000\" font-family=\"Times,serif\" font-size=\"14.00\" text-anchor=\"middle\" x=\"133\" y=\"-19.8\">dense_2: Dense</text>\n<polyline fill=\"none\" points=\"186.5,-.5 186.5,-46.5 \" stroke=\"#000000\"/>\n<text fill=\"#000000\" font-family=\"Times,serif\" font-size=\"14.00\" text-anchor=\"middle\" x=\"215.5\" y=\"-31.3\">input:</text>\n<polyline fill=\"none\" points=\"186.5,-23.5 244.5,-23.5 \" stroke=\"#000000\"/>\n<text fill=\"#000000\" font-family=\"Times,serif\" font-size=\"14.00\" text-anchor=\"middle\" x=\"215.5\" y=\"-8.3\">output:</text>\n<polyline fill=\"none\" points=\"244.5,-.5 244.5,-46.5 \" stroke=\"#000000\"/>\n<text fill=\"#000000\" font-family=\"Times,serif\" font-size=\"14.00\" text-anchor=\"middle\" x=\"288\" y=\"-31.3\">(None, 128)</text>\n<polyline fill=\"none\" points=\"244.5,-23.5 331.5,-23.5 \" stroke=\"#000000\"/>\n<text fill=\"#000000\" font-family=\"Times,serif\" font-size=\"14.00\" text-anchor=\"middle\" x=\"288\" y=\"-8.3\">(None, 10)</text>\n</g>\n<!-- 140506680739432&#45;&gt;140506680418200 -->\n<g class=\"edge\" id=\"edge9\">\n<title>140506680739432-&gt;140506680418200</title>\n<path d=\"M205.5,-83.3799C205.5,-75.1745 205.5,-65.7679 205.5,-56.8786\" fill=\"none\" stroke=\"#000000\"/>\n<polygon fill=\"#000000\" points=\"209.0001,-56.784 205.5,-46.784 202.0001,-56.784 209.0001,-56.784\" stroke=\"#000000\"/>\n</g>\n<!-- 140506681428512 -->\n<g class=\"node\" id=\"node10\">\n<title>140506681428512</title>\n<polygon fill=\"none\" points=\"141,-747.5 141,-783.5 270,-783.5 270,-747.5 141,-747.5\" stroke=\"#000000\"/>\n<text fill=\"#000000\" font-family=\"Times,serif\" font-size=\"14.00\" text-anchor=\"middle\" x=\"205.5\" y=\"-761.8\">140506681428512</text>\n</g>\n<!-- 140506681428512&#45;&gt;140506681428120 -->\n<g class=\"edge\" id=\"edge1\">\n<title>140506681428512-&gt;140506681428120</title>\n<path d=\"M205.5,-747.4092C205.5,-739.4308 205.5,-729.795 205.5,-720.606\" fill=\"none\" stroke=\"#000000\"/>\n<polygon fill=\"#000000\" points=\"209.0001,-720.5333 205.5,-710.5333 202.0001,-720.5334 209.0001,-720.5333\" stroke=\"#000000\"/>\n</g>\n</g>\n</svg>"
          },
          "metadata": {
            "tags": []
          },
          "execution_count": 20
        }
      ]
    },
    {
      "metadata": {
        "id": "W1o7VFdvzCcY",
        "colab_type": "text"
      },
      "cell_type": "markdown",
      "source": [
        "### training the model"
      ]
    },
    {
      "metadata": {
        "id": "hRMGGn5g4RdW",
        "colab_type": "code",
        "outputId": "01b04738-9d20-4041-cf14-63071c22657b",
        "colab": {
          "base_uri": "https://localhost:8080/",
          "height": 374
        }
      },
      "cell_type": "code",
      "source": [
        "history = model.fit(x_train_k, y_train_k,\n",
        "                    batch_size=batch_size,\n",
        "                    epochs=epochs,\n",
        "                    verbose=1,\n",
        "                    validation_data=(x_test_k, y_test_k))"
      ],
      "execution_count": 21,
      "outputs": [
        {
          "output_type": "stream",
          "text": [
            "Train on 60000 samples, validate on 10000 samples\n",
            "Epoch 1/10\n",
            "60000/60000 [==============================] - 19s 312us/step - loss: 0.2410 - acc: 0.9262 - val_loss: 0.0499 - val_acc: 0.9835\n",
            "Epoch 2/10\n",
            "60000/60000 [==============================] - 17s 285us/step - loss: 0.0761 - acc: 0.9778 - val_loss: 0.0355 - val_acc: 0.9888\n",
            "Epoch 3/10\n",
            "60000/60000 [==============================] - 17s 285us/step - loss: 0.0568 - acc: 0.9836 - val_loss: 0.0263 - val_acc: 0.9910\n",
            "Epoch 4/10\n",
            "60000/60000 [==============================] - 17s 287us/step - loss: 0.0465 - acc: 0.9865 - val_loss: 0.0273 - val_acc: 0.9903\n",
            "Epoch 5/10\n",
            "60000/60000 [==============================] - 17s 285us/step - loss: 0.0376 - acc: 0.9887 - val_loss: 0.0239 - val_acc: 0.9912\n",
            "Epoch 6/10\n",
            "60000/60000 [==============================] - 17s 285us/step - loss: 0.0339 - acc: 0.9899 - val_loss: 0.0236 - val_acc: 0.9915\n",
            "Epoch 7/10\n",
            "60000/60000 [==============================] - 17s 286us/step - loss: 0.0304 - acc: 0.9911 - val_loss: 0.0243 - val_acc: 0.9917\n",
            "Epoch 8/10\n",
            "60000/60000 [==============================] - 17s 286us/step - loss: 0.0270 - acc: 0.9918 - val_loss: 0.0232 - val_acc: 0.9923\n",
            "Epoch 9/10\n",
            "60000/60000 [==============================] - 17s 284us/step - loss: 0.0236 - acc: 0.9927 - val_loss: 0.0200 - val_acc: 0.9929\n",
            "Epoch 10/10\n",
            "60000/60000 [==============================] - 17s 284us/step - loss: 0.0228 - acc: 0.9930 - val_loss: 0.0251 - val_acc: 0.9914\n"
          ],
          "name": "stdout"
        }
      ]
    },
    {
      "metadata": {
        "id": "YrwbT64E7FoM",
        "colab_type": "code",
        "colab": {
          "base_uri": "https://localhost:8080/",
          "height": 226
        },
        "outputId": "b17f4db2-1e15-4873-f0a0-8825a103186a"
      },
      "cell_type": "code",
      "source": [
        "fig, m_axs = plt.subplots(1, 2, figsize = (10, 3))\n",
        "\n",
        "m_axs[0].plot(history.epoch,history.history['loss'])\n",
        "m_axs[0].set_title('loss')\n",
        "m_axs[0].grid(False)\n",
        "m_axs[1].plot(history.epoch,history.history['acc'])\n",
        "m_axs[1].set_title('accuracy');\n",
        "m_axs[1].grid(False)"
      ],
      "execution_count": 39,
      "outputs": [
        {
          "output_type": "display_data",
          "data": {
            "image/png": "[encoded data removed]",
            "text/plain": [
              "<Figure size 720x216 with 2 Axes>"
            ]
          },
          "metadata": {
            "tags": []
          }
        }
      ]
    },
    {
      "metadata": {
        "id": "bUFlA5EvzFDB",
        "colab_type": "text"
      },
      "cell_type": "markdown",
      "source": [
        "### evaulating and viewing the result"
      ]
    },
    {
      "metadata": {
        "id": "R6U6JC6Z4Scj",
        "colab_type": "code",
        "outputId": "469f7529-cad8-4dfc-df26-e45db74ee478",
        "colab": {
          "base_uri": "https://localhost:8080/",
          "height": 51
        }
      },
      "cell_type": "code",
      "source": [
        "score = model.evaluate(x_test_k, y_test_k, verbose=0)\n",
        "print('Test loss:', score[0])\n",
        "print('Test accuracy:', score[1])"
      ],
      "execution_count": 40,
      "outputs": [
        {
          "output_type": "stream",
          "text": [
            "Test loss: 0.02506204844941676\n",
            "Test accuracy: 0.9914\n"
          ],
          "name": "stdout"
        }
      ]
    },
    {
      "metadata": {
        "id": "kmOm_dDFojM3",
        "colab_type": "code",
        "colab": {}
      },
      "cell_type": "code",
      "source": [
        "pred = model.predict(x_test_k, verbose=0)\n",
        "# as predictions are probabilities from 0 to 1 (but rarely exactly these values) one must apply decision threshold\n",
        "# np.round applies a decision threshold at 0.5\n",
        "pred_classified = np.round(pred)\n",
        "\n",
        "# reverse One-Hot encoder. Note that it is not always that trivial :)\n",
        "# it only works this time because the index of the column is the same as the value before the encoding\n",
        "# in normal cases one has to train One-Hot encoder and the reverse it\n",
        "pred_label = np.argmax(pred_classified, axis=1)"
      ],
      "execution_count": 0,
      "outputs": []
    },
    {
      "metadata": {
        "id": "GtUwoxSdlZqu",
        "colab_type": "code",
        "colab": {
          "base_uri": "https://localhost:8080/",
          "height": 85
        },
        "outputId": "0a5f3c9c-e16d-479c-abf2-e9dfd7015b51"
      },
      "cell_type": "code",
      "source": [
        "describeNumpyArray('x_test_k', y_test_k)\n",
        "describeNumpyArray('pred', pred)\n",
        "describeNumpyArray('pred_classified', pred_classified)\n",
        "describeNumpyArray('pred_label', pred_label)"
      ],
      "execution_count": 42,
      "outputs": [
        {
          "output_type": "stream",
          "text": [
            "x_test_k: <class 'numpy.ndarray'> of <class 'numpy.float32'>, with shape (10000, 10)\n",
            "pred: <class 'numpy.ndarray'> of <class 'numpy.float32'>, with shape (10000, 10)\n",
            "pred_classified: <class 'numpy.ndarray'> of <class 'numpy.float32'>, with shape (10000, 10)\n",
            "pred_label: <class 'numpy.ndarray'> of <class 'numpy.int64'>, with shape (10000,)\n"
          ],
          "name": "stdout"
        }
      ]
    },
    {
      "metadata": {
        "id": "I_feSdjCmgFA",
        "colab_type": "code",
        "colab": {}
      },
      "cell_type": "code",
      "source": [
        "# find all indexes where the classification does not match the actual label \n",
        "# read about np.all and np.any\n",
        "misclasified_indexes = np.where((y_test_k != pred_classified).any(axis=1))[0]\n",
        "clasified_indexes = np.where((y_test_k == pred_classified).all(axis=1))[0]"
      ],
      "execution_count": 0,
      "outputs": []
    },
    {
      "metadata": {
        "id": "EzSgBRhSm0uO",
        "colab_type": "code",
        "colab": {
          "base_uri": "https://localhost:8080/",
          "height": 715
        },
        "outputId": "4e750795-27dd-4e4e-e9e2-4a7e34046727"
      },
      "cell_type": "code",
      "source": [
        "# Plot correctly classified images\n",
        "plotImagesByIndex(clasified_indexes[np.random.choice(len(clasified_indexes), size=sample_size, replace=False)], x_test, y_test, pred_label)"
      ],
      "execution_count": 44,
      "outputs": [
        {
          "output_type": "display_data",
          "data": {
            "image/png": "[encoded data removed]",
            "text/plain": [
              "<Figure size 1728x864 with 32 Axes>"
            ]
          },
          "metadata": {
            "tags": []
          }
        }
      ]
    },
    {
      "metadata": {
        "id": "ibwL_z83oqOA",
        "colab_type": "code",
        "colab": {
          "base_uri": "https://localhost:8080/",
          "height": 715
        },
        "outputId": "79a42dfe-0dc1-4426-e3ea-b21790d9717b"
      },
      "cell_type": "code",
      "source": [
        "# Plot correctly classified images\n",
        "plotImagesByIndex(misclasified_indexes[np.random.choice(len(misclasified_indexes), size=sample_size, replace=False)], x_test, y_test, pred_label)"
      ],
      "execution_count": 37,
      "outputs": [
        {
          "output_type": "display_data",
          "data": {
            "image/png": "[encoded data removed]",
            "text/plain": [
              "<Figure size 1728x864 with 32 Axes>"
            ]
          },
          "metadata": {
            "tags": []
          }
        }
      ]
    },
    {
      "metadata": {
        "id": "X2FsHB3PwIcl",
        "colab_type": "code",
        "colab": {}
      },
      "cell_type": "code",
      "source": [
        ""
      ],
      "execution_count": 0,
      "outputs": []
    }
  ]
}