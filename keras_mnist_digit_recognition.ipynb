{
  "nbformat": 4,
  "nbformat_minor": 0,
  "metadata": {
    "colab": {
      "name": "keras-mnist-digit-recognition.ipynb",
      "version": "0.3.2",
      "provenance": [],
      "collapsed_sections": [],
      "toc_visible": true,
      "include_colab_link": true
    },
    "kernelspec": {
      "name": "python3",
      "display_name": "Python 3"
    },
    "accelerator": "GPU"
  },
  "cells": [
    {
      "cell_type": "markdown",
      "metadata": {
        "id": "view-in-github",
        "colab_type": "text"
      },
      "source": [
        "<a href=\"https://colab.research.google.com/github/jahabdank/mnist-digit-classifiers/blob/master/keras_mnist_digit_recognition.ipynb\" target=\"_parent\"><img src=\"https://colab.research.google.com/assets/colab-badge.svg\" alt=\"Open In Colab\"/></a>"
      ]
    },
    {
      "metadata": {
        "id": "wVgAbm8kAfSk",
        "colab_type": "text"
      },
      "cell_type": "markdown",
      "source": [
        "# Mnist digit recognition using a number of modelling approaches\n",
        "\n",
        "The code uses built in keras.datasets.mnist functionality which automatically preloads all the necessary data for neural net training. Otherwise one needs to download the files and convert into numpy arrays self.\n",
        "\n",
        "#### Before running\n",
        "If running on Google Colab, remember to go to Runtime -> Change Runtime Type -> Select 'Python 3' and 'GPU'\n",
        "\n",
        "## Results\n",
        "The models have the following best accuracy:\n",
        "* CNN: 99.14%\n",
        "* Random Forest: 95.45%\n",
        "* Gradient Boosted Tree: 84.61% (this possibly can be improved)\n",
        "* OneVsRest Support Vector Machine: 40.45% (this very likely could be improved)\n",
        "* Ridge Logistic Regression: 92.55%\n",
        "\n",
        "## TODO:\n",
        "* add multiclass [ROC curve](https://scikit-learn.org/stable/auto_examples/model_selection/plot_roc.html) to all models\n",
        "* create a graphical [confusion matrix](https://www.datacamp.com/community/tutorials/understanding-logistic-regression-python)\n",
        "* add confusion matrix to the CNN\n",
        "* add dimentionality reduction to the support vector machine classifier, start with simple e.g. PCA but try others (read [more](https://en.wikipedia.org/wiki/Dimensionality_reduction))\n",
        "* rename the CNN variables, and rerun the entire notebook\n",
        "* add more detailed Random forrest analysis (look at internal structure of the tree)\n",
        "* add model saving as an option using Google Drive mounting"
      ]
    },
    {
      "metadata": {
        "id": "0r7T4rq3M3HJ",
        "colab_type": "code",
        "outputId": "2df7e7ee-2f16-4ad8-9898-850ed35acab4",
        "colab": {
          "base_uri": "https://localhost:8080/",
          "height": 51
        }
      },
      "cell_type": "code",
      "source": [
        "%matplotlib inline\n",
        "import matplotlib.pyplot as plt\n",
        "import numpy as np\n",
        "import pandas as pd\n",
        "\n",
        "import sklearn.metrics as sm\n",
        "\n",
        "from keras.datasets import mnist\n",
        "\n",
        "import psutil\n",
        "core_count = psutil.cpu_count()\n",
        "print(f\"VM has {core_count} cores, and {psutil.virtual_memory().free/1000000:.2f}MB free RAM (out of {psutil.virtual_memory().total/1000000:.2f} MB total), and {psutil.disk_usage('/').free/1000000:.2f}MB free Disk Space (out of {psutil.disk_usage('/').total/1000000:.2f} MB total)\")"
      ],
      "execution_count": 1,
      "outputs": [
        {
          "output_type": "stream",
          "text": [
            "Using TensorFlow backend.\n"
          ],
          "name": "stderr"
        },
        {
          "output_type": "stream",
          "text": [
            "VM has 2 cores, and 11005.22MB free RAM (out of 13655.32 MB total), and 343726.37MB free Disk Space (out of 384691.15 MB total)\n"
          ],
          "name": "stdout"
        }
      ]
    },
    {
      "metadata": {
        "id": "77gMpbC9QHsc",
        "colab_type": "code",
        "outputId": "e24b45b3-d5a5-469e-de70-26ca2f7d4e47",
        "colab": {
          "base_uri": "https://localhost:8080/",
          "height": 34
        }
      },
      "cell_type": "code",
      "source": [
        "import tensorflow as tf\n",
        "device_name = tf.test.gpu_device_name()\n",
        "if device_name != '/device:GPU:0':\n",
        "  print(f'GPU device not found {device_name}')\n",
        "else:\n",
        "  print(f'Found GPU at: {device_name}')\n",
        "  \n",
        "# alternatively\n",
        "# from tensorflow.python.client import device_lib\n",
        "# device_lib.list_local_devices()"
      ],
      "execution_count": 2,
      "outputs": [
        {
          "output_type": "stream",
          "text": [
            "Found GPU at: /device:GPU:0\n"
          ],
          "name": "stdout"
        }
      ]
    },
    {
      "metadata": {
        "id": "SQ4lbw9NDmgP",
        "colab_type": "text"
      },
      "cell_type": "markdown",
      "source": [
        "## Data loading and visualisation\n",
        "\n",
        "Load data and understand the structure of it, as well as display some examples as images."
      ]
    },
    {
      "metadata": {
        "id": "vk-aKTUq37Mp",
        "colab_type": "code",
        "colab": {
          "base_uri": "https://localhost:8080/",
          "height": 34
        },
        "outputId": "03d20a99-1925-4de1-a466-3a650ef1aa6b"
      },
      "cell_type": "code",
      "source": [
        "# This call downloads the data from https://s3.amazonaws.com/img-datasets/mnist.npz\n",
        "# and reads it as a numpy ndarray. It should be fairly easy to write such code, and thus use a different dataset.\n",
        "# Note: .npz file extensinon is a numpy matrix file created by np.savez. If one would use any other type of dataset\n",
        "# one would have to obviously download the file and load it manually into numpy arrays.\n",
        "(x_train, y_train), (x_test, y_test) = mnist.load_data()\n",
        "\n",
        "num_classes = np.bincount(np.append(y_train, y_test)).size\n",
        "\n",
        "print(f\"Total number of classes in the complete data set is {num_classes}\")"
      ],
      "execution_count": 3,
      "outputs": [
        {
          "output_type": "stream",
          "text": [
            "Total number of classes in the complete data set is 10\n"
          ],
          "name": "stdout"
        }
      ]
    },
    {
      "metadata": {
        "id": "qt-tGlhYB4M5",
        "colab_type": "code",
        "outputId": "02efa4b9-6791-45b2-dc54-f98479d2d56d",
        "colab": {
          "base_uri": "https://localhost:8080/",
          "height": 85
        }
      },
      "cell_type": "code",
      "source": [
        "# look at the shape and type of the data\n",
        "describeNumpyArray = lambda name, ar: print(f\"{name}: {type(ar)} of {type(ar.flatten()[0])}, with shape {ar.shape}\")\n",
        "\n",
        "describeNumpyArray('x_train', x_train)\n",
        "describeNumpyArray('y_train', y_train)\n",
        "describeNumpyArray('x_test', x_test)\n",
        "describeNumpyArray('y_test', y_test)"
      ],
      "execution_count": 4,
      "outputs": [
        {
          "output_type": "stream",
          "text": [
            "x_train: <class 'numpy.ndarray'> of <class 'numpy.uint8'>, with shape (60000, 28, 28)\n",
            "y_train: <class 'numpy.ndarray'> of <class 'numpy.uint8'>, with shape (60000,)\n",
            "x_test: <class 'numpy.ndarray'> of <class 'numpy.uint8'>, with shape (10000, 28, 28)\n",
            "y_test: <class 'numpy.ndarray'> of <class 'numpy.uint8'>, with shape (10000,)\n"
          ],
          "name": "stdout"
        }
      ]
    },
    {
      "metadata": {
        "id": "2uqiOnvOD0AJ",
        "colab_type": "code",
        "colab": {}
      },
      "cell_type": "code",
      "source": [
        "# example of single plot\n",
        "# plt.figure(figsize=(4,4))\n",
        "# plt.grid(False)\n",
        "# plt.axis('off')\n",
        "# plt.imshow(x_train[0], cmap='gray')\n",
        "# plt.title(f\"Image of digit {y_train[0]}\")"
      ],
      "execution_count": 0,
      "outputs": []
    },
    {
      "metadata": {
        "id": "KGi_zT0grjqu",
        "colab_type": "code",
        "colab": {}
      },
      "cell_type": "code",
      "source": [
        "def plotImagesByIndex(indexes, x_set, y_set, y_pred = None, suptitle = None):\n",
        "  image_columns = 8\n",
        "  image_rows = int(np.ceil(len(indexes)/image_columns))\n",
        "\n",
        "  fig, m_axs = plt.subplots(image_rows, image_columns, figsize = (image_columns*3, image_rows*3))\n",
        "  if suptitle is not None:\n",
        "    fig.suptitle(suptitle, fontsize=18)\n",
        "  for i in range(0, len(indexes)):\n",
        "    current_row = int(np.floor(i/image_columns))\n",
        "    current_column = i%image_columns\n",
        "    # print((current_row, current_column))\n",
        "    m = m_axs[current_row][current_column]\n",
        "    m.imshow(x_set[indexes[i]], cmap='gray')\n",
        "    m.grid(False)\n",
        "    m.axis('off')\n",
        "    if y_pred is None:\n",
        "      m.set_title(f\"Label: {y_set[indexes[i]]}\")\n",
        "    else:\n",
        "      m.set_title(f\"Label: {y_set[indexes[i]]}, pred: {y_pred[indexes[i]]}\")"
      ],
      "execution_count": 0,
      "outputs": []
    },
    {
      "metadata": {
        "id": "9jmgpLD_S9iy",
        "colab_type": "code",
        "outputId": "5eb4dcd5-e28c-4f98-fc98-d562cee290d7",
        "colab": {
          "base_uri": "https://localhost:8080/",
          "height": 414
        }
      },
      "cell_type": "code",
      "source": [
        "# Plot the digits\n",
        "sample_size = 16\n",
        "sample_indexes = np.random.choice(len(x_train), size=sample_size, replace=False)\n",
        "\n",
        "plotImagesByIndex(sample_indexes, x_train, y_train, suptitle = 'Random selection of digit images')"
      ],
      "execution_count": 7,
      "outputs": [
        {
          "output_type": "display_data",
          "data": {
            "image/png": "[encoded data removed]",
            "text/plain": [
              "<Figure size 1728x432 with 16 Axes>"
            ]
          },
          "metadata": {
            "tags": []
          }
        }
      ]
    },
    {
      "metadata": {
        "id": "rocNfwPK5ax5",
        "colab_type": "text"
      },
      "cell_type": "markdown",
      "source": [
        " ## CNN approach"
      ]
    },
    {
      "metadata": {
        "id": "TPcE-cf03x1G",
        "colab_type": "code",
        "colab": {}
      },
      "cell_type": "code",
      "source": [
        "from __future__ import print_function\n",
        "import keras\n",
        "from keras.models import Sequential\n",
        "from keras.layers import Dense, Dropout, Flatten, Activation\n",
        "from keras.layers import Conv2D, MaxPooling2D\n",
        "from keras import backend as K"
      ],
      "execution_count": 0,
      "outputs": []
    },
    {
      "metadata": {
        "id": "H4LmfX-Aaa9g",
        "colab_type": "text"
      },
      "cell_type": "markdown",
      "source": [
        "### Data preprocessing"
      ]
    },
    {
      "metadata": {
        "id": "1Q22VwhX38Uo",
        "colab_type": "code",
        "colab": {}
      },
      "cell_type": "code",
      "source": [
        "batch_size = 128\n",
        "epochs = 10 # it already gets very good results after 10 epohs (> 99% accuracy on the train set), but normally one has more then 10. Originallt the value was 120"
      ],
      "execution_count": 0,
      "outputs": []
    },
    {
      "metadata": {
        "id": "3pmTy4WP39hn",
        "colab_type": "code",
        "colab": {}
      },
      "cell_type": "code",
      "source": [
        "img_rows, img_cols = 28, 28"
      ],
      "execution_count": 0,
      "outputs": []
    },
    {
      "metadata": {
        "id": "o8gBkOMke2fl",
        "colab_type": "text"
      },
      "cell_type": "markdown",
      "source": [
        "#### reshaping the data with accordance on the Keras' needs\n",
        "\n",
        "As Keras takes images with n channels, and these are greyscale images (no channel array), one has to add array with channels which in this case will be of length 1 (single channel per pixel)."
      ]
    },
    {
      "metadata": {
        "id": "vKyX4Tya3-Zv",
        "colab_type": "code",
        "outputId": "3c3f9494-e3d9-4e3c-bd45-44d27b2f0337",
        "colab": {
          "base_uri": "https://localhost:8080/",
          "height": 34
        }
      },
      "cell_type": "code",
      "source": [
        "print(f\"K.image_data_format() = {K.image_data_format()}\")\n",
        "if K.image_data_format() == 'channels_first':\n",
        "    x_train_k = x_train.reshape(x_train.shape[0], 1, img_rows, img_cols)\n",
        "    x_test_k = x_test.reshape(x_test.shape[0], 1, img_rows, img_cols)\n",
        "    input_shape = (1, img_rows, img_cols)\n",
        "else:\n",
        "    x_train_k = x_train.reshape(x_train.shape[0], img_rows, img_cols, 1)\n",
        "    x_test_k = x_test.reshape(x_test.shape[0], img_rows, img_cols, 1)\n",
        "input_shape = (img_rows, img_cols, 1)\n",
        "\n",
        "# convert to float32\n",
        "x_train_k = x_train_k.astype('float32') \n",
        "x_test_k = x_test_k.astype('float32')\n",
        "\n",
        "# normalize to one\n",
        "x_train_k /= 255\n",
        "x_test_k /= 255"
      ],
      "execution_count": 11,
      "outputs": [
        {
          "output_type": "stream",
          "text": [
            "K.image_data_format() = channels_last\n"
          ],
          "name": "stdout"
        }
      ]
    },
    {
      "metadata": {
        "id": "nS6f4_3pZU9_",
        "colab_type": "code",
        "outputId": "a65dc06b-07fd-4299-fd7e-fd474126d05a",
        "colab": {
          "base_uri": "https://localhost:8080/",
          "height": 51
        }
      },
      "cell_type": "code",
      "source": [
        "describeNumpyArray('x_train_k', x_train_k)\n",
        "describeNumpyArray('x_test_k', x_test_k)"
      ],
      "execution_count": 12,
      "outputs": [
        {
          "output_type": "stream",
          "text": [
            "x_train_k: <class 'numpy.ndarray'> of <class 'numpy.float32'>, with shape (60000, 28, 28, 1)\n",
            "x_test_k: <class 'numpy.ndarray'> of <class 'numpy.float32'>, with shape (10000, 28, 28, 1)\n"
          ],
          "name": "stdout"
        }
      ]
    },
    {
      "metadata": {
        "id": "hQMRbujdxoS1",
        "colab_type": "text"
      },
      "cell_type": "markdown",
      "source": [
        "#### applying One Hot encoding to the output labels\n",
        "[Wiki One-Hot Encoder](https://en.wikipedia.org/wiki/One-hot)\n",
        "\n",
        "Converts a single labelled column into a vector of true/false columns saying true/false for each of the possibilities.\n",
        "\n",
        "Example of encoding\n",
        "* possible values: 'red', 'green', 'yellow'\n",
        "* example column: ['green', 'red', 'green', 'yellow']\n",
        "\n",
        "Is encoded into:\n",
        "* [[0 ,1, 0], [1 ,0, 0], [0 ,1, 0], [0, 0, 1]]\n",
        "\n",
        "##### Note:\n",
        "Some One-hot encoders could encode it into:\n",
        "* [[0 ,1], [1 ,0], [0 ,1], [0, 0]]\n",
        "with 'yellow' is encoded into [0,0], but not this one.\n",
        "\n",
        "Note that traditional class in scikitlearn is [label_binarize](https://scikit-learn.org/stable/modules/generated/sklearn.preprocessing.label_binarize.html#sklearn.preprocessing.label_binarize), but Keras library has it's own implementation\n"
      ]
    },
    {
      "metadata": {
        "id": "tczq1zJJ4Bd0",
        "colab_type": "code",
        "colab": {}
      },
      "cell_type": "code",
      "source": [
        "# One hot encoding\n",
        "y_train_k = keras.utils.to_categorical(y_train, num_classes)\n",
        "y_test_k = keras.utils.to_categorical(y_test, num_classes)"
      ],
      "execution_count": 0,
      "outputs": []
    },
    {
      "metadata": {
        "id": "hDtsYch8btN6",
        "colab_type": "code",
        "outputId": "a230d7dc-0139-4b50-e803-19d794197ac7",
        "colab": {
          "base_uri": "https://localhost:8080/",
          "height": 51
        }
      },
      "cell_type": "code",
      "source": [
        "describeNumpyArray('y_train_k', y_train_k)\n",
        "describeNumpyArray('y_test_k', y_test_k)"
      ],
      "execution_count": 14,
      "outputs": [
        {
          "output_type": "stream",
          "text": [
            "y_train_k: <class 'numpy.ndarray'> of <class 'numpy.float32'>, with shape (60000, 10)\n",
            "y_test_k: <class 'numpy.ndarray'> of <class 'numpy.float32'>, with shape (10000, 10)\n"
          ],
          "name": "stdout"
        }
      ]
    },
    {
      "metadata": {
        "id": "Kd-HjrJjb5jH",
        "colab_type": "code",
        "outputId": "595c61d2-1a64-4cf6-cbd3-72260e13ab67",
        "colab": {
          "base_uri": "https://localhost:8080/",
          "height": 297
        }
      },
      "cell_type": "code",
      "source": [
        "# just to visualize the output vectors after one hot encoding\n",
        "y_train_k_df = pd.DataFrame(y_train_k[0:8])\n",
        "y_train_k_df[\"OriginalLabel\"] = y_train[y_train_k_df.index]\n",
        "y_train_k_df"
      ],
      "execution_count": 15,
      "outputs": [
        {
          "output_type": "execute_result",
          "data": {
            "text/html": [
              "<div>\n",
              "<style scoped>\n",
              "    .dataframe tbody tr th:only-of-type {\n",
              "        vertical-align: middle;\n",
              "    }\n",
              "\n",
              "    .dataframe tbody tr th {\n",
              "        vertical-align: top;\n",
              "    }\n",
              "\n",
              "    .dataframe thead th {\n",
              "        text-align: right;\n",
              "    }\n",
              "</style>\n",
              "<table border=\"1\" class=\"dataframe\">\n",
              "  <thead>\n",
              "    <tr style=\"text-align: right;\">\n",
              "      <th></th>\n",
              "      <th>0</th>\n",
              "      <th>1</th>\n",
              "      <th>2</th>\n",
              "      <th>3</th>\n",
              "      <th>4</th>\n",
              "      <th>5</th>\n",
              "      <th>6</th>\n",
              "      <th>7</th>\n",
              "      <th>8</th>\n",
              "      <th>9</th>\n",
              "      <th>OriginalLabel</th>\n",
              "    </tr>\n",
              "  </thead>\n",
              "  <tbody>\n",
              "    <tr>\n",
              "      <th>0</th>\n",
              "      <td>0.0</td>\n",
              "      <td>0.0</td>\n",
              "      <td>0.0</td>\n",
              "      <td>0.0</td>\n",
              "      <td>0.0</td>\n",
              "      <td>1.0</td>\n",
              "      <td>0.0</td>\n",
              "      <td>0.0</td>\n",
              "      <td>0.0</td>\n",
              "      <td>0.0</td>\n",
              "      <td>5</td>\n",
              "    </tr>\n",
              "    <tr>\n",
              "      <th>1</th>\n",
              "      <td>1.0</td>\n",
              "      <td>0.0</td>\n",
              "      <td>0.0</td>\n",
              "      <td>0.0</td>\n",
              "      <td>0.0</td>\n",
              "      <td>0.0</td>\n",
              "      <td>0.0</td>\n",
              "      <td>0.0</td>\n",
              "      <td>0.0</td>\n",
              "      <td>0.0</td>\n",
              "      <td>0</td>\n",
              "    </tr>\n",
              "    <tr>\n",
              "      <th>2</th>\n",
              "      <td>0.0</td>\n",
              "      <td>0.0</td>\n",
              "      <td>0.0</td>\n",
              "      <td>0.0</td>\n",
              "      <td>1.0</td>\n",
              "      <td>0.0</td>\n",
              "      <td>0.0</td>\n",
              "      <td>0.0</td>\n",
              "      <td>0.0</td>\n",
              "      <td>0.0</td>\n",
              "      <td>4</td>\n",
              "    </tr>\n",
              "    <tr>\n",
              "      <th>3</th>\n",
              "      <td>0.0</td>\n",
              "      <td>1.0</td>\n",
              "      <td>0.0</td>\n",
              "      <td>0.0</td>\n",
              "      <td>0.0</td>\n",
              "      <td>0.0</td>\n",
              "      <td>0.0</td>\n",
              "      <td>0.0</td>\n",
              "      <td>0.0</td>\n",
              "      <td>0.0</td>\n",
              "      <td>1</td>\n",
              "    </tr>\n",
              "    <tr>\n",
              "      <th>4</th>\n",
              "      <td>0.0</td>\n",
              "      <td>0.0</td>\n",
              "      <td>0.0</td>\n",
              "      <td>0.0</td>\n",
              "      <td>0.0</td>\n",
              "      <td>0.0</td>\n",
              "      <td>0.0</td>\n",
              "      <td>0.0</td>\n",
              "      <td>0.0</td>\n",
              "      <td>1.0</td>\n",
              "      <td>9</td>\n",
              "    </tr>\n",
              "    <tr>\n",
              "      <th>5</th>\n",
              "      <td>0.0</td>\n",
              "      <td>0.0</td>\n",
              "      <td>1.0</td>\n",
              "      <td>0.0</td>\n",
              "      <td>0.0</td>\n",
              "      <td>0.0</td>\n",
              "      <td>0.0</td>\n",
              "      <td>0.0</td>\n",
              "      <td>0.0</td>\n",
              "      <td>0.0</td>\n",
              "      <td>2</td>\n",
              "    </tr>\n",
              "    <tr>\n",
              "      <th>6</th>\n",
              "      <td>0.0</td>\n",
              "      <td>1.0</td>\n",
              "      <td>0.0</td>\n",
              "      <td>0.0</td>\n",
              "      <td>0.0</td>\n",
              "      <td>0.0</td>\n",
              "      <td>0.0</td>\n",
              "      <td>0.0</td>\n",
              "      <td>0.0</td>\n",
              "      <td>0.0</td>\n",
              "      <td>1</td>\n",
              "    </tr>\n",
              "    <tr>\n",
              "      <th>7</th>\n",
              "      <td>0.0</td>\n",
              "      <td>0.0</td>\n",
              "      <td>0.0</td>\n",
              "      <td>1.0</td>\n",
              "      <td>0.0</td>\n",
              "      <td>0.0</td>\n",
              "      <td>0.0</td>\n",
              "      <td>0.0</td>\n",
              "      <td>0.0</td>\n",
              "      <td>0.0</td>\n",
              "      <td>3</td>\n",
              "    </tr>\n",
              "  </tbody>\n",
              "</table>\n",
              "</div>"
            ],
            "text/plain": [
              "     0    1    2    3    4    5    6    7    8    9  OriginalLabel\n",
              "0  0.0  0.0  0.0  0.0  0.0  1.0  0.0  0.0  0.0  0.0              5\n",
              "1  1.0  0.0  0.0  0.0  0.0  0.0  0.0  0.0  0.0  0.0              0\n",
              "2  0.0  0.0  0.0  0.0  1.0  0.0  0.0  0.0  0.0  0.0              4\n",
              "3  0.0  1.0  0.0  0.0  0.0  0.0  0.0  0.0  0.0  0.0              1\n",
              "4  0.0  0.0  0.0  0.0  0.0  0.0  0.0  0.0  0.0  1.0              9\n",
              "5  0.0  0.0  1.0  0.0  0.0  0.0  0.0  0.0  0.0  0.0              2\n",
              "6  0.0  1.0  0.0  0.0  0.0  0.0  0.0  0.0  0.0  0.0              1\n",
              "7  0.0  0.0  0.0  1.0  0.0  0.0  0.0  0.0  0.0  0.0              3"
            ]
          },
          "metadata": {
            "tags": []
          },
          "execution_count": 15
        }
      ]
    },
    {
      "metadata": {
        "id": "fytNaqPMy0uf",
        "colab_type": "text"
      },
      "cell_type": "markdown",
      "source": [
        "### Creating the CNN"
      ]
    },
    {
      "metadata": {
        "id": "uUShWbV24C4R",
        "colab_type": "code",
        "colab": {}
      },
      "cell_type": "code",
      "source": [
        "model = Sequential()"
      ],
      "execution_count": 0,
      "outputs": []
    },
    {
      "metadata": {
        "id": "bEzSoYEB4EOl",
        "colab_type": "code",
        "colab": {}
      },
      "cell_type": "code",
      "source": [
        "import tensorflow as tf "
      ],
      "execution_count": 0,
      "outputs": []
    },
    {
      "metadata": {
        "id": "eR3qIzvRy4jy",
        "colab_type": "text"
      },
      "cell_type": "markdown",
      "source": [
        "#### adding layers to the CNN\n",
        "\n",
        "Layer types:\n",
        "\n",
        "* The Convolution2D layers operate on 2D matrices so we input the digit images directly to the model.\n",
        "* The MaxPooling2D layer reduces the spatial dimensions, that is, makes the image smaller.\n",
        "* The Flatten layer flattens the 2D matrices into vectors, so we can then switch to Dense layers as in the MLP model.\n",
        "\n",
        "Read more:\n",
        "* [CNN Wiki](https://en.wikipedia.org/wiki/Convolutional_neural_network)\n",
        "* [Relu Activation Function - Wiki](https://en.wikipedia.org/wiki/Rectifier_(neural_networks)\n",
        "* [CNN Keras](https://keras.io/layers/convolutional/)\n",
        "* [Pooling Keras](https://keras.io/layers/pooling/)"
      ]
    },
    {
      "metadata": {
        "id": "p5P1W5284GnQ",
        "colab_type": "code",
        "outputId": "d88dbd3f-d522-4fdc-c80c-d9a09f6e4793",
        "colab": {
          "base_uri": "https://localhost:8080/",
          "height": 71
        }
      },
      "cell_type": "code",
      "source": [
        "# Model V1\n",
        "model.add(Conv2D(32, kernel_size=(3, 3), activation='relu', input_shape=input_shape))\n",
        "model.add(Conv2D(64, (3, 3), activation='relu'))\n",
        "model.add(Conv2D(128, (3, 3), activation='relu'))\n",
        "model.add(MaxPooling2D(pool_size=(2, 2)))\n",
        "model.add(Dropout(0.25))\n",
        "model.add(Flatten())\n",
        "model.add(Dense(128, activation='relu'))\n",
        "model.add(Dropout(0.5))\n",
        "model.add(Dense(num_classes, activation=Activation(tf.nn.softmax)))\n",
        "\n",
        "# # Model V2\n",
        "# nb_classes = 10\n",
        "# model.add(Conv2D(nb_filters, kernel_size=(3,3), padding='valid', input_shape=input_shape))\n",
        "# model.add(Activation('relu'))\n",
        "# model.add(Conv2D(nb_filters, kernel_size))\n",
        "# model.add(Activation('relu'))\n",
        "# model.add(MaxPooling2D(pool_size=(2,2)))\n",
        "# model.add(Dropout(0.25))\n",
        "# model.add(Flatten())\n",
        "# model.add(Dense(units=128))\n",
        "# model.add(Activation('relu'))\n",
        "# model.add(Dropout(0.5))\n",
        "# model.add(Dense(units=nb_classes))\n",
        "# model.add(Activation('softmax'))"
      ],
      "execution_count": 0,
      "outputs": [
        {
          "output_type": "stream",
          "text": [
            "/usr/local/lib/python3.6/dist-packages/keras/activations.py:211: UserWarning: Do not pass a layer instance (such as Activation) as the activation argument of another layer. Instead, advanced activation layers should be used just like any other layer in a model.\n",
            "  identifier=identifier.__class__.__name__))\n"
          ],
          "name": "stderr"
        }
      ]
    },
    {
      "metadata": {
        "id": "uJxeGY6wy9SY",
        "colab_type": "text"
      },
      "cell_type": "markdown",
      "source": [
        "#### compiling the model"
      ]
    },
    {
      "metadata": {
        "id": "xf9mmKWK4QMh",
        "colab_type": "code",
        "outputId": "e3fd29a9-1e71-420f-98f4-5ea528d4cc36",
        "colab": {
          "base_uri": "https://localhost:8080/",
          "height": 459
        }
      },
      "cell_type": "code",
      "source": [
        "model.compile(loss=keras.losses.categorical_crossentropy, optimizer=keras.optimizers.Adadelta(), metrics=['accuracy'])\n",
        "# model.compile(loss='categorical_crossentropy', optimizer='rmsprop', metrics=['accuracy'])\n",
        "\n",
        "print(model.summary())"
      ],
      "execution_count": 0,
      "outputs": [
        {
          "output_type": "stream",
          "text": [
            "_________________________________________________________________\n",
            "Layer (type)                 Output Shape              Param #   \n",
            "=================================================================\n",
            "conv2d_1 (Conv2D)            (None, 26, 26, 32)        320       \n",
            "_________________________________________________________________\n",
            "conv2d_2 (Conv2D)            (None, 24, 24, 64)        18496     \n",
            "_________________________________________________________________\n",
            "conv2d_3 (Conv2D)            (None, 22, 22, 128)       73856     \n",
            "_________________________________________________________________\n",
            "max_pooling2d_1 (MaxPooling2 (None, 11, 11, 128)       0         \n",
            "_________________________________________________________________\n",
            "dropout_1 (Dropout)          (None, 11, 11, 128)       0         \n",
            "_________________________________________________________________\n",
            "flatten_1 (Flatten)          (None, 15488)             0         \n",
            "_________________________________________________________________\n",
            "dense_1 (Dense)              (None, 128)               1982592   \n",
            "_________________________________________________________________\n",
            "dropout_2 (Dropout)          (None, 128)               0         \n",
            "_________________________________________________________________\n",
            "dense_2 (Dense)              (None, 10)                1290      \n",
            "=================================================================\n",
            "Total params: 2,076,554\n",
            "Trainable params: 2,076,554\n",
            "Non-trainable params: 0\n",
            "_________________________________________________________________\n",
            "None\n"
          ],
          "name": "stdout"
        }
      ]
    },
    {
      "metadata": {
        "id": "ctsEXRSS5mDL",
        "colab_type": "code",
        "outputId": "e5370783-df86-4667-ed72-32d2b0e974b3",
        "colab": {
          "base_uri": "https://localhost:8080/",
          "height": 1077
        }
      },
      "cell_type": "code",
      "source": [
        "from IPython.display import SVG\n",
        "from keras.utils.vis_utils import model_to_dot\n",
        "SVG(model_to_dot(model, show_shapes=True).create(prog='dot', format='svg'))"
      ],
      "execution_count": 0,
      "outputs": [
        {
          "output_type": "execute_result",
          "data": {
            "text/plain": [
              "<IPython.core.display.SVG object>"
            ],
            "image/svg+xml": "<svg height=\"792pt\" viewBox=\"0.00 0.00 419.00 792.00\" width=\"419pt\" xmlns=\"http://www.w3.org/2000/svg\" xmlns:xlink=\"http://www.w3.org/1999/xlink\">\n<g class=\"graph\" id=\"graph0\" transform=\"scale(1 1) rotate(0) translate(4 788)\">\n<title>G</title>\n<polygon fill=\"#ffffff\" points=\"-4,4 -4,-788 415,-788 415,4 -4,4\" stroke=\"transparent\"/>\n<!-- 140506681428120 -->\n<g class=\"node\" id=\"node1\">\n<title>140506681428120</title>\n<polygon fill=\"none\" points=\"47.5,-664.5 47.5,-710.5 363.5,-710.5 363.5,-664.5 47.5,-664.5\" stroke=\"#000000\"/>\n<text fill=\"#000000\" font-family=\"Times,serif\" font-size=\"14.00\" text-anchor=\"middle\" x=\"114\" y=\"-683.8\">conv2d_1: Conv2D</text>\n<polyline fill=\"none\" points=\"180.5,-664.5 180.5,-710.5 \" stroke=\"#000000\"/>\n<text fill=\"#000000\" font-family=\"Times,serif\" font-size=\"14.00\" text-anchor=\"middle\" x=\"209.5\" y=\"-695.3\">input:</text>\n<polyline fill=\"none\" points=\"180.5,-687.5 238.5,-687.5 \" stroke=\"#000000\"/>\n<text fill=\"#000000\" font-family=\"Times,serif\" font-size=\"14.00\" text-anchor=\"middle\" x=\"209.5\" y=\"-672.3\">output:</text>\n<polyline fill=\"none\" points=\"238.5,-664.5 238.5,-710.5 \" stroke=\"#000000\"/>\n<text fill=\"#000000\" font-family=\"Times,serif\" font-size=\"14.00\" text-anchor=\"middle\" x=\"301\" y=\"-695.3\">(None, 28, 28, 1)</text>\n<polyline fill=\"none\" points=\"238.5,-687.5 363.5,-687.5 \" stroke=\"#000000\"/>\n<text fill=\"#000000\" font-family=\"Times,serif\" font-size=\"14.00\" text-anchor=\"middle\" x=\"301\" y=\"-672.3\">(None, 26, 26, 32)</text>\n</g>\n<!-- 140506681428064 -->\n<g class=\"node\" id=\"node2\">\n<title>140506681428064</title>\n<polygon fill=\"none\" points=\"47.5,-581.5 47.5,-627.5 363.5,-627.5 363.5,-581.5 47.5,-581.5\" stroke=\"#000000\"/>\n<text fill=\"#000000\" font-family=\"Times,serif\" font-size=\"14.00\" text-anchor=\"middle\" x=\"114\" y=\"-600.8\">conv2d_2: Conv2D</text>\n<polyline fill=\"none\" points=\"180.5,-581.5 180.5,-627.5 \" stroke=\"#000000\"/>\n<text fill=\"#000000\" font-family=\"Times,serif\" font-size=\"14.00\" text-anchor=\"middle\" x=\"209.5\" y=\"-612.3\">input:</text>\n<polyline fill=\"none\" points=\"180.5,-604.5 238.5,-604.5 \" stroke=\"#000000\"/>\n<text fill=\"#000000\" font-family=\"Times,serif\" font-size=\"14.00\" text-anchor=\"middle\" x=\"209.5\" y=\"-589.3\">output:</text>\n<polyline fill=\"none\" points=\"238.5,-581.5 238.5,-627.5 \" stroke=\"#000000\"/>\n<text fill=\"#000000\" font-family=\"Times,serif\" font-size=\"14.00\" text-anchor=\"middle\" x=\"301\" y=\"-612.3\">(None, 26, 26, 32)</text>\n<polyline fill=\"none\" points=\"238.5,-604.5 363.5,-604.5 \" stroke=\"#000000\"/>\n<text fill=\"#000000\" font-family=\"Times,serif\" font-size=\"14.00\" text-anchor=\"middle\" x=\"301\" y=\"-589.3\">(None, 24, 24, 64)</text>\n</g>\n<!-- 140506681428120&#45;&gt;140506681428064 -->\n<g class=\"edge\" id=\"edge2\">\n<title>140506681428120-&gt;140506681428064</title>\n<path d=\"M205.5,-664.3799C205.5,-656.1745 205.5,-646.7679 205.5,-637.8786\" fill=\"none\" stroke=\"#000000\"/>\n<polygon fill=\"#000000\" points=\"209.0001,-637.784 205.5,-627.784 202.0001,-637.784 209.0001,-637.784\" stroke=\"#000000\"/>\n</g>\n<!-- 140506681428848 -->\n<g class=\"node\" id=\"node3\">\n<title>140506681428848</title>\n<polygon fill=\"none\" points=\"44,-498.5 44,-544.5 367,-544.5 367,-498.5 44,-498.5\" stroke=\"#000000\"/>\n<text fill=\"#000000\" font-family=\"Times,serif\" font-size=\"14.00\" text-anchor=\"middle\" x=\"110.5\" y=\"-517.8\">conv2d_3: Conv2D</text>\n<polyline fill=\"none\" points=\"177,-498.5 177,-544.5 \" stroke=\"#000000\"/>\n<text fill=\"#000000\" font-family=\"Times,serif\" font-size=\"14.00\" text-anchor=\"middle\" x=\"206\" y=\"-529.3\">input:</text>\n<polyline fill=\"none\" points=\"177,-521.5 235,-521.5 \" stroke=\"#000000\"/>\n<text fill=\"#000000\" font-family=\"Times,serif\" font-size=\"14.00\" text-anchor=\"middle\" x=\"206\" y=\"-506.3\">output:</text>\n<polyline fill=\"none\" points=\"235,-498.5 235,-544.5 \" stroke=\"#000000\"/>\n<text fill=\"#000000\" font-family=\"Times,serif\" font-size=\"14.00\" text-anchor=\"middle\" x=\"301\" y=\"-529.3\">(None, 24, 24, 64)</text>\n<polyline fill=\"none\" points=\"235,-521.5 367,-521.5 \" stroke=\"#000000\"/>\n<text fill=\"#000000\" font-family=\"Times,serif\" font-size=\"14.00\" text-anchor=\"middle\" x=\"301\" y=\"-506.3\">(None, 22, 22, 128)</text>\n</g>\n<!-- 140506681428064&#45;&gt;140506681428848 -->\n<g class=\"edge\" id=\"edge3\">\n<title>140506681428064-&gt;140506681428848</title>\n<path d=\"M205.5,-581.3799C205.5,-573.1745 205.5,-563.7679 205.5,-554.8786\" fill=\"none\" stroke=\"#000000\"/>\n<polygon fill=\"#000000\" points=\"209.0001,-554.784 205.5,-544.784 202.0001,-554.784 209.0001,-554.784\" stroke=\"#000000\"/>\n</g>\n<!-- 140506681163848 -->\n<g class=\"node\" id=\"node4\">\n<title>140506681163848</title>\n<polygon fill=\"none\" points=\"0,-415.5 0,-461.5 411,-461.5 411,-415.5 0,-415.5\" stroke=\"#000000\"/>\n<text fill=\"#000000\" font-family=\"Times,serif\" font-size=\"14.00\" text-anchor=\"middle\" x=\"110.5\" y=\"-434.8\">max_pooling2d_1: MaxPooling2D</text>\n<polyline fill=\"none\" points=\"221,-415.5 221,-461.5 \" stroke=\"#000000\"/>\n<text fill=\"#000000\" font-family=\"Times,serif\" font-size=\"14.00\" text-anchor=\"middle\" x=\"250\" y=\"-446.3\">input:</text>\n<polyline fill=\"none\" points=\"221,-438.5 279,-438.5 \" stroke=\"#000000\"/>\n<text fill=\"#000000\" font-family=\"Times,serif\" font-size=\"14.00\" text-anchor=\"middle\" x=\"250\" y=\"-423.3\">output:</text>\n<polyline fill=\"none\" points=\"279,-415.5 279,-461.5 \" stroke=\"#000000\"/>\n<text fill=\"#000000\" font-family=\"Times,serif\" font-size=\"14.00\" text-anchor=\"middle\" x=\"345\" y=\"-446.3\">(None, 22, 22, 128)</text>\n<polyline fill=\"none\" points=\"279,-438.5 411,-438.5 \" stroke=\"#000000\"/>\n<text fill=\"#000000\" font-family=\"Times,serif\" font-size=\"14.00\" text-anchor=\"middle\" x=\"345\" y=\"-423.3\">(None, 11, 11, 128)</text>\n</g>\n<!-- 140506681428848&#45;&gt;140506681163848 -->\n<g class=\"edge\" id=\"edge4\">\n<title>140506681428848-&gt;140506681163848</title>\n<path d=\"M205.5,-498.3799C205.5,-490.1745 205.5,-480.7679 205.5,-471.8786\" fill=\"none\" stroke=\"#000000\"/>\n<polygon fill=\"#000000\" points=\"209.0001,-471.784 205.5,-461.784 202.0001,-471.784 209.0001,-471.784\" stroke=\"#000000\"/>\n</g>\n<!-- 140506680962968 -->\n<g class=\"node\" id=\"node5\">\n<title>140506680962968</title>\n<polygon fill=\"none\" points=\"44,-332.5 44,-378.5 367,-378.5 367,-332.5 44,-332.5\" stroke=\"#000000\"/>\n<text fill=\"#000000\" font-family=\"Times,serif\" font-size=\"14.00\" text-anchor=\"middle\" x=\"111\" y=\"-351.8\">dropout_1: Dropout</text>\n<polyline fill=\"none\" points=\"178,-332.5 178,-378.5 \" stroke=\"#000000\"/>\n<text fill=\"#000000\" font-family=\"Times,serif\" font-size=\"14.00\" text-anchor=\"middle\" x=\"207\" y=\"-363.3\">input:</text>\n<polyline fill=\"none\" points=\"178,-355.5 236,-355.5 \" stroke=\"#000000\"/>\n<text fill=\"#000000\" font-family=\"Times,serif\" font-size=\"14.00\" text-anchor=\"middle\" x=\"207\" y=\"-340.3\">output:</text>\n<polyline fill=\"none\" points=\"236,-332.5 236,-378.5 \" stroke=\"#000000\"/>\n<text fill=\"#000000\" font-family=\"Times,serif\" font-size=\"14.00\" text-anchor=\"middle\" x=\"301.5\" y=\"-363.3\">(None, 11, 11, 128)</text>\n<polyline fill=\"none\" points=\"236,-355.5 367,-355.5 \" stroke=\"#000000\"/>\n<text fill=\"#000000\" font-family=\"Times,serif\" font-size=\"14.00\" text-anchor=\"middle\" x=\"301.5\" y=\"-340.3\">(None, 11, 11, 128)</text>\n</g>\n<!-- 140506681163848&#45;&gt;140506680962968 -->\n<g class=\"edge\" id=\"edge5\">\n<title>140506681163848-&gt;140506680962968</title>\n<path d=\"M205.5,-415.3799C205.5,-407.1745 205.5,-397.7679 205.5,-388.8786\" fill=\"none\" stroke=\"#000000\"/>\n<polygon fill=\"#000000\" points=\"209.0001,-388.784 205.5,-378.784 202.0001,-388.784 209.0001,-388.784\" stroke=\"#000000\"/>\n</g>\n<!-- 140506681164240 -->\n<g class=\"node\" id=\"node6\">\n<title>140506681164240</title>\n<polygon fill=\"none\" points=\"54.5,-249.5 54.5,-295.5 356.5,-295.5 356.5,-249.5 54.5,-249.5\" stroke=\"#000000\"/>\n<text fill=\"#000000\" font-family=\"Times,serif\" font-size=\"14.00\" text-anchor=\"middle\" x=\"111\" y=\"-268.8\">flatten_1: Flatten</text>\n<polyline fill=\"none\" points=\"167.5,-249.5 167.5,-295.5 \" stroke=\"#000000\"/>\n<text fill=\"#000000\" font-family=\"Times,serif\" font-size=\"14.00\" text-anchor=\"middle\" x=\"196.5\" y=\"-280.3\">input:</text>\n<polyline fill=\"none\" points=\"167.5,-272.5 225.5,-272.5 \" stroke=\"#000000\"/>\n<text fill=\"#000000\" font-family=\"Times,serif\" font-size=\"14.00\" text-anchor=\"middle\" x=\"196.5\" y=\"-257.3\">output:</text>\n<polyline fill=\"none\" points=\"225.5,-249.5 225.5,-295.5 \" stroke=\"#000000\"/>\n<text fill=\"#000000\" font-family=\"Times,serif\" font-size=\"14.00\" text-anchor=\"middle\" x=\"291\" y=\"-280.3\">(None, 11, 11, 128)</text>\n<polyline fill=\"none\" points=\"225.5,-272.5 356.5,-272.5 \" stroke=\"#000000\"/>\n<text fill=\"#000000\" font-family=\"Times,serif\" font-size=\"14.00\" text-anchor=\"middle\" x=\"291\" y=\"-257.3\">(None, 15488)</text>\n</g>\n<!-- 140506680962968&#45;&gt;140506681164240 -->\n<g class=\"edge\" id=\"edge6\">\n<title>140506680962968-&gt;140506681164240</title>\n<path d=\"M205.5,-332.3799C205.5,-324.1745 205.5,-314.7679 205.5,-305.8786\" fill=\"none\" stroke=\"#000000\"/>\n<polygon fill=\"#000000\" points=\"209.0001,-305.784 205.5,-295.784 202.0001,-305.784 209.0001,-305.784\" stroke=\"#000000\"/>\n</g>\n<!-- 140506681163960 -->\n<g class=\"node\" id=\"node7\">\n<title>140506681163960</title>\n<polygon fill=\"none\" points=\"72,-166.5 72,-212.5 339,-212.5 339,-166.5 72,-166.5\" stroke=\"#000000\"/>\n<text fill=\"#000000\" font-family=\"Times,serif\" font-size=\"14.00\" text-anchor=\"middle\" x=\"125.5\" y=\"-185.8\">dense_1: Dense</text>\n<polyline fill=\"none\" points=\"179,-166.5 179,-212.5 \" stroke=\"#000000\"/>\n<text fill=\"#000000\" font-family=\"Times,serif\" font-size=\"14.00\" text-anchor=\"middle\" x=\"208\" y=\"-197.3\">input:</text>\n<polyline fill=\"none\" points=\"179,-189.5 237,-189.5 \" stroke=\"#000000\"/>\n<text fill=\"#000000\" font-family=\"Times,serif\" font-size=\"14.00\" text-anchor=\"middle\" x=\"208\" y=\"-174.3\">output:</text>\n<polyline fill=\"none\" points=\"237,-166.5 237,-212.5 \" stroke=\"#000000\"/>\n<text fill=\"#000000\" font-family=\"Times,serif\" font-size=\"14.00\" text-anchor=\"middle\" x=\"288\" y=\"-197.3\">(None, 15488)</text>\n<polyline fill=\"none\" points=\"237,-189.5 339,-189.5 \" stroke=\"#000000\"/>\n<text fill=\"#000000\" font-family=\"Times,serif\" font-size=\"14.00\" text-anchor=\"middle\" x=\"288\" y=\"-174.3\">(None, 128)</text>\n</g>\n<!-- 140506681164240&#45;&gt;140506681163960 -->\n<g class=\"edge\" id=\"edge7\">\n<title>140506681164240-&gt;140506681163960</title>\n<path d=\"M205.5,-249.3799C205.5,-241.1745 205.5,-231.7679 205.5,-222.8786\" fill=\"none\" stroke=\"#000000\"/>\n<polygon fill=\"#000000\" points=\"209.0001,-222.784 205.5,-212.784 202.0001,-222.784 209.0001,-222.784\" stroke=\"#000000\"/>\n</g>\n<!-- 140506680739432 -->\n<g class=\"node\" id=\"node8\">\n<title>140506680739432</title>\n<polygon fill=\"none\" points=\"66,-83.5 66,-129.5 345,-129.5 345,-83.5 66,-83.5\" stroke=\"#000000\"/>\n<text fill=\"#000000\" font-family=\"Times,serif\" font-size=\"14.00\" text-anchor=\"middle\" x=\"133\" y=\"-102.8\">dropout_2: Dropout</text>\n<polyline fill=\"none\" points=\"200,-83.5 200,-129.5 \" stroke=\"#000000\"/>\n<text fill=\"#000000\" font-family=\"Times,serif\" font-size=\"14.00\" text-anchor=\"middle\" x=\"229\" y=\"-114.3\">input:</text>\n<polyline fill=\"none\" points=\"200,-106.5 258,-106.5 \" stroke=\"#000000\"/>\n<text fill=\"#000000\" font-family=\"Times,serif\" font-size=\"14.00\" text-anchor=\"middle\" x=\"229\" y=\"-91.3\">output:</text>\n<polyline fill=\"none\" points=\"258,-83.5 258,-129.5 \" stroke=\"#000000\"/>\n<text fill=\"#000000\" font-family=\"Times,serif\" font-size=\"14.00\" text-anchor=\"middle\" x=\"301.5\" y=\"-114.3\">(None, 128)</text>\n<polyline fill=\"none\" points=\"258,-106.5 345,-106.5 \" stroke=\"#000000\"/>\n<text fill=\"#000000\" font-family=\"Times,serif\" font-size=\"14.00\" text-anchor=\"middle\" x=\"301.5\" y=\"-91.3\">(None, 128)</text>\n</g>\n<!-- 140506681163960&#45;&gt;140506680739432 -->\n<g class=\"edge\" id=\"edge8\">\n<title>140506681163960-&gt;140506680739432</title>\n<path d=\"M205.5,-166.3799C205.5,-158.1745 205.5,-148.7679 205.5,-139.8786\" fill=\"none\" stroke=\"#000000\"/>\n<polygon fill=\"#000000\" points=\"209.0001,-139.784 205.5,-129.784 202.0001,-139.784 209.0001,-139.784\" stroke=\"#000000\"/>\n</g>\n<!-- 140506680418200 -->\n<g class=\"node\" id=\"node9\">\n<title>140506680418200</title>\n<polygon fill=\"none\" points=\"79.5,-.5 79.5,-46.5 331.5,-46.5 331.5,-.5 79.5,-.5\" stroke=\"#000000\"/>\n<text fill=\"#000000\" font-family=\"Times,serif\" font-size=\"14.00\" text-anchor=\"middle\" x=\"133\" y=\"-19.8\">dense_2: Dense</text>\n<polyline fill=\"none\" points=\"186.5,-.5 186.5,-46.5 \" stroke=\"#000000\"/>\n<text fill=\"#000000\" font-family=\"Times,serif\" font-size=\"14.00\" text-anchor=\"middle\" x=\"215.5\" y=\"-31.3\">input:</text>\n<polyline fill=\"none\" points=\"186.5,-23.5 244.5,-23.5 \" stroke=\"#000000\"/>\n<text fill=\"#000000\" font-family=\"Times,serif\" font-size=\"14.00\" text-anchor=\"middle\" x=\"215.5\" y=\"-8.3\">output:</text>\n<polyline fill=\"none\" points=\"244.5,-.5 244.5,-46.5 \" stroke=\"#000000\"/>\n<text fill=\"#000000\" font-family=\"Times,serif\" font-size=\"14.00\" text-anchor=\"middle\" x=\"288\" y=\"-31.3\">(None, 128)</text>\n<polyline fill=\"none\" points=\"244.5,-23.5 331.5,-23.5 \" stroke=\"#000000\"/>\n<text fill=\"#000000\" font-family=\"Times,serif\" font-size=\"14.00\" text-anchor=\"middle\" x=\"288\" y=\"-8.3\">(None, 10)</text>\n</g>\n<!-- 140506680739432&#45;&gt;140506680418200 -->\n<g class=\"edge\" id=\"edge9\">\n<title>140506680739432-&gt;140506680418200</title>\n<path d=\"M205.5,-83.3799C205.5,-75.1745 205.5,-65.7679 205.5,-56.8786\" fill=\"none\" stroke=\"#000000\"/>\n<polygon fill=\"#000000\" points=\"209.0001,-56.784 205.5,-46.784 202.0001,-56.784 209.0001,-56.784\" stroke=\"#000000\"/>\n</g>\n<!-- 140506681428512 -->\n<g class=\"node\" id=\"node10\">\n<title>140506681428512</title>\n<polygon fill=\"none\" points=\"141,-747.5 141,-783.5 270,-783.5 270,-747.5 141,-747.5\" stroke=\"#000000\"/>\n<text fill=\"#000000\" font-family=\"Times,serif\" font-size=\"14.00\" text-anchor=\"middle\" x=\"205.5\" y=\"-761.8\">140506681428512</text>\n</g>\n<!-- 140506681428512&#45;&gt;140506681428120 -->\n<g class=\"edge\" id=\"edge1\">\n<title>140506681428512-&gt;140506681428120</title>\n<path d=\"M205.5,-747.4092C205.5,-739.4308 205.5,-729.795 205.5,-720.606\" fill=\"none\" stroke=\"#000000\"/>\n<polygon fill=\"#000000\" points=\"209.0001,-720.5333 205.5,-710.5333 202.0001,-720.5334 209.0001,-720.5333\" stroke=\"#000000\"/>\n</g>\n</g>\n</svg>"
          },
          "metadata": {
            "tags": []
          },
          "execution_count": 20
        }
      ]
    },
    {
      "metadata": {
        "id": "W1o7VFdvzCcY",
        "colab_type": "text"
      },
      "cell_type": "markdown",
      "source": [
        "#### training the model"
      ]
    },
    {
      "metadata": {
        "id": "hRMGGn5g4RdW",
        "colab_type": "code",
        "outputId": "01b04738-9d20-4041-cf14-63071c22657b",
        "colab": {
          "base_uri": "https://localhost:8080/",
          "height": 374
        }
      },
      "cell_type": "code",
      "source": [
        "# carefully, this takes a lot of time\n",
        "history = model.fit(x_train_k, y_train_k,\n",
        "                    batch_size=batch_size,\n",
        "                    epochs=epochs,\n",
        "                    verbose=1,\n",
        "                    validation_data=(x_test_k, y_test_k))"
      ],
      "execution_count": 0,
      "outputs": [
        {
          "output_type": "stream",
          "text": [
            "Train on 60000 samples, validate on 10000 samples\n",
            "Epoch 1/10\n",
            "60000/60000 [==============================] - 19s 312us/step - loss: 0.2410 - acc: 0.9262 - val_loss: 0.0499 - val_acc: 0.9835\n",
            "Epoch 2/10\n",
            "60000/60000 [==============================] - 17s 285us/step - loss: 0.0761 - acc: 0.9778 - val_loss: 0.0355 - val_acc: 0.9888\n",
            "Epoch 3/10\n",
            "60000/60000 [==============================] - 17s 285us/step - loss: 0.0568 - acc: 0.9836 - val_loss: 0.0263 - val_acc: 0.9910\n",
            "Epoch 4/10\n",
            "60000/60000 [==============================] - 17s 287us/step - loss: 0.0465 - acc: 0.9865 - val_loss: 0.0273 - val_acc: 0.9903\n",
            "Epoch 5/10\n",
            "60000/60000 [==============================] - 17s 285us/step - loss: 0.0376 - acc: 0.9887 - val_loss: 0.0239 - val_acc: 0.9912\n",
            "Epoch 6/10\n",
            "60000/60000 [==============================] - 17s 285us/step - loss: 0.0339 - acc: 0.9899 - val_loss: 0.0236 - val_acc: 0.9915\n",
            "Epoch 7/10\n",
            "60000/60000 [==============================] - 17s 286us/step - loss: 0.0304 - acc: 0.9911 - val_loss: 0.0243 - val_acc: 0.9917\n",
            "Epoch 8/10\n",
            "60000/60000 [==============================] - 17s 286us/step - loss: 0.0270 - acc: 0.9918 - val_loss: 0.0232 - val_acc: 0.9923\n",
            "Epoch 9/10\n",
            "60000/60000 [==============================] - 17s 284us/step - loss: 0.0236 - acc: 0.9927 - val_loss: 0.0200 - val_acc: 0.9929\n",
            "Epoch 10/10\n",
            "60000/60000 [==============================] - 17s 284us/step - loss: 0.0228 - acc: 0.9930 - val_loss: 0.0251 - val_acc: 0.9914\n"
          ],
          "name": "stdout"
        }
      ]
    },
    {
      "metadata": {
        "id": "YrwbT64E7FoM",
        "colab_type": "code",
        "outputId": "b17f4db2-1e15-4873-f0a0-8825a103186a",
        "colab": {
          "base_uri": "https://localhost:8080/",
          "height": 226
        }
      },
      "cell_type": "code",
      "source": [
        "fig, m_axs = plt.subplots(1, 2, figsize = (10, 3))\n",
        "\n",
        "m_axs[0].plot(history.epoch,history.history['loss'])\n",
        "m_axs[0].set_title('loss')\n",
        "m_axs[0].grid(False)\n",
        "m_axs[1].plot(history.epoch,history.history['acc'])\n",
        "m_axs[1].set_title('accuracy');\n",
        "m_axs[1].grid(False)"
      ],
      "execution_count": 0,
      "outputs": [
        {
          "output_type": "display_data",
          "data": {
            "image/png": "[encoded data removed]",
            "text/plain": [
              "<Figure size 720x216 with 2 Axes>"
            ]
          },
          "metadata": {
            "tags": []
          }
        }
      ]
    },
    {
      "metadata": {
        "id": "bUFlA5EvzFDB",
        "colab_type": "text"
      },
      "cell_type": "markdown",
      "source": [
        "#### evaulating and viewing the result"
      ]
    },
    {
      "metadata": {
        "id": "kmOm_dDFojM3",
        "colab_type": "code",
        "colab": {}
      },
      "cell_type": "code",
      "source": [
        "pred = model.predict(x_test_k, verbose=0)\n",
        "# as predictions are probabilities from 0 to 1 (but rarely exactly these values) one must apply decision threshold\n",
        "# np.round applies a decision threshold at 0.5\n",
        "pred_classified = np.round(pred)\n",
        "\n",
        "# reverse One-Hot encoder. Note that it is not always that trivial :)\n",
        "# it only works this time because the index of the column is the same as the value before the encoding\n",
        "# in normal cases one has to train One-Hot encoder and the reverse it\n",
        "pred_label = np.argmax(pred_classified, axis=1)"
      ],
      "execution_count": 0,
      "outputs": []
    },
    {
      "metadata": {
        "id": "R6U6JC6Z4Scj",
        "colab_type": "code",
        "outputId": "469f7529-cad8-4dfc-df26-e45db74ee478",
        "colab": {
          "base_uri": "https://localhost:8080/",
          "height": 51
        }
      },
      "cell_type": "code",
      "source": [
        "score = model.evaluate(x_test_k, y_test_k, verbose=0)\n",
        "print(f'Test loss: {score[0]}')\n",
        "print(f'Test accuracy: {score[1]}')\n",
        "\n",
        "confusion_matrix_cnn = sm.confusion_matrix(y_test, pred_label)\n",
        "print(f'Test confusion matrix: {confusion_matrix_cnn}')"
      ],
      "execution_count": 0,
      "outputs": [
        {
          "output_type": "stream",
          "text": [
            "Test loss: 0.02506204844941676\n",
            "Test accuracy: 0.9914\n"
          ],
          "name": "stdout"
        }
      ]
    },
    {
      "metadata": {
        "id": "GtUwoxSdlZqu",
        "colab_type": "code",
        "outputId": "0a5f3c9c-e16d-479c-abf2-e9dfd7015b51",
        "colab": {
          "base_uri": "https://localhost:8080/",
          "height": 85
        }
      },
      "cell_type": "code",
      "source": [
        "describeNumpyArray('y_test_k', y_test_k)\n",
        "describeNumpyArray('pred', pred)\n",
        "describeNumpyArray('pred_classified', pred_classified)\n",
        "describeNumpyArray('pred_label', pred_label)"
      ],
      "execution_count": 0,
      "outputs": [
        {
          "output_type": "stream",
          "text": [
            "x_test_k: <class 'numpy.ndarray'> of <class 'numpy.float32'>, with shape (10000, 10)\n",
            "pred: <class 'numpy.ndarray'> of <class 'numpy.float32'>, with shape (10000, 10)\n",
            "pred_classified: <class 'numpy.ndarray'> of <class 'numpy.float32'>, with shape (10000, 10)\n",
            "pred_label: <class 'numpy.ndarray'> of <class 'numpy.int64'>, with shape (10000,)\n"
          ],
          "name": "stdout"
        }
      ]
    },
    {
      "metadata": {
        "id": "I_feSdjCmgFA",
        "colab_type": "code",
        "colab": {}
      },
      "cell_type": "code",
      "source": [
        "# find all indexes where the classification does not match the actual label \n",
        "# read about np.all and np.any\n",
        "misclasified_indexes = np.where((y_test_k != pred_classified).any(axis=1))[0]\n",
        "clasified_indexes = np.where((y_test_k == pred_classified).all(axis=1))[0]"
      ],
      "execution_count": 0,
      "outputs": []
    },
    {
      "metadata": {
        "id": "EzSgBRhSm0uO",
        "colab_type": "code",
        "colab": {}
      },
      "cell_type": "code",
      "source": [
        "# Plot correctly classified images\n",
        "plotImagesByIndex(clasified_indexes[np.random.choice(len(clasified_indexes), size=sample_size, replace=False)], x_test, y_test, pred_label, suptitle = 'CNN: correctly classified images')"
      ],
      "execution_count": 0,
      "outputs": []
    },
    {
      "metadata": {
        "id": "ibwL_z83oqOA",
        "colab_type": "code",
        "colab": {}
      },
      "cell_type": "code",
      "source": [
        "# Plot misclasified images\n",
        "plotImagesByIndex(misclasified_indexes[np.random.choice(len(misclasified_indexes), size=sample_size, replace=False)], x_test, y_test, pred_label, suptitle = 'CNN: misclassified images')"
      ],
      "execution_count": 0,
      "outputs": []
    },
    {
      "metadata": {
        "id": "_JOyTSpE6dSQ",
        "colab_type": "text"
      },
      "cell_type": "markdown",
      "source": [
        "## Random Forest approach"
      ]
    },
    {
      "metadata": {
        "id": "SMx9Z7_7-xjw",
        "colab_type": "text"
      },
      "cell_type": "markdown",
      "source": [
        "### Data Preprocessing\n",
        "\n",
        "Model requires 2D matrix, wiht each row being a single image/observation"
      ]
    },
    {
      "metadata": {
        "id": "r2ZHWWwO6g8n",
        "colab_type": "code",
        "colab": {}
      },
      "cell_type": "code",
      "source": [
        "x_train_flat = x_train.reshape(60000, 28*28)\n",
        "x_test_flat = x_test.reshape(10000, 28*28)"
      ],
      "execution_count": 0,
      "outputs": []
    },
    {
      "metadata": {
        "id": "i97j6H7K7CLV",
        "colab_type": "code",
        "colab": {
          "base_uri": "https://localhost:8080/",
          "height": 34
        },
        "outputId": "e1dc1ca2-2416-4386-c521-bafb3cfe433a"
      },
      "cell_type": "code",
      "source": [
        "image_a = x_train[0].reshape(28*28)\n",
        "image_b = x_train_flat[0]\n",
        "are_equal = np.array_equal(image_a, image_b)\n",
        "print(f\"Are images before and after transformation the same: {are_equal}\")"
      ],
      "execution_count": 17,
      "outputs": [
        {
          "output_type": "stream",
          "text": [
            "Are images before and after transformation the same: True\n"
          ],
          "name": "stdout"
        }
      ]
    },
    {
      "metadata": {
        "id": "TGImys4z72pr",
        "colab_type": "code",
        "colab": {
          "base_uri": "https://localhost:8080/",
          "height": 85
        },
        "outputId": "789b50cf-37d4-4045-90cd-b88923eb7a4e"
      },
      "cell_type": "code",
      "source": [
        "describeNumpyArray('x_train', x_train)\n",
        "describeNumpyArray('x_train_flat', x_train_flat)\n",
        "describeNumpyArray('x_test', x_test)\n",
        "describeNumpyArray('x_test_flat', x_test_flat)"
      ],
      "execution_count": 18,
      "outputs": [
        {
          "output_type": "stream",
          "text": [
            "x_train: <class 'numpy.ndarray'> of <class 'numpy.uint8'>, with shape (60000, 28, 28)\n",
            "x_train_flat: <class 'numpy.ndarray'> of <class 'numpy.uint8'>, with shape (60000, 784)\n",
            "x_test: <class 'numpy.ndarray'> of <class 'numpy.uint8'>, with shape (10000, 28, 28)\n",
            "x_test_flat: <class 'numpy.ndarray'> of <class 'numpy.uint8'>, with shape (10000, 784)\n"
          ],
          "name": "stdout"
        }
      ]
    },
    {
      "metadata": {
        "id": "tyzFHHEK--Ck",
        "colab_type": "text"
      },
      "cell_type": "markdown",
      "source": [
        "### Creating the RandomForrestClassifier"
      ]
    },
    {
      "metadata": {
        "id": "p1zv_xmO8AnD",
        "colab_type": "code",
        "colab": {}
      },
      "cell_type": "code",
      "source": [
        "from sklearn.ensemble import RandomForestClassifier"
      ],
      "execution_count": 0,
      "outputs": []
    },
    {
      "metadata": {
        "id": "MpU3f05S9An0",
        "colab_type": "code",
        "colab": {}
      },
      "cell_type": "code",
      "source": [
        "model_rf = RandomForestClassifier(n_jobs = core_count, verbose = True, n_estimators = 20)"
      ],
      "execution_count": 0,
      "outputs": []
    },
    {
      "metadata": {
        "id": "hFNOoxYD9Usw",
        "colab_type": "code",
        "colab": {
          "base_uri": "https://localhost:8080/",
          "height": 170
        },
        "outputId": "b23b870d-ecda-4caf-a3c7-d418e054c2aa"
      },
      "cell_type": "code",
      "source": [
        "model_rf.fit(x_train_flat, y_train)"
      ],
      "execution_count": 92,
      "outputs": [
        {
          "output_type": "stream",
          "text": [
            "[Parallel(n_jobs=2)]: Using backend ThreadingBackend with 2 concurrent workers.\n",
            "[Parallel(n_jobs=2)]: Done  20 out of  20 | elapsed:   11.6s finished\n"
          ],
          "name": "stderr"
        },
        {
          "output_type": "execute_result",
          "data": {
            "text/plain": [
              "RandomForestClassifier(bootstrap=True, class_weight=None, criterion='gini',\n",
              "            max_depth=None, max_features='auto', max_leaf_nodes=None,\n",
              "            min_impurity_decrease=0.0, min_impurity_split=None,\n",
              "            min_samples_leaf=1, min_samples_split=2,\n",
              "            min_weight_fraction_leaf=0.0, n_estimators=20, n_jobs=2,\n",
              "            oob_score=False, random_state=None, verbose=True,\n",
              "            warm_start=False)"
            ]
          },
          "metadata": {
            "tags": []
          },
          "execution_count": 92
        }
      ]
    },
    {
      "metadata": {
        "id": "A7iEj_whwR9Q",
        "colab_type": "code",
        "colab": {
          "base_uri": "https://localhost:8080/",
          "height": 34
        },
        "outputId": "1a80373d-efcf-42ff-d5b1-2f1a545e44de"
      },
      "cell_type": "code",
      "source": [
        "print(f\"Number of trees is {len(model_rf)} and number of nodes per tree is {list(map(lambda a: a.tree_.node_count, model_rf))}\")\n",
        "# display(model_rf.estimators_)"
      ],
      "execution_count": 133,
      "outputs": [
        {
          "output_type": "stream",
          "text": [
            "Number of trees is 20 and number of nodes per tree is [9909, 9927, 9695, 10247, 10089, 9825, 9691, 10275, 10111, 9941, 9849, 10069, 10253, 10113, 9949, 10095, 10025, 9767, 10187, 9873]\n"
          ],
          "name": "stdout"
        }
      ]
    },
    {
      "metadata": {
        "id": "gbAD_fzb_arh",
        "colab_type": "code",
        "colab": {
          "base_uri": "https://localhost:8080/",
          "height": 51
        },
        "outputId": "500c9031-cec5-434b-bb4d-19776eb8da40"
      },
      "cell_type": "code",
      "source": [
        "pred_rf = model_rf.predict(x_test_flat)\n",
        "# use predict_proba to get the probabilities"
      ],
      "execution_count": 95,
      "outputs": [
        {
          "output_type": "stream",
          "text": [
            "[Parallel(n_jobs=2)]: Using backend ThreadingBackend with 2 concurrent workers.\n",
            "[Parallel(n_jobs=2)]: Done  20 out of  20 | elapsed:    0.1s finished\n"
          ],
          "name": "stderr"
        }
      ]
    },
    {
      "metadata": {
        "id": "trlphZ5k_z5d",
        "colab_type": "code",
        "colab": {
          "base_uri": "https://localhost:8080/",
          "height": 221
        },
        "outputId": "4e2d031f-e397-434d-aa25-8242bb200c3e"
      },
      "cell_type": "code",
      "source": [
        "accuracy_rf = sm.accuracy_score(y_test, pred_rf)\n",
        "confusion_matrix_rf = sm.confusion_matrix(y_test, pred_rf)\n",
        "\n",
        "print(f'Test accuracy: {accuracy_rf}')\n",
        "print(f'Test confusion matrix: \\n{confusion_matrix_rf}')"
      ],
      "execution_count": 96,
      "outputs": [
        {
          "output_type": "stream",
          "text": [
            "Test accuracy: 0.9595\n",
            "Test confusion matrix: \n",
            "[[ 968    0    2    0    0    2    5    1    1    1]\n",
            " [   0 1121    2    4    1    1    3    0    3    0]\n",
            " [   7    1  989    9    1    1    3   12    8    1]\n",
            " [   0    0   12  972    1   10    0    7    6    2]\n",
            " [   2    0    4    0  946    2    5    0    3   20]\n",
            " [   7    1    1   22    4  842    6    2    3    4]\n",
            " [   8    4    3    0    5    8  929    0    1    0]\n",
            " [   2    8   22    3    3    1    0  973    4   12]\n",
            " [   5    1    8   15    8   12    9    2  900   14]\n",
            " [   4    5    1   12   16    2    1    5    8  955]]\n"
          ],
          "name": "stdout"
        }
      ]
    },
    {
      "metadata": {
        "id": "SnikBheTAqXa",
        "colab_type": "code",
        "colab": {}
      },
      "cell_type": "code",
      "source": [
        "misclasified_indexes_rf = np.where((y_test != pred_rf))[0]\n",
        "clasified_indexes_rf = np.where((y_test == pred_rf))[0]"
      ],
      "execution_count": 0,
      "outputs": []
    },
    {
      "metadata": {
        "id": "FeFHlFfkCHsw",
        "colab_type": "code",
        "colab": {
          "base_uri": "https://localhost:8080/",
          "height": 414
        },
        "outputId": "e15f59fc-48e0-4c3d-b069-3adc06f453f2"
      },
      "cell_type": "code",
      "source": [
        "# Plot correctly classified images\n",
        "plotImagesByIndex(clasified_indexes_rf[np.random.choice(len(clasified_indexes_rf), size=sample_size, replace=False)], x_test, y_test, pred_rf, suptitle = 'Random Forest: correctly classified images')"
      ],
      "execution_count": 98,
      "outputs": [
        {
          "output_type": "display_data",
          "data": {
            "image/png": "[encoded data removed]",
            "text/plain": [
              "<Figure size 1728x432 with 16 Axes>"
            ]
          },
          "metadata": {
            "tags": []
          }
        }
      ]
    },
    {
      "metadata": {
        "id": "5uzTvzVKCTAx",
        "colab_type": "code",
        "colab": {
          "base_uri": "https://localhost:8080/",
          "height": 414
        },
        "outputId": "cf2e3589-ae18-4718-bff3-ec8251200b6d"
      },
      "cell_type": "code",
      "source": [
        "# Plot misclasified images\n",
        "plotImagesByIndex(misclasified_indexes_rf[np.random.choice(len(misclasified_indexes_rf), size=sample_size, replace=False)], x_test, y_test, pred_rf, suptitle = 'Random Forest: misclassified images')"
      ],
      "execution_count": 99,
      "outputs": [
        {
          "output_type": "display_data",
          "data": {
            "image/png": "[encoded data removed]",
            "text/plain": [
              "<Figure size 1728x432 with 16 Axes>"
            ]
          },
          "metadata": {
            "tags": []
          }
        }
      ]
    },
    {
      "metadata": {
        "id": "dYkcxuFWuOrB",
        "colab_type": "text"
      },
      "cell_type": "markdown",
      "source": [
        "## Gradient Boosted Tree classifier"
      ]
    },
    {
      "metadata": {
        "id": "Qss8h_HDuUv4",
        "colab_type": "code",
        "colab": {}
      },
      "cell_type": "code",
      "source": [
        "from sklearn.ensemble import GradientBoostingClassifier"
      ],
      "execution_count": 0,
      "outputs": []
    },
    {
      "metadata": {
        "id": "lMIOCvq3uZiY",
        "colab_type": "code",
        "colab": {}
      },
      "cell_type": "code",
      "source": [
        "model_gbt = GradientBoostingClassifier(verbose = True, n_estimators = 10)"
      ],
      "execution_count": 0,
      "outputs": []
    },
    {
      "metadata": {
        "id": "zClwGwcYuZea",
        "colab_type": "code",
        "colab": {
          "base_uri": "https://localhost:8080/",
          "height": 357
        },
        "outputId": "89b3f909-8ce7-47e7-e61e-3ba04da502f7"
      },
      "cell_type": "code",
      "source": [
        "model_gbt.fit(x_train_flat, y_train)"
      ],
      "execution_count": 102,
      "outputs": [
        {
          "output_type": "stream",
          "text": [
            "      Iter       Train Loss   Remaining Time \n",
            "         1      114861.2351            6.94m\n",
            "         2      101162.6134            6.15m\n",
            "         3       91021.4627            5.39m\n",
            "         4       83195.2972            4.69m\n",
            "         5       76081.9456            3.92m\n",
            "         6       70264.7887            3.13m\n",
            "         7       65163.6136            2.35m\n",
            "         8       60796.0857            1.57m\n",
            "         9       56783.8175           47.10s\n",
            "        10       53191.0278            0.00s\n"
          ],
          "name": "stdout"
        },
        {
          "output_type": "execute_result",
          "data": {
            "text/plain": [
              "GradientBoostingClassifier(criterion='friedman_mse', init=None,\n",
              "              learning_rate=0.1, loss='deviance', max_depth=3,\n",
              "              max_features=None, max_leaf_nodes=None,\n",
              "              min_impurity_decrease=0.0, min_impurity_split=None,\n",
              "              min_samples_leaf=1, min_samples_split=2,\n",
              "              min_weight_fraction_leaf=0.0, n_estimators=10,\n",
              "              n_iter_no_change=None, presort='auto', random_state=None,\n",
              "              subsample=1.0, tol=0.0001, validation_fraction=0.1,\n",
              "              verbose=True, warm_start=False)"
            ]
          },
          "metadata": {
            "tags": []
          },
          "execution_count": 102
        }
      ]
    },
    {
      "metadata": {
        "id": "ofkoO1ZkxIZT",
        "colab_type": "code",
        "colab": {
          "base_uri": "https://localhost:8080/",
          "height": 34
        },
        "outputId": "323b5617-f39a-427c-a2ab-3b5cd4405062"
      },
      "cell_type": "code",
      "source": [
        "print(f\"Number of trees {len(model_gbt.estimators_)} and number of nodes per tree is {list(map(lambda a: np.sum(list(map(lambda t:t.tree_.node_count, a.flatten()))), model_gbt.estimators_))}\")\n",
        "# display(model_gbt.estimators_)"
      ],
      "execution_count": 130,
      "outputs": [
        {
          "output_type": "stream",
          "text": [
            "Number of trees 10 and number of nodes per tree is [150, 150, 150, 150, 150, 150, 150, 150, 150, 150]\n"
          ],
          "name": "stdout"
        }
      ]
    },
    {
      "metadata": {
        "id": "eOGNvH_wun9Y",
        "colab_type": "code",
        "colab": {}
      },
      "cell_type": "code",
      "source": [
        "pred_gbt = model_gbt.predict(x_test_flat)\n",
        "# use predict_proba to get the probabilities"
      ],
      "execution_count": 0,
      "outputs": []
    },
    {
      "metadata": {
        "id": "l3SCQAMluoH7",
        "colab_type": "code",
        "colab": {
          "base_uri": "https://localhost:8080/",
          "height": 221
        },
        "outputId": "64f3e042-a601-4031-f210-022af39d8f57"
      },
      "cell_type": "code",
      "source": [
        "accuracy_gbt = sm.accuracy_score(y_test, pred_gbt)\n",
        "confusion_matrix_gbt = sm.confusion_matrix(y_test, pred_gbt)\n",
        "\n",
        "print(f'Test accuracy: {accuracy_gbt}')\n",
        "print(f'Test confusion matrix: \\n{confusion_matrix_gbt}')"
      ],
      "execution_count": 135,
      "outputs": [
        {
          "output_type": "stream",
          "text": [
            "Test accuracy: 0.8461\n",
            "Test confusion matrix: \n",
            "[[ 937    1    3    2    2    5    5    3   22    0]\n",
            " [   0 1076   13   14    1    0    7    0   24    0]\n",
            " [  39   15  852   24   22    1   11   15   45    8]\n",
            " [  14    6   37  841    7   16    3   14   35   37]\n",
            " [   4    8    7    6  826   19    6    5   35   66]\n",
            " [  23    7    3   79   36  636   25   11   35   37]\n",
            " [  14    7   15    4   50   29  807    1   31    0]\n",
            " [   8   22   21    9   18    4    0  841    8   97]\n",
            " [   7   31   13   33   25   23    5    7  792   38]\n",
            " [  13   16    7   15   52    7    0   31   15  853]]\n"
          ],
          "name": "stdout"
        }
      ]
    },
    {
      "metadata": {
        "id": "KBVZXMzNJqqm",
        "colab_type": "text"
      },
      "cell_type": "markdown",
      "source": [
        "## Support Vector Machine classifier approach\n",
        "\n",
        "Note:\n",
        "* OneVsRestClassifier is an ensamble approach to the classification, where there is one model fit per class"
      ]
    },
    {
      "metadata": {
        "id": "bFb27Seyh3GR",
        "colab_type": "text"
      },
      "cell_type": "markdown",
      "source": [
        "### Data Preprocessing"
      ]
    },
    {
      "metadata": {
        "id": "y9mB_ARvCZih",
        "colab_type": "code",
        "colab": {}
      },
      "cell_type": "code",
      "source": [
        "from sklearn import svm\n",
        "from sklearn.multiclass import OneVsRestClassifier"
      ],
      "execution_count": 0,
      "outputs": []
    },
    {
      "metadata": {
        "id": "Tcr5dvfnK72F",
        "colab_type": "code",
        "colab": {
          "base_uri": "https://localhost:8080/",
          "height": 51
        },
        "outputId": "5de5847b-02f9-4ccb-dac3-016024c6144e"
      },
      "cell_type": "code",
      "source": [
        "# Model requires one hot encoded data, normally can use label_binarize, but in this case the data is already endoed for keras in variables: y_train_k and y_test_k\n",
        "describeNumpyArray('y_train_k', y_train_k)\n",
        "describeNumpyArray('y_test_k', y_test_k)"
      ],
      "execution_count": 28,
      "outputs": [
        {
          "output_type": "stream",
          "text": [
            "y_train_k: <class 'numpy.ndarray'> of <class 'numpy.float32'>, with shape (60000, 10)\n",
            "y_test_k: <class 'numpy.ndarray'> of <class 'numpy.float32'>, with shape (10000, 10)\n"
          ],
          "name": "stdout"
        }
      ]
    },
    {
      "metadata": {
        "id": "W7R_6sijQbJo",
        "colab_type": "code",
        "colab": {
          "base_uri": "https://localhost:8080/",
          "height": 279
        },
        "outputId": "efd1f42d-6a04-41eb-ff98-c7bb6ab54978"
      },
      "cell_type": "code",
      "source": [
        "# Model does not work well with unscaled data (contrary to the decision trees which do not mind htat much)\n",
        "from sklearn.preprocessing import StandardScaler\n",
        "standart_scaler = StandardScaler()\n",
        "standart_scaler.fit(x_train_flat.astype(float))\n",
        "x_train_flat_ss = standart_scaler.transform(x_train_flat.astype(float))\n",
        "x_test_flat_ss = standart_scaler.transform(x_test_flat.astype(float))\n",
        "\n",
        "# print(f\"Mean (first 20 vals):\\n {standart_scaler.mean_[0:20]}\\nVariance (first 20 vals):\\n{standart_scaler.var_[0:20]}\")  \n",
        "\n",
        "fig, m_axs = plt.subplots(1, 2, figsize = (6, 4))\n",
        "fig.suptitle(\"Plot showing the mean and variance transformation of the scaler\", fontsize=18)\n",
        "m = m_axs[0]\n",
        "m.imshow(standart_scaler.mean_.reshape(28,28), cmap='gray')\n",
        "m.grid(False)\n",
        "m.axis('off')\n",
        "m.set_title(\"Mean transformation\")\n",
        "m = m_axs[1]\n",
        "m.imshow(standart_scaler.var_.reshape(28,28), cmap='gray')\n",
        "m.grid(False)\n",
        "m.axis('off')\n",
        "m.set_title(\"Variance transformation\")"
      ],
      "execution_count": 111,
      "outputs": [
        {
          "output_type": "execute_result",
          "data": {
            "text/plain": [
              "Text(0.5, 1.0, 'Variance transformation')"
            ]
          },
          "metadata": {
            "tags": []
          },
          "execution_count": 111
        },
        {
          "output_type": "display_data",
          "data": {
            "image/png": "[encoded data removed]",
            "text/plain": [
              "<Figure size 432x288 with 2 Axes>"
            ]
          },
          "metadata": {
            "tags": []
          }
        }
      ]
    },
    {
      "metadata": {
        "id": "JQD4eQj8Uu-1",
        "colab_type": "code",
        "colab": {
          "base_uri": "https://localhost:8080/",
          "height": 459
        },
        "outputId": "7fdc0e77-a8b9-45e5-b746-c477eb49cc30"
      },
      "cell_type": "code",
      "source": [
        "from sklearn.decomposition import PCA\n",
        "pca = PCA(n_components=50)\n",
        "pca.fit(x_train_flat.astype(float))\n",
        "x_train_flat_pca = pca.transform(x_train_flat.astype(float))\n",
        "x_test_flat_pca = pca.transform(x_test_flat.astype(float)) \n",
        "\n",
        "print(f\"Variance ratio:\\n {pca.explained_variance_ratio_}\\nSingular values:\\n{pca.singular_values_}\")  \n",
        "describeNumpyArray('x_train_flat_pca', x_train_flat_pca)\n",
        "describeNumpyArray('x_test_flat_pca', x_test_flat_pca)"
      ],
      "execution_count": 30,
      "outputs": [
        {
          "output_type": "stream",
          "text": [
            "Variance ratio:\n",
            " [0.09704664 0.07095924 0.06169089 0.05389419 0.04868797 0.04312231\n",
            " 0.0327193  0.02883895 0.02762029 0.02357001 0.0210919  0.02022991\n",
            " 0.01715818 0.01692111 0.01578641 0.01482953 0.01324561 0.01276897\n",
            " 0.01187263 0.01152684 0.01066166 0.01006713 0.00953573 0.00912544\n",
            " 0.00883405 0.00839319 0.00812579 0.00786366 0.00744733 0.00690859\n",
            " 0.00658093 0.00648148 0.00602615 0.00586582 0.00570021 0.00543626\n",
            " 0.00505785 0.00487855 0.00481418 0.00472251 0.00456732 0.0044479\n",
            " 0.00418471 0.00397982 0.00384855 0.00374952 0.00361848 0.00351213\n",
            " 0.00339487 0.00321547]\n",
            "Singular values:\n",
            "[141291.00226882 120817.18859621 112650.9232813  105291.96728785\n",
            " 100077.18497144  94183.59653123  82040.1120459   77021.85990481\n",
            "  75376.92118237  69631.23338052  65869.14984994  64509.13672727\n",
            "  59410.04495956  58998.19511577  56985.71130704  55231.63286151\n",
            "  52198.76402513  51250.98798485  49419.42656265  48694.43400362\n",
            "  46831.35271871  45506.89087274  44289.55260574  43326.24907624\n",
            "  42628.89707967  41551.60551079  40884.33991922  40219.49667202\n",
            "  39140.33802079  37698.05804318  36793.24045491  36514.15692677\n",
            "  35208.23087626  34736.69298372  34242.82160634  33440.63398934\n",
            "  32255.74046285  31678.86939438  31469.1640513   31168.1323466\n",
            "  30651.73382499  30248.34777219  29339.79877073  28612.52282992\n",
            "  28136.67965313  27772.32964217  27282.68232365  26878.78464414\n",
            "  26426.2615054   25718.53691514]\n",
            "x_train_flat_pca: <class 'numpy.ndarray'> of <class 'numpy.float64'>, with shape (60000, 50)\n",
            "x_test_flat_pca: <class 'numpy.ndarray'> of <class 'numpy.float64'>, with shape (10000, 50)\n"
          ],
          "name": "stdout"
        }
      ]
    },
    {
      "metadata": {
        "id": "_GKAVeSAh8TJ",
        "colab_type": "text"
      },
      "cell_type": "markdown",
      "source": [
        "### Creating of the OneVsRestClassifier"
      ]
    },
    {
      "metadata": {
        "id": "nMjtsWxPL27P",
        "colab_type": "code",
        "colab": {}
      },
      "cell_type": "code",
      "source": [
        "# Best results:\n",
        "# * StandartScaler, kernel='linear', max_iter=1000, probability=False, acc: 0.4045\n",
        "# * PCA(n=50), kernel='linear', max_iter = 1000, probability=False, acc: 0.2789\n",
        "# * PCA(n=17), kernel='rbf', max_iter = 1000, probability=False, acc: 0.1015\n",
        "\n",
        "x_train_flat_red = x_train_flat_ss\n",
        "x_test_flat_red = x_test_flat_ss\n",
        "\n",
        "model_svc = OneVsRestClassifier(svm.SVC(random_state=np.random.RandomState(0), verbose=True, kernel='linear', max_iter=1000, probability=False))"
      ],
      "execution_count": 0,
      "outputs": []
    },
    {
      "metadata": {
        "id": "rxfjOq_DL23O",
        "colab_type": "code",
        "colab": {
          "base_uri": "https://localhost:8080/",
          "height": 479
        },
        "outputId": "4f5ee3d5-20cc-40e8-ca8e-7681a0115d2b"
      },
      "cell_type": "code",
      "source": [
        "model_svc.fit(x_train_flat_red, y_train_k)"
      ],
      "execution_count": 47,
      "outputs": [
        {
          "output_type": "stream",
          "text": [
            "[LibSVM]"
          ],
          "name": "stdout"
        },
        {
          "output_type": "stream",
          "text": [
            "/usr/local/lib/python3.6/dist-packages/sklearn/svm/base.py:244: ConvergenceWarning: Solver terminated early (max_iter=1000).  Consider pre-processing your data with StandardScaler or MinMaxScaler.\n",
            "  % self.max_iter, ConvergenceWarning)\n"
          ],
          "name": "stderr"
        },
        {
          "output_type": "stream",
          "text": [
            "[LibSVM]"
          ],
          "name": "stdout"
        },
        {
          "output_type": "stream",
          "text": [
            "/usr/local/lib/python3.6/dist-packages/sklearn/svm/base.py:244: ConvergenceWarning: Solver terminated early (max_iter=1000).  Consider pre-processing your data with StandardScaler or MinMaxScaler.\n",
            "  % self.max_iter, ConvergenceWarning)\n"
          ],
          "name": "stderr"
        },
        {
          "output_type": "stream",
          "text": [
            "[LibSVM]"
          ],
          "name": "stdout"
        },
        {
          "output_type": "stream",
          "text": [
            "/usr/local/lib/python3.6/dist-packages/sklearn/svm/base.py:244: ConvergenceWarning: Solver terminated early (max_iter=1000).  Consider pre-processing your data with StandardScaler or MinMaxScaler.\n",
            "  % self.max_iter, ConvergenceWarning)\n"
          ],
          "name": "stderr"
        },
        {
          "output_type": "stream",
          "text": [
            "[LibSVM]"
          ],
          "name": "stdout"
        },
        {
          "output_type": "stream",
          "text": [
            "/usr/local/lib/python3.6/dist-packages/sklearn/svm/base.py:244: ConvergenceWarning: Solver terminated early (max_iter=1000).  Consider pre-processing your data with StandardScaler or MinMaxScaler.\n",
            "  % self.max_iter, ConvergenceWarning)\n"
          ],
          "name": "stderr"
        },
        {
          "output_type": "stream",
          "text": [
            "[LibSVM]"
          ],
          "name": "stdout"
        },
        {
          "output_type": "stream",
          "text": [
            "/usr/local/lib/python3.6/dist-packages/sklearn/svm/base.py:244: ConvergenceWarning: Solver terminated early (max_iter=1000).  Consider pre-processing your data with StandardScaler or MinMaxScaler.\n",
            "  % self.max_iter, ConvergenceWarning)\n"
          ],
          "name": "stderr"
        },
        {
          "output_type": "stream",
          "text": [
            "[LibSVM]"
          ],
          "name": "stdout"
        },
        {
          "output_type": "stream",
          "text": [
            "/usr/local/lib/python3.6/dist-packages/sklearn/svm/base.py:244: ConvergenceWarning: Solver terminated early (max_iter=1000).  Consider pre-processing your data with StandardScaler or MinMaxScaler.\n",
            "  % self.max_iter, ConvergenceWarning)\n"
          ],
          "name": "stderr"
        },
        {
          "output_type": "stream",
          "text": [
            "[LibSVM]"
          ],
          "name": "stdout"
        },
        {
          "output_type": "stream",
          "text": [
            "/usr/local/lib/python3.6/dist-packages/sklearn/svm/base.py:244: ConvergenceWarning: Solver terminated early (max_iter=1000).  Consider pre-processing your data with StandardScaler or MinMaxScaler.\n",
            "  % self.max_iter, ConvergenceWarning)\n"
          ],
          "name": "stderr"
        },
        {
          "output_type": "stream",
          "text": [
            "[LibSVM]"
          ],
          "name": "stdout"
        },
        {
          "output_type": "stream",
          "text": [
            "/usr/local/lib/python3.6/dist-packages/sklearn/svm/base.py:244: ConvergenceWarning: Solver terminated early (max_iter=1000).  Consider pre-processing your data with StandardScaler or MinMaxScaler.\n",
            "  % self.max_iter, ConvergenceWarning)\n"
          ],
          "name": "stderr"
        },
        {
          "output_type": "stream",
          "text": [
            "[LibSVM]"
          ],
          "name": "stdout"
        },
        {
          "output_type": "stream",
          "text": [
            "/usr/local/lib/python3.6/dist-packages/sklearn/svm/base.py:244: ConvergenceWarning: Solver terminated early (max_iter=1000).  Consider pre-processing your data with StandardScaler or MinMaxScaler.\n",
            "  % self.max_iter, ConvergenceWarning)\n"
          ],
          "name": "stderr"
        },
        {
          "output_type": "stream",
          "text": [
            "[LibSVM]"
          ],
          "name": "stdout"
        },
        {
          "output_type": "stream",
          "text": [
            "/usr/local/lib/python3.6/dist-packages/sklearn/svm/base.py:244: ConvergenceWarning: Solver terminated early (max_iter=1000).  Consider pre-processing your data with StandardScaler or MinMaxScaler.\n",
            "  % self.max_iter, ConvergenceWarning)\n"
          ],
          "name": "stderr"
        },
        {
          "output_type": "execute_result",
          "data": {
            "text/plain": [
              "OneVsRestClassifier(estimator=SVC(C=1.0, cache_size=200, class_weight=None, coef0=0.0,\n",
              "  decision_function_shape='ovr', degree=3, gamma='auto_deprecated',\n",
              "  kernel='linear', max_iter=1000, probability=False,\n",
              "  random_state=<mtrand.RandomState object at 0x7f18918b1090>,\n",
              "  shrinking=True, tol=0.001, verbose=True),\n",
              "          n_jobs=None)"
            ]
          },
          "metadata": {
            "tags": []
          },
          "execution_count": 47
        }
      ]
    },
    {
      "metadata": {
        "id": "jG8L1l4vNST3",
        "colab_type": "code",
        "colab": {}
      },
      "cell_type": "code",
      "source": [
        "pred_svc = model_svc.decision_function(x_test_flat_red)"
      ],
      "execution_count": 0,
      "outputs": []
    },
    {
      "metadata": {
        "id": "SNoQS2Y0Q8RU",
        "colab_type": "code",
        "colab": {
          "base_uri": "https://localhost:8080/",
          "height": 221
        },
        "outputId": "f5b9ca83-88fb-4867-d45a-6ef3adfa695e"
      },
      "cell_type": "code",
      "source": [
        "pred_svc_label = np.argmax(pred_svc, axis=1)\n",
        "accuracy_svc = sm.accuracy_score(y_test, pred_svc_label)\n",
        "confusion_matrix_svc = sm.confusion_matrix(y_test, pred_svc_label)\n",
        "\n",
        "print(f'Test accuracy: {accuracy_svc}')\n",
        "print(f'Test confusion matrix: \\n{confusion_matrix_svc}')"
      ],
      "execution_count": 49,
      "outputs": [
        {
          "output_type": "stream",
          "text": [
            "Test accuracy: 0.2789\n",
            "Test confusion matrix: \n",
            "[[378   0 116  66  48  25  22 110 170  45]\n",
            " [  0   1   5  16   0 847   0   0 101 165]\n",
            " [102  38 298  11  36 380  88  12  52  15]\n",
            " [ 33 140  18  85   3  62  22  64 207 376]\n",
            " [  6   0  88 128 283 202  10  62 119  84]\n",
            " [  3   0  54  85   7 157  27  92 253 214]\n",
            " [ 36   0  36 145  32 235 435   4   4  31]\n",
            " [  3   3 163  14   9  99   1 404 273  59]\n",
            " [  4   0 150  60   2 115   8  14 354 267]\n",
            " [ 29   0  74 120  50  56  11  42 233 394]]\n"
          ],
          "name": "stdout"
        }
      ]
    },
    {
      "metadata": {
        "id": "cNOhrdByGjbz",
        "colab_type": "code",
        "colab": {}
      },
      "cell_type": "code",
      "source": [
        "# # do the ROC curve\n",
        "\n",
        "# fpr = dict()\n",
        "# tpr = dict()\n",
        "# roc_auc = dict()\n",
        "# for i in range(num_classes):\n",
        "#     fpr[i], tpr[i], _ = sm.roc_curve(y_test[:, i], pred_rf[:, i])\n",
        "#     roc_auc[i] = sm.auc(fpr[i], tpr[i])\n",
        "\n",
        "# # Compute micro-average ROC curve and ROC area\n",
        "# fpr[\"micro\"], tpr[\"micro\"], _ = sm.roc_curve(y_test.ravel(), pred_rf.ravel())\n",
        "# roc_auc[\"micro\"] = sm.auc(fpr[\"micro\"], tpr[\"micro\"])"
      ],
      "execution_count": 0,
      "outputs": []
    },
    {
      "metadata": {
        "id": "D5qwzOGYiD22",
        "colab_type": "text"
      },
      "cell_type": "markdown",
      "source": [
        "## Multiclass logistic regression apporach\n",
        "\n",
        "Note:\n",
        "* due to high dimentionality, it is recommended to use Ridge L2 penalized mogistic regression"
      ]
    },
    {
      "metadata": {
        "id": "99vpEWaliG_X",
        "colab_type": "code",
        "colab": {}
      },
      "cell_type": "code",
      "source": [
        "from sklearn.linear_model import LogisticRegression, SGDClassifier"
      ],
      "execution_count": 0,
      "outputs": []
    },
    {
      "metadata": {
        "id": "cH-AZdqwkCqQ",
        "colab_type": "code",
        "colab": {}
      },
      "cell_type": "code",
      "source": [
        "# LogisticRegression, penalty='l2', solver='lbfgs', acc: 0.9255\n",
        "# SGDClassifier, penalty='l2', max_iter=1000, acc: 0.8918\n",
        "\n",
        "model_lr = LogisticRegression(random_state=np.random.RandomState(0), verbose=True, n_jobs = core_count, multi_class='multinomial', penalty='l2', solver='lbfgs')\n",
        "# model_lr = SGDClassifier(random_state=np.random.RandomState(0), verbose=False, n_jobs = core_count, penalty='l2', max_iter=1000)"
      ],
      "execution_count": 0,
      "outputs": []
    },
    {
      "metadata": {
        "id": "KFWnOi1qkTta",
        "colab_type": "code",
        "colab": {
          "base_uri": "https://localhost:8080/",
          "height": 136
        },
        "outputId": "93dc8b5c-0511-4d89-dfd5-89a55a72e403"
      },
      "cell_type": "code",
      "source": [
        "x_train_flat_red = x_train_flat\n",
        "x_test_flat_red = x_test_flat\n",
        "\n",
        "model_lr.fit(x_train_flat_red, y_train)"
      ],
      "execution_count": 138,
      "outputs": [
        {
          "output_type": "stream",
          "text": [
            "[Parallel(n_jobs=2)]: Using backend LokyBackend with 2 concurrent workers.\n",
            "[Parallel(n_jobs=2)]: Done   1 out of   1 | elapsed:  1.5min finished\n"
          ],
          "name": "stderr"
        },
        {
          "output_type": "execute_result",
          "data": {
            "text/plain": [
              "LogisticRegression(C=1.0, class_weight=None, dual=False, fit_intercept=True,\n",
              "          intercept_scaling=1, max_iter=100, multi_class='multinomial',\n",
              "          n_jobs=2, penalty='l2',\n",
              "          random_state=<mtrand.RandomState object at 0x7fb5018b2870>,\n",
              "          solver='lbfgs', tol=0.0001, verbose=True, warm_start=False)"
            ]
          },
          "metadata": {
            "tags": []
          },
          "execution_count": 138
        }
      ]
    },
    {
      "metadata": {
        "id": "I0gXWZCzqjwm",
        "colab_type": "code",
        "colab": {
          "base_uri": "https://localhost:8080/",
          "height": 415
        },
        "outputId": "4b0550bd-6024-4b19-a047-5eb7d54bdc7c"
      },
      "cell_type": "code",
      "source": [
        "lr_count = model_lr.coef_.shape[0]\n",
        "lr_rows = 2\n",
        "lr_columns = int(lr_count/lr_rows)\n",
        "\n",
        "fig, m_axs = plt.subplots(lr_rows, lr_columns, figsize = (lr_columns*3, lr_rows*3))\n",
        "fig.suptitle(\"Plot showing the weights of the LogReg model per each class\", fontsize=18)\n",
        "for i in range(0, lr_count):\n",
        "  current_row = int(np.floor(i/lr_columns))\n",
        "  current_column = i%lr_columns\n",
        "  m = m_axs[current_row][current_column]\n",
        "  m.imshow(model_lr.coef_[i].reshape(28,28), cmap='gray')\n",
        "  m.grid(False)\n",
        "  m.axis('off')\n",
        "  m.set_title(f\"Weights for class: {i}\")"
      ],
      "execution_count": 140,
      "outputs": [
        {
          "output_type": "display_data",
          "data": {
            "image/png": "[encoded data removed]",
            "text/plain": [
              "<Figure size 1080x432 with 10 Axes>"
            ]
          },
          "metadata": {
            "tags": []
          }
        }
      ]
    },
    {
      "metadata": {
        "id": "IA-ymJDtkZl5",
        "colab_type": "code",
        "colab": {}
      },
      "cell_type": "code",
      "source": [
        "# predict directly the labels\n",
        "# pred_lr = model_lr.predict(x_test_flat_red)\n",
        "\n",
        "# predict the probabilities first and then labels\n",
        "pred_prob_lr = model_lr.predict_proba(x_test_flat_red)\n",
        "pred_lr = np.argmax(pred_prob_lr, axis=1)"
      ],
      "execution_count": 0,
      "outputs": []
    },
    {
      "metadata": {
        "id": "4x3wUeiU6Vy0",
        "colab_type": "code",
        "colab": {
          "base_uri": "https://localhost:8080/",
          "height": 294
        },
        "outputId": "04bf08b5-332a-4822-98bf-04a7601c6706"
      },
      "cell_type": "code",
      "source": [
        "# fpr, tpr, _ = sm.roc_curve(y_test,  pred_prob_lr)\n",
        "# auc = metrics.roc_auc_score(y_test, pred_prob_lr)\n",
        "# plt.plot(fpr,tpr,label=\"data 1, auc=\"+str(auc))\n",
        "# plt.legend(loc=4)\n",
        "# plt.show()\n",
        "\n",
        "# Compute ROC curve and ROC area for each class\n",
        "fpr = dict()\n",
        "tpr = dict()\n",
        "roc_auc = dict()\n",
        "for i in range(num_classes):\n",
        "    fpr[i], tpr[i], _ = sm.roc_curve(y_test_k[:, i], pred_prob_lr[:, i])\n",
        "    roc_auc[i] = sm.auc(fpr[i], tpr[i])\n",
        "\n",
        "# Compute micro-average ROC curve and ROC area\n",
        "fpr[\"micro\"], tpr[\"micro\"], _ = sm.roc_curve(y_test_k.ravel(), pred_prob_lr.ravel())\n",
        "roc_auc[\"micro\"] = sm.auc(fpr[\"micro\"], tpr[\"micro\"])\n",
        "\n",
        "# Plot ROC curve\n",
        "plt.figure()\n",
        "plt.plot(fpr[\"micro\"], tpr[\"micro\"], label=f'micro-average ROC ({roc_auc[\"micro\"]:0.2f})')\n",
        "for i in range(num_classes):\n",
        "    plt.plot(fpr[i], tpr[i], label=f'ROC {i} (area = {roc_auc[i]:0.2f})')\n",
        "\n",
        "plt.plot([0, 1], [0, 1], 'k--')\n",
        "plt.xlim([0.0, 1.0])\n",
        "plt.ylim([0.0, 1.05])\n",
        "plt.xlabel('False Positive Rate')\n",
        "plt.ylabel('True Positive Rate')\n",
        "plt.title('ROC curves for each class in the multi-class classifier')\n",
        "plt.legend(loc=\"lower right\")\n",
        "plt.show()"
      ],
      "execution_count": 180,
      "outputs": [
        {
          "output_type": "display_data",
          "data": {
            "image/png": "[encoded data removed]",
            "text/plain": [
              "<Figure size 432x288 with 1 Axes>"
            ]
          },
          "metadata": {
            "tags": []
          }
        }
      ]
    },
    {
      "metadata": {
        "id": "RtTKkRj9k7-0",
        "colab_type": "code",
        "colab": {
          "base_uri": "https://localhost:8080/",
          "height": 343
        },
        "outputId": "2a99d41c-47dc-4575-9459-8d5cfb6d1de4"
      },
      "cell_type": "code",
      "source": [
        "accuracy_lr = sm.accuracy_score(y_test, pred_lr)\n",
        "precision_lr = sm.precision_score(y_test, pred_lr, average = 'micro')\n",
        "recall_lr = sm.recall_score(y_test, pred_lr, average = 'micro')\n",
        "confusion_matrix_lr = sm.confusion_matrix(y_test, pred_lr)\n",
        "\n",
        "import seaborn as sns\n",
        "\n",
        "class_names=list(range(0,num_classes)) # name  of classes\n",
        "fig, ax = plt.subplots()\n",
        "tick_marks = np.arange(len(class_names))\n",
        "plt.xticks(tick_marks, class_names)\n",
        "plt.yticks(tick_marks, class_names)\n",
        "# create heatmap\n",
        "sns.heatmap(pd.DataFrame(confusion_matrix_lr), annot=True, cmap=\"YlGnBu\" ,fmt='g')\n",
        "ax.xaxis.set_label_position(\"bottom\")\n",
        "plt.tight_layout()\n",
        "plt.title('Confusion matrix', y=1.2)\n",
        "plt.ylabel('Actual label')\n",
        "plt.xlabel('Predicted label')\n",
        "\n"
      ],
      "execution_count": 160,
      "outputs": [
        {
          "output_type": "execute_result",
          "data": {
            "text/plain": [
              "Text(0.5, 15.0, 'Predicted label')"
            ]
          },
          "metadata": {
            "tags": []
          },
          "execution_count": 160
        },
        {
          "output_type": "display_data",
          "data": {
            "image/png": "[encoded data removed]",
            "text/plain": [
              "<Figure size 432x288 with 2 Axes>"
            ]
          },
          "metadata": {
            "tags": []
          }
        }
      ]
    },
    {
      "metadata": {
        "id": "3HgnMXia_krb",
        "colab_type": "code",
        "colab": {}
      },
      "cell_type": "code",
      "source": [
        "import seaborn as sns\n",
        "\n",
        "def plotConfusionMatrixAndRocCurve(y_onehot_set, pred_prob_set, y_set, pred_set):\n",
        "  ##### ROC Curves\n",
        "  # compute per-class ROC curves\n",
        "  fpr = dict()\n",
        "  tpr = dict()\n",
        "  roc_auc = dict()\n",
        "  for i in range(num_classes):\n",
        "      fpr[i], tpr[i], _ = sm.roc_curve(y_onehot_set[:, i], pred_prob_set[:, i])\n",
        "      roc_auc[i] = sm.auc(fpr[i], tpr[i])\n",
        "\n",
        "  # Compute micro-average ROC curve and ROC area\n",
        "  fpr[\"micro\"], tpr[\"micro\"], _ = sm.roc_curve(y_onehot_set.ravel(), pred_prob_set.ravel())\n",
        "  roc_auc[\"micro\"] = sm.auc(fpr[\"micro\"], tpr[\"micro\"])\n",
        "\n",
        "  # Plot ROC curve\n",
        "  fig, m_axs = plt.subplots(1, 2, figsize = (16, 6))\n",
        "  m_axs[0].plot(fpr[\"micro\"], tpr[\"micro\"], label=f'micro-average ROC ({roc_auc[\"micro\"]:0.2f})')\n",
        "  for i in range(num_classes):\n",
        "      m_axs[0].plot(fpr[i], tpr[i], label=f'ROC {i} (area = {roc_auc[i]:0.2f})')\n",
        "\n",
        "  m_axs[0].plot([0, 1], [0, 1], 'k--')\n",
        "  m_axs[0].set_xlim([0.0, 1.0])\n",
        "  m_axs[0].set_ylim([0.0, 1.05])\n",
        "  m_axs[0].set_xlabel('False Positive Rate')\n",
        "  m_axs[0].set_ylabel('True Positive Rate')\n",
        "  m_axs[0].set_title('ROC curves for each class in the multi-class classifier')\n",
        "  m_axs[0].legend(loc=\"lower right\")\n",
        "\n",
        "  ##### Confusion Marix\n",
        "  accuracy = sm.accuracy_score(y_set, pred_set)\n",
        "  precision = sm.precision_score(y_set, pred_set, average = 'micro')\n",
        "  recall = sm.recall_score(y_set, pred_set, average = 'micro')\n",
        "  confusion_matrix = sm.confusion_matrix(y_set, pred_set)\n",
        "  \n",
        "  # Remember you can just print it, no need for the advanced plotting :)\n",
        "  # print(f'Test accuracy: {accuracy_lr}')\n",
        "  # print(f'Test confusion matrix: \\n{confusion_matrix_lr}')\n",
        "\n",
        "  class_names=list(range(0,num_classes)) # name  of classes\n",
        "  tick_marks = np.arange(len(class_names))\n",
        "  m_axs[1].set_xticks(tick_marks, class_names)\n",
        "  m_axs[1].set_yticks(tick_marks, class_names)\n",
        "  # create heatmap\n",
        "  sns.heatmap(pd.DataFrame(confusion_matrix), annot=True, cmap=\"YlGnBu\" ,fmt='g')\n",
        "  m_axs[1].xaxis.set_label_position(\"bottom\")\n",
        "#   m_axs[1].set_tight_layout()\n",
        "  m_axs[1].set_title('Confusion matrix', y=1.2)\n",
        "  m_axs[1].set_ylabel('Actual label')\n",
        "  m_axs[1].set_xlabel('Predicted label')\n",
        "\n",
        "  # print(f'Test accuracy: {accuracy_lr}')\n",
        "  # print(f'Test confusion matrix: \\n{confusion_matrix_lr}')"
      ],
      "execution_count": 0,
      "outputs": []
    },
    {
      "metadata": {
        "id": "GBUcUnxSApwD",
        "colab_type": "code",
        "colab": {
          "base_uri": "https://localhost:8080/",
          "height": 403
        },
        "outputId": "09cfc38d-70e4-4f51-f8fb-9c10ed318c09"
      },
      "cell_type": "code",
      "source": [
        "plotConfusionMatrixAndRocCurve(y_test_k, pred_prob_lr, y_test, pred_lr)"
      ],
      "execution_count": 204,
      "outputs": [
        {
          "output_type": "display_data",
          "data": {
            "image/png": "[encoded data removed]",
            "text/plain": [
              "<Figure size 1152x432 with 3 Axes>"
            ]
          },
          "metadata": {
            "tags": []
          }
        }
      ]
    },
    {
      "metadata": {
        "id": "LG9rse-3lBTM",
        "colab_type": "code",
        "colab": {}
      },
      "cell_type": "code",
      "source": [
        "misclasified_indexes_lr = np.where((y_test != pred_lr))[0]\n",
        "clasified_indexes_lr = np.where((y_test == pred_lr))[0]"
      ],
      "execution_count": 0,
      "outputs": []
    },
    {
      "metadata": {
        "id": "TP-mEmLVpPVi",
        "colab_type": "code",
        "colab": {
          "base_uri": "https://localhost:8080/",
          "height": 414
        },
        "outputId": "517fd58f-eaa5-4cff-a86a-b93c60cde634"
      },
      "cell_type": "code",
      "source": [
        "# Plot correctly classified images\n",
        "plotImagesByIndex(clasified_indexes_lr[np.random.choice(len(clasified_indexes_lr), size=sample_size, replace=False)], x_test, y_test, pred_lr, suptitle = 'Logistic Regression: correctly classified images')"
      ],
      "execution_count": 143,
      "outputs": [
        {
          "output_type": "display_data",
          "data": {
            "image/png": "[encoded data removed]",
            "text/plain": [
              "<Figure size 1728x432 with 16 Axes>"
            ]
          },
          "metadata": {
            "tags": []
          }
        }
      ]
    },
    {
      "metadata": {
        "id": "gwY1-I8DpeNT",
        "colab_type": "code",
        "colab": {
          "base_uri": "https://localhost:8080/",
          "height": 414
        },
        "outputId": "88864219-58e1-4834-ce9e-8a82fc38817f"
      },
      "cell_type": "code",
      "source": [
        "# Plot correctly classified images\n",
        "plotImagesByIndex(misclasified_indexes_lr[np.random.choice(len(misclasified_indexes_lr), size=sample_size, replace=False)], x_test, y_test, pred_lr, suptitle = 'Logistic Regression: misclassified images')"
      ],
      "execution_count": 144,
      "outputs": [
        {
          "output_type": "display_data",
          "data": {
            "image/png": "[encoded data removed]",
            "text/plain": [
              "<Figure size 1728x432 with 16 Axes>"
            ]
          },
          "metadata": {
            "tags": []
          }
        }
      ]
    },
    {
      "metadata": {
        "id": "LUWb14LQpsOA",
        "colab_type": "code",
        "colab": {}
      },
      "cell_type": "code",
      "source": [
        ""
      ],
      "execution_count": 0,
      "outputs": []
    }
  ]
}